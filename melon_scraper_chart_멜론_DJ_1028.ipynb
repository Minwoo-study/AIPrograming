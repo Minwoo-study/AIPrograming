{
  "nbformat": 4,
  "nbformat_minor": 0,
  "metadata": {
    "kernelspec": {
      "name": "python3810jvsc74a57bd0b8a7d7d1c5e2099f42ad09c6e0a4434b944a69b04b6b901eb425929f73aeaf84",
      "display_name": "Python 3.8.10 64-bit ('python38': conda)"
    },
    "language_info": {
      "name": "python",
      "version": "3.8.10"
    },
    "metadata": {
      "interpreter": {
        "hash": "58d1e930594181ec3669602426326bbb03acfc02a8352db7bdf2b42a9eb5dc94"
      }
    },
    "orig_nbformat": 2,
    "colab": {
      "name": "melon_scraper_chart_멜론 DJ_1028.ipynb",
      "provenance": [],
      "include_colab_link": true
    },
    "widgets": {
      "application/vnd.jupyter.widget-state+json": {
        "014d951a25374385a870e680872200f0": {
          "model_module": "@jupyter-widgets/controls",
          "model_name": "HBoxModel",
          "model_module_version": "1.5.0",
          "state": {
            "_view_name": "HBoxView",
            "_dom_classes": [],
            "_model_name": "HBoxModel",
            "_view_module": "@jupyter-widgets/controls",
            "_model_module_version": "1.5.0",
            "_view_count": null,
            "_view_module_version": "1.5.0",
            "box_style": "",
            "layout": "IPY_MODEL_9aab2a0d836d4e5b9d7b43e830be23bf",
            "_model_module": "@jupyter-widgets/controls",
            "children": [
              "IPY_MODEL_ea30eab7ab1e4fd5a6ca84ae3a0c87dd",
              "IPY_MODEL_9af9a598b580468da3f7a585d6c052c7",
              "IPY_MODEL_07bb4e407348414f8cb2bf91c7287d6f"
            ]
          }
        },
        "9aab2a0d836d4e5b9d7b43e830be23bf": {
          "model_module": "@jupyter-widgets/base",
          "model_name": "LayoutModel",
          "model_module_version": "1.2.0",
          "state": {
            "_view_name": "LayoutView",
            "grid_template_rows": null,
            "right": null,
            "justify_content": null,
            "_view_module": "@jupyter-widgets/base",
            "overflow": null,
            "_model_module_version": "1.2.0",
            "_view_count": null,
            "flex_flow": null,
            "width": null,
            "min_width": null,
            "border": null,
            "align_items": null,
            "bottom": null,
            "_model_module": "@jupyter-widgets/base",
            "top": null,
            "grid_column": null,
            "overflow_y": null,
            "overflow_x": null,
            "grid_auto_flow": null,
            "grid_area": null,
            "grid_template_columns": null,
            "flex": null,
            "_model_name": "LayoutModel",
            "justify_items": null,
            "grid_row": null,
            "max_height": null,
            "align_content": null,
            "visibility": null,
            "align_self": null,
            "height": null,
            "min_height": null,
            "padding": null,
            "grid_auto_rows": null,
            "grid_gap": null,
            "max_width": null,
            "order": null,
            "_view_module_version": "1.2.0",
            "grid_template_areas": null,
            "object_position": null,
            "object_fit": null,
            "grid_auto_columns": null,
            "margin": null,
            "display": null,
            "left": null
          }
        },
        "ea30eab7ab1e4fd5a6ca84ae3a0c87dd": {
          "model_module": "@jupyter-widgets/controls",
          "model_name": "HTMLModel",
          "model_module_version": "1.5.0",
          "state": {
            "_view_name": "HTMLView",
            "style": "IPY_MODEL_b8ea8c2a99a24e6d9f37068f9e6faf75",
            "_dom_classes": [],
            "description": "",
            "_model_name": "HTMLModel",
            "placeholder": "​",
            "_view_module": "@jupyter-widgets/controls",
            "_model_module_version": "1.5.0",
            "value": "  5%",
            "_view_count": null,
            "_view_module_version": "1.5.0",
            "description_tooltip": null,
            "_model_module": "@jupyter-widgets/controls",
            "layout": "IPY_MODEL_e6ba53673a4442e3b6a58bb7c575fd78"
          }
        },
        "9af9a598b580468da3f7a585d6c052c7": {
          "model_module": "@jupyter-widgets/controls",
          "model_name": "FloatProgressModel",
          "model_module_version": "1.5.0",
          "state": {
            "_view_name": "ProgressView",
            "style": "IPY_MODEL_5da0dbb486d240beb4aefb3b91d7669e",
            "_dom_classes": [],
            "description": "",
            "_model_name": "FloatProgressModel",
            "bar_style": "danger",
            "max": 20,
            "_view_module": "@jupyter-widgets/controls",
            "_model_module_version": "1.5.0",
            "value": 1,
            "_view_count": null,
            "_view_module_version": "1.5.0",
            "orientation": "horizontal",
            "min": 0,
            "description_tooltip": null,
            "_model_module": "@jupyter-widgets/controls",
            "layout": "IPY_MODEL_2abc04b7d47e412f971049e9a61550d5"
          }
        },
        "07bb4e407348414f8cb2bf91c7287d6f": {
          "model_module": "@jupyter-widgets/controls",
          "model_name": "HTMLModel",
          "model_module_version": "1.5.0",
          "state": {
            "_view_name": "HTMLView",
            "style": "IPY_MODEL_1667c0e3573b4165950b6947200032c1",
            "_dom_classes": [],
            "description": "",
            "_model_name": "HTMLModel",
            "placeholder": "​",
            "_view_module": "@jupyter-widgets/controls",
            "_model_module_version": "1.5.0",
            "value": " 1/20 [00:11&lt;01:46,  5.63s/it]",
            "_view_count": null,
            "_view_module_version": "1.5.0",
            "description_tooltip": null,
            "_model_module": "@jupyter-widgets/controls",
            "layout": "IPY_MODEL_a39561b530e64fa7b84c5c5d34d5d48c"
          }
        },
        "b8ea8c2a99a24e6d9f37068f9e6faf75": {
          "model_module": "@jupyter-widgets/controls",
          "model_name": "DescriptionStyleModel",
          "model_module_version": "1.5.0",
          "state": {
            "_view_name": "StyleView",
            "_model_name": "DescriptionStyleModel",
            "description_width": "",
            "_view_module": "@jupyter-widgets/base",
            "_model_module_version": "1.5.0",
            "_view_count": null,
            "_view_module_version": "1.2.0",
            "_model_module": "@jupyter-widgets/controls"
          }
        },
        "e6ba53673a4442e3b6a58bb7c575fd78": {
          "model_module": "@jupyter-widgets/base",
          "model_name": "LayoutModel",
          "model_module_version": "1.2.0",
          "state": {
            "_view_name": "LayoutView",
            "grid_template_rows": null,
            "right": null,
            "justify_content": null,
            "_view_module": "@jupyter-widgets/base",
            "overflow": null,
            "_model_module_version": "1.2.0",
            "_view_count": null,
            "flex_flow": null,
            "width": null,
            "min_width": null,
            "border": null,
            "align_items": null,
            "bottom": null,
            "_model_module": "@jupyter-widgets/base",
            "top": null,
            "grid_column": null,
            "overflow_y": null,
            "overflow_x": null,
            "grid_auto_flow": null,
            "grid_area": null,
            "grid_template_columns": null,
            "flex": null,
            "_model_name": "LayoutModel",
            "justify_items": null,
            "grid_row": null,
            "max_height": null,
            "align_content": null,
            "visibility": null,
            "align_self": null,
            "height": null,
            "min_height": null,
            "padding": null,
            "grid_auto_rows": null,
            "grid_gap": null,
            "max_width": null,
            "order": null,
            "_view_module_version": "1.2.0",
            "grid_template_areas": null,
            "object_position": null,
            "object_fit": null,
            "grid_auto_columns": null,
            "margin": null,
            "display": null,
            "left": null
          }
        },
        "5da0dbb486d240beb4aefb3b91d7669e": {
          "model_module": "@jupyter-widgets/controls",
          "model_name": "ProgressStyleModel",
          "model_module_version": "1.5.0",
          "state": {
            "_view_name": "StyleView",
            "_model_name": "ProgressStyleModel",
            "description_width": "",
            "_view_module": "@jupyter-widgets/base",
            "_model_module_version": "1.5.0",
            "_view_count": null,
            "_view_module_version": "1.2.0",
            "bar_color": null,
            "_model_module": "@jupyter-widgets/controls"
          }
        },
        "2abc04b7d47e412f971049e9a61550d5": {
          "model_module": "@jupyter-widgets/base",
          "model_name": "LayoutModel",
          "model_module_version": "1.2.0",
          "state": {
            "_view_name": "LayoutView",
            "grid_template_rows": null,
            "right": null,
            "justify_content": null,
            "_view_module": "@jupyter-widgets/base",
            "overflow": null,
            "_model_module_version": "1.2.0",
            "_view_count": null,
            "flex_flow": null,
            "width": null,
            "min_width": null,
            "border": null,
            "align_items": null,
            "bottom": null,
            "_model_module": "@jupyter-widgets/base",
            "top": null,
            "grid_column": null,
            "overflow_y": null,
            "overflow_x": null,
            "grid_auto_flow": null,
            "grid_area": null,
            "grid_template_columns": null,
            "flex": null,
            "_model_name": "LayoutModel",
            "justify_items": null,
            "grid_row": null,
            "max_height": null,
            "align_content": null,
            "visibility": null,
            "align_self": null,
            "height": null,
            "min_height": null,
            "padding": null,
            "grid_auto_rows": null,
            "grid_gap": null,
            "max_width": null,
            "order": null,
            "_view_module_version": "1.2.0",
            "grid_template_areas": null,
            "object_position": null,
            "object_fit": null,
            "grid_auto_columns": null,
            "margin": null,
            "display": null,
            "left": null
          }
        },
        "1667c0e3573b4165950b6947200032c1": {
          "model_module": "@jupyter-widgets/controls",
          "model_name": "DescriptionStyleModel",
          "model_module_version": "1.5.0",
          "state": {
            "_view_name": "StyleView",
            "_model_name": "DescriptionStyleModel",
            "description_width": "",
            "_view_module": "@jupyter-widgets/base",
            "_model_module_version": "1.5.0",
            "_view_count": null,
            "_view_module_version": "1.2.0",
            "_model_module": "@jupyter-widgets/controls"
          }
        },
        "a39561b530e64fa7b84c5c5d34d5d48c": {
          "model_module": "@jupyter-widgets/base",
          "model_name": "LayoutModel",
          "model_module_version": "1.2.0",
          "state": {
            "_view_name": "LayoutView",
            "grid_template_rows": null,
            "right": null,
            "justify_content": null,
            "_view_module": "@jupyter-widgets/base",
            "overflow": null,
            "_model_module_version": "1.2.0",
            "_view_count": null,
            "flex_flow": null,
            "width": null,
            "min_width": null,
            "border": null,
            "align_items": null,
            "bottom": null,
            "_model_module": "@jupyter-widgets/base",
            "top": null,
            "grid_column": null,
            "overflow_y": null,
            "overflow_x": null,
            "grid_auto_flow": null,
            "grid_area": null,
            "grid_template_columns": null,
            "flex": null,
            "_model_name": "LayoutModel",
            "justify_items": null,
            "grid_row": null,
            "max_height": null,
            "align_content": null,
            "visibility": null,
            "align_self": null,
            "height": null,
            "min_height": null,
            "padding": null,
            "grid_auto_rows": null,
            "grid_gap": null,
            "max_width": null,
            "order": null,
            "_view_module_version": "1.2.0",
            "grid_template_areas": null,
            "object_position": null,
            "object_fit": null,
            "grid_auto_columns": null,
            "margin": null,
            "display": null,
            "left": null
          }
        },
        "e8a16d1ef9be4f5ca460ff943763abf0": {
          "model_module": "@jupyter-widgets/controls",
          "model_name": "HBoxModel",
          "model_module_version": "1.5.0",
          "state": {
            "_view_name": "HBoxView",
            "_dom_classes": [],
            "_model_name": "HBoxModel",
            "_view_module": "@jupyter-widgets/controls",
            "_model_module_version": "1.5.0",
            "_view_count": null,
            "_view_module_version": "1.5.0",
            "box_style": "",
            "layout": "IPY_MODEL_db0127a905a04c0b95cec2888b7b47a5",
            "_model_module": "@jupyter-widgets/controls",
            "children": [
              "IPY_MODEL_d16a4048f94848d5bb4177b9bf061871",
              "IPY_MODEL_b69c3049bd6a4b3f878d07f437795800",
              "IPY_MODEL_841077c75aae4a6aa3d7cbb99d54f77f"
            ]
          }
        },
        "db0127a905a04c0b95cec2888b7b47a5": {
          "model_module": "@jupyter-widgets/base",
          "model_name": "LayoutModel",
          "model_module_version": "1.2.0",
          "state": {
            "_view_name": "LayoutView",
            "grid_template_rows": null,
            "right": null,
            "justify_content": null,
            "_view_module": "@jupyter-widgets/base",
            "overflow": null,
            "_model_module_version": "1.2.0",
            "_view_count": null,
            "flex_flow": null,
            "width": null,
            "min_width": null,
            "border": null,
            "align_items": null,
            "bottom": null,
            "_model_module": "@jupyter-widgets/base",
            "top": null,
            "grid_column": null,
            "overflow_y": null,
            "overflow_x": null,
            "grid_auto_flow": null,
            "grid_area": null,
            "grid_template_columns": null,
            "flex": null,
            "_model_name": "LayoutModel",
            "justify_items": null,
            "grid_row": null,
            "max_height": null,
            "align_content": null,
            "visibility": null,
            "align_self": null,
            "height": null,
            "min_height": null,
            "padding": null,
            "grid_auto_rows": null,
            "grid_gap": null,
            "max_width": null,
            "order": null,
            "_view_module_version": "1.2.0",
            "grid_template_areas": null,
            "object_position": null,
            "object_fit": null,
            "grid_auto_columns": null,
            "margin": null,
            "display": null,
            "left": null
          }
        },
        "d16a4048f94848d5bb4177b9bf061871": {
          "model_module": "@jupyter-widgets/controls",
          "model_name": "HTMLModel",
          "model_module_version": "1.5.0",
          "state": {
            "_view_name": "HTMLView",
            "style": "IPY_MODEL_72627a4c4b224366876668f3eebf810b",
            "_dom_classes": [],
            "description": "",
            "_model_name": "HTMLModel",
            "placeholder": "​",
            "_view_module": "@jupyter-widgets/controls",
            "_model_module_version": "1.5.0",
            "value": "  5%",
            "_view_count": null,
            "_view_module_version": "1.5.0",
            "description_tooltip": null,
            "_model_module": "@jupyter-widgets/controls",
            "layout": "IPY_MODEL_16eb4f7c3182498fa68e425980ef42b1"
          }
        },
        "b69c3049bd6a4b3f878d07f437795800": {
          "model_module": "@jupyter-widgets/controls",
          "model_name": "FloatProgressModel",
          "model_module_version": "1.5.0",
          "state": {
            "_view_name": "ProgressView",
            "style": "IPY_MODEL_ec78b0a77f704fc58309d100a12b24d4",
            "_dom_classes": [],
            "description": "",
            "_model_name": "FloatProgressModel",
            "bar_style": "danger",
            "max": 20,
            "_view_module": "@jupyter-widgets/controls",
            "_model_module_version": "1.5.0",
            "value": 1,
            "_view_count": null,
            "_view_module_version": "1.5.0",
            "orientation": "horizontal",
            "min": 0,
            "description_tooltip": null,
            "_model_module": "@jupyter-widgets/controls",
            "layout": "IPY_MODEL_2bfe8c55f40747cba4432f79d042ecf3"
          }
        },
        "841077c75aae4a6aa3d7cbb99d54f77f": {
          "model_module": "@jupyter-widgets/controls",
          "model_name": "HTMLModel",
          "model_module_version": "1.5.0",
          "state": {
            "_view_name": "HTMLView",
            "style": "IPY_MODEL_209fa3a6f6654f1db698e51a28f3ede2",
            "_dom_classes": [],
            "description": "",
            "_model_name": "HTMLModel",
            "placeholder": "​",
            "_view_module": "@jupyter-widgets/controls",
            "_model_module_version": "1.5.0",
            "value": " 1/20 [00:03&lt;00:49,  2.63s/it]",
            "_view_count": null,
            "_view_module_version": "1.5.0",
            "description_tooltip": null,
            "_model_module": "@jupyter-widgets/controls",
            "layout": "IPY_MODEL_addb799056ae4edb9c3c64ed99e1f39f"
          }
        },
        "72627a4c4b224366876668f3eebf810b": {
          "model_module": "@jupyter-widgets/controls",
          "model_name": "DescriptionStyleModel",
          "model_module_version": "1.5.0",
          "state": {
            "_view_name": "StyleView",
            "_model_name": "DescriptionStyleModel",
            "description_width": "",
            "_view_module": "@jupyter-widgets/base",
            "_model_module_version": "1.5.0",
            "_view_count": null,
            "_view_module_version": "1.2.0",
            "_model_module": "@jupyter-widgets/controls"
          }
        },
        "16eb4f7c3182498fa68e425980ef42b1": {
          "model_module": "@jupyter-widgets/base",
          "model_name": "LayoutModel",
          "model_module_version": "1.2.0",
          "state": {
            "_view_name": "LayoutView",
            "grid_template_rows": null,
            "right": null,
            "justify_content": null,
            "_view_module": "@jupyter-widgets/base",
            "overflow": null,
            "_model_module_version": "1.2.0",
            "_view_count": null,
            "flex_flow": null,
            "width": null,
            "min_width": null,
            "border": null,
            "align_items": null,
            "bottom": null,
            "_model_module": "@jupyter-widgets/base",
            "top": null,
            "grid_column": null,
            "overflow_y": null,
            "overflow_x": null,
            "grid_auto_flow": null,
            "grid_area": null,
            "grid_template_columns": null,
            "flex": null,
            "_model_name": "LayoutModel",
            "justify_items": null,
            "grid_row": null,
            "max_height": null,
            "align_content": null,
            "visibility": null,
            "align_self": null,
            "height": null,
            "min_height": null,
            "padding": null,
            "grid_auto_rows": null,
            "grid_gap": null,
            "max_width": null,
            "order": null,
            "_view_module_version": "1.2.0",
            "grid_template_areas": null,
            "object_position": null,
            "object_fit": null,
            "grid_auto_columns": null,
            "margin": null,
            "display": null,
            "left": null
          }
        },
        "ec78b0a77f704fc58309d100a12b24d4": {
          "model_module": "@jupyter-widgets/controls",
          "model_name": "ProgressStyleModel",
          "model_module_version": "1.5.0",
          "state": {
            "_view_name": "StyleView",
            "_model_name": "ProgressStyleModel",
            "description_width": "",
            "_view_module": "@jupyter-widgets/base",
            "_model_module_version": "1.5.0",
            "_view_count": null,
            "_view_module_version": "1.2.0",
            "bar_color": null,
            "_model_module": "@jupyter-widgets/controls"
          }
        },
        "2bfe8c55f40747cba4432f79d042ecf3": {
          "model_module": "@jupyter-widgets/base",
          "model_name": "LayoutModel",
          "model_module_version": "1.2.0",
          "state": {
            "_view_name": "LayoutView",
            "grid_template_rows": null,
            "right": null,
            "justify_content": null,
            "_view_module": "@jupyter-widgets/base",
            "overflow": null,
            "_model_module_version": "1.2.0",
            "_view_count": null,
            "flex_flow": null,
            "width": null,
            "min_width": null,
            "border": null,
            "align_items": null,
            "bottom": null,
            "_model_module": "@jupyter-widgets/base",
            "top": null,
            "grid_column": null,
            "overflow_y": null,
            "overflow_x": null,
            "grid_auto_flow": null,
            "grid_area": null,
            "grid_template_columns": null,
            "flex": null,
            "_model_name": "LayoutModel",
            "justify_items": null,
            "grid_row": null,
            "max_height": null,
            "align_content": null,
            "visibility": null,
            "align_self": null,
            "height": null,
            "min_height": null,
            "padding": null,
            "grid_auto_rows": null,
            "grid_gap": null,
            "max_width": null,
            "order": null,
            "_view_module_version": "1.2.0",
            "grid_template_areas": null,
            "object_position": null,
            "object_fit": null,
            "grid_auto_columns": null,
            "margin": null,
            "display": null,
            "left": null
          }
        },
        "209fa3a6f6654f1db698e51a28f3ede2": {
          "model_module": "@jupyter-widgets/controls",
          "model_name": "DescriptionStyleModel",
          "model_module_version": "1.5.0",
          "state": {
            "_view_name": "StyleView",
            "_model_name": "DescriptionStyleModel",
            "description_width": "",
            "_view_module": "@jupyter-widgets/base",
            "_model_module_version": "1.5.0",
            "_view_count": null,
            "_view_module_version": "1.2.0",
            "_model_module": "@jupyter-widgets/controls"
          }
        },
        "addb799056ae4edb9c3c64ed99e1f39f": {
          "model_module": "@jupyter-widgets/base",
          "model_name": "LayoutModel",
          "model_module_version": "1.2.0",
          "state": {
            "_view_name": "LayoutView",
            "grid_template_rows": null,
            "right": null,
            "justify_content": null,
            "_view_module": "@jupyter-widgets/base",
            "overflow": null,
            "_model_module_version": "1.2.0",
            "_view_count": null,
            "flex_flow": null,
            "width": null,
            "min_width": null,
            "border": null,
            "align_items": null,
            "bottom": null,
            "_model_module": "@jupyter-widgets/base",
            "top": null,
            "grid_column": null,
            "overflow_y": null,
            "overflow_x": null,
            "grid_auto_flow": null,
            "grid_area": null,
            "grid_template_columns": null,
            "flex": null,
            "_model_name": "LayoutModel",
            "justify_items": null,
            "grid_row": null,
            "max_height": null,
            "align_content": null,
            "visibility": null,
            "align_self": null,
            "height": null,
            "min_height": null,
            "padding": null,
            "grid_auto_rows": null,
            "grid_gap": null,
            "max_width": null,
            "order": null,
            "_view_module_version": "1.2.0",
            "grid_template_areas": null,
            "object_position": null,
            "object_fit": null,
            "grid_auto_columns": null,
            "margin": null,
            "display": null,
            "left": null
          }
        }
      }
    }
  },
  "cells": [
    {
      "cell_type": "markdown",
      "metadata": {
        "id": "view-in-github",
        "colab_type": "text"
      },
      "source": [
        "<a href=\"https://colab.research.google.com/github/Minwoo-study/AIPrograming/blob/main/melon_scraper_chart_%EB%A9%9C%EB%A1%A0_DJ_1028.ipynb\" target=\"_parent\"><img src=\"https://colab.research.google.com/assets/colab-badge.svg\" alt=\"Open In Colab\"/></a>"
      ]
    },
    {
      "cell_type": "markdown",
      "metadata": {
        "id": "bMejSJDH7l87"
      },
      "source": [
        "# 멜론 차트 스크래핑\n",
        "\n",
        "#### 크롤링할 때는 웬만하면 데이터 되는대로 많이 모으기"
      ]
    },
    {
      "cell_type": "code",
      "metadata": {
        "colab": {
          "base_uri": "https://localhost:8080/"
        },
        "id": "_Jp-uCAZh86u",
        "outputId": "394512cd-e1f6-4012-8c99-debb9d95136e"
      },
      "source": [
        "!pip install Selenium Bs4\n",
        "\n",
        "!apt-get update # to update ubuntu to correctly run apt install\n",
        "\n",
        "!apt install chromium-chromedriver"
      ],
      "execution_count": 1,
      "outputs": [
        {
          "output_type": "stream",
          "name": "stdout",
          "text": [
            "Collecting Selenium\n",
            "  Downloading selenium-4.0.0-py3-none-any.whl (954 kB)\n",
            "\u001b[K     |████████████████████████████████| 954 kB 5.1 MB/s \n",
            "\u001b[?25hRequirement already satisfied: Bs4 in /usr/local/lib/python3.7/dist-packages (0.0.1)\n",
            "Collecting urllib3[secure]~=1.26\n",
            "  Downloading urllib3-1.26.7-py2.py3-none-any.whl (138 kB)\n",
            "\u001b[K     |████████████████████████████████| 138 kB 55.5 MB/s \n",
            "\u001b[?25hCollecting trio~=0.17\n",
            "  Downloading trio-0.19.0-py3-none-any.whl (356 kB)\n",
            "\u001b[K     |████████████████████████████████| 356 kB 56.9 MB/s \n",
            "\u001b[?25hCollecting trio-websocket~=0.9\n",
            "  Downloading trio_websocket-0.9.2-py3-none-any.whl (16 kB)\n",
            "Collecting sniffio\n",
            "  Downloading sniffio-1.2.0-py3-none-any.whl (10 kB)\n",
            "Collecting async-generator>=1.9\n",
            "  Downloading async_generator-1.10-py3-none-any.whl (18 kB)\n",
            "Requirement already satisfied: sortedcontainers in /usr/local/lib/python3.7/dist-packages (from trio~=0.17->Selenium) (2.4.0)\n",
            "Requirement already satisfied: idna in /usr/local/lib/python3.7/dist-packages (from trio~=0.17->Selenium) (2.10)\n",
            "Requirement already satisfied: attrs>=19.2.0 in /usr/local/lib/python3.7/dist-packages (from trio~=0.17->Selenium) (21.2.0)\n",
            "Collecting outcome\n",
            "  Downloading outcome-1.1.0-py2.py3-none-any.whl (9.7 kB)\n",
            "Collecting wsproto>=0.14\n",
            "  Downloading wsproto-1.0.0-py3-none-any.whl (24 kB)\n",
            "Collecting cryptography>=1.3.4\n",
            "  Downloading cryptography-35.0.0-cp36-abi3-manylinux_2_24_x86_64.whl (3.5 MB)\n",
            "\u001b[K     |████████████████████████████████| 3.5 MB 24.8 MB/s \n",
            "\u001b[?25hCollecting pyOpenSSL>=0.14\n",
            "  Downloading pyOpenSSL-21.0.0-py2.py3-none-any.whl (55 kB)\n",
            "\u001b[K     |████████████████████████████████| 55 kB 3.3 MB/s \n",
            "\u001b[?25hRequirement already satisfied: certifi in /usr/local/lib/python3.7/dist-packages (from urllib3[secure]~=1.26->Selenium) (2021.5.30)\n",
            "Requirement already satisfied: cffi>=1.12 in /usr/local/lib/python3.7/dist-packages (from cryptography>=1.3.4->urllib3[secure]~=1.26->Selenium) (1.14.6)\n",
            "Requirement already satisfied: pycparser in /usr/local/lib/python3.7/dist-packages (from cffi>=1.12->cryptography>=1.3.4->urllib3[secure]~=1.26->Selenium) (2.20)\n",
            "Requirement already satisfied: six>=1.5.2 in /usr/local/lib/python3.7/dist-packages (from pyOpenSSL>=0.14->urllib3[secure]~=1.26->Selenium) (1.15.0)\n",
            "Collecting h11<1,>=0.9.0\n",
            "  Downloading h11-0.12.0-py3-none-any.whl (54 kB)\n",
            "\u001b[K     |████████████████████████████████| 54 kB 2.7 MB/s \n",
            "\u001b[?25hRequirement already satisfied: beautifulsoup4 in /usr/local/lib/python3.7/dist-packages (from Bs4) (4.6.3)\n",
            "Installing collected packages: sniffio, outcome, h11, cryptography, async-generator, wsproto, urllib3, trio, pyOpenSSL, trio-websocket, Selenium\n",
            "  Attempting uninstall: urllib3\n",
            "    Found existing installation: urllib3 1.24.3\n",
            "    Uninstalling urllib3-1.24.3:\n",
            "      Successfully uninstalled urllib3-1.24.3\n",
            "\u001b[31mERROR: pip's dependency resolver does not currently take into account all the packages that are installed. This behaviour is the source of the following dependency conflicts.\n",
            "requests 2.23.0 requires urllib3!=1.25.0,!=1.25.1,<1.26,>=1.21.1, but you have urllib3 1.26.7 which is incompatible.\n",
            "datascience 0.10.6 requires folium==0.2.1, but you have folium 0.8.3 which is incompatible.\u001b[0m\n",
            "Successfully installed Selenium-4.0.0 async-generator-1.10 cryptography-35.0.0 h11-0.12.0 outcome-1.1.0 pyOpenSSL-21.0.0 sniffio-1.2.0 trio-0.19.0 trio-websocket-0.9.2 urllib3-1.26.7 wsproto-1.0.0\n",
            "Get:1 http://security.ubuntu.com/ubuntu bionic-security InRelease [88.7 kB]\n",
            "Get:2 https://cloud.r-project.org/bin/linux/ubuntu bionic-cran40/ InRelease [3,626 B]\n",
            "Ign:3 https://developer.download.nvidia.com/compute/cuda/repos/ubuntu1804/x86_64  InRelease\n",
            "Hit:4 http://archive.ubuntu.com/ubuntu bionic InRelease\n",
            "Hit:5 http://ppa.launchpad.net/c2d4u.team/c2d4u4.0+/ubuntu bionic InRelease\n",
            "Get:6 http://archive.ubuntu.com/ubuntu bionic-updates InRelease [88.7 kB]\n",
            "Ign:7 https://developer.download.nvidia.com/compute/machine-learning/repos/ubuntu1804/x86_64  InRelease\n",
            "Hit:8 http://ppa.launchpad.net/cran/libgit2/ubuntu bionic InRelease\n",
            "Get:9 https://developer.download.nvidia.com/compute/cuda/repos/ubuntu1804/x86_64  Release [696 B]\n",
            "Hit:10 https://developer.download.nvidia.com/compute/machine-learning/repos/ubuntu1804/x86_64  Release\n",
            "Get:11 https://developer.download.nvidia.com/compute/cuda/repos/ubuntu1804/x86_64  Release.gpg [836 B]\n",
            "Get:12 http://security.ubuntu.com/ubuntu bionic-security/main amd64 Packages [2,398 kB]\n",
            "Hit:13 http://ppa.launchpad.net/deadsnakes/ppa/ubuntu bionic InRelease\n",
            "Get:14 http://archive.ubuntu.com/ubuntu bionic-backports InRelease [74.6 kB]\n",
            "Get:15 http://security.ubuntu.com/ubuntu bionic-security/universe amd64 Packages [1,434 kB]\n",
            "Hit:16 http://ppa.launchpad.net/graphics-drivers/ppa/ubuntu bionic InRelease\n",
            "Get:18 https://developer.download.nvidia.com/compute/cuda/repos/ubuntu1804/x86_64  Packages [786 kB]\n",
            "Get:19 http://archive.ubuntu.com/ubuntu bionic-updates/universe amd64 Packages [2,213 kB]\n",
            "Get:20 http://archive.ubuntu.com/ubuntu bionic-updates/main amd64 Packages [2,835 kB]\n",
            "Fetched 9,924 kB in 3s (3,089 kB/s)\n",
            "Reading package lists... Done\n",
            "Reading package lists... Done\n",
            "Building dependency tree       \n",
            "Reading state information... Done\n",
            "The following package was automatically installed and is no longer required:\n",
            "  libnvidia-common-460\n",
            "Use 'apt autoremove' to remove it.\n",
            "The following additional packages will be installed:\n",
            "  chromium-browser chromium-browser-l10n chromium-codecs-ffmpeg-extra\n",
            "Suggested packages:\n",
            "  webaccounts-chromium-extension unity-chromium-extension\n",
            "The following NEW packages will be installed:\n",
            "  chromium-browser chromium-browser-l10n chromium-chromedriver\n",
            "  chromium-codecs-ffmpeg-extra\n",
            "0 upgraded, 4 newly installed, 0 to remove and 39 not upgraded.\n",
            "Need to get 95.3 MB of archives.\n",
            "After this operation, 323 MB of additional disk space will be used.\n",
            "Get:1 http://archive.ubuntu.com/ubuntu bionic-updates/universe amd64 chromium-codecs-ffmpeg-extra amd64 94.0.4606.81-0ubuntu0.18.04.1 [1,135 kB]\n",
            "Get:2 http://archive.ubuntu.com/ubuntu bionic-updates/universe amd64 chromium-browser amd64 94.0.4606.81-0ubuntu0.18.04.1 [85.0 MB]\n",
            "Get:3 http://archive.ubuntu.com/ubuntu bionic-updates/universe amd64 chromium-browser-l10n all 94.0.4606.81-0ubuntu0.18.04.1 [4,164 kB]\n",
            "Get:4 http://archive.ubuntu.com/ubuntu bionic-updates/universe amd64 chromium-chromedriver amd64 94.0.4606.81-0ubuntu0.18.04.1 [4,963 kB]\n",
            "Fetched 95.3 MB in 4s (23.7 MB/s)\n",
            "Selecting previously unselected package chromium-codecs-ffmpeg-extra.\n",
            "(Reading database ... 155062 files and directories currently installed.)\n",
            "Preparing to unpack .../chromium-codecs-ffmpeg-extra_94.0.4606.81-0ubuntu0.18.04.1_amd64.deb ...\n",
            "Unpacking chromium-codecs-ffmpeg-extra (94.0.4606.81-0ubuntu0.18.04.1) ...\n",
            "Selecting previously unselected package chromium-browser.\n",
            "Preparing to unpack .../chromium-browser_94.0.4606.81-0ubuntu0.18.04.1_amd64.deb ...\n",
            "Unpacking chromium-browser (94.0.4606.81-0ubuntu0.18.04.1) ...\n",
            "Selecting previously unselected package chromium-browser-l10n.\n",
            "Preparing to unpack .../chromium-browser-l10n_94.0.4606.81-0ubuntu0.18.04.1_all.deb ...\n",
            "Unpacking chromium-browser-l10n (94.0.4606.81-0ubuntu0.18.04.1) ...\n",
            "Selecting previously unselected package chromium-chromedriver.\n",
            "Preparing to unpack .../chromium-chromedriver_94.0.4606.81-0ubuntu0.18.04.1_amd64.deb ...\n",
            "Unpacking chromium-chromedriver (94.0.4606.81-0ubuntu0.18.04.1) ...\n",
            "Setting up chromium-codecs-ffmpeg-extra (94.0.4606.81-0ubuntu0.18.04.1) ...\n",
            "Setting up chromium-browser (94.0.4606.81-0ubuntu0.18.04.1) ...\n",
            "update-alternatives: using /usr/bin/chromium-browser to provide /usr/bin/x-www-browser (x-www-browser) in auto mode\n",
            "update-alternatives: using /usr/bin/chromium-browser to provide /usr/bin/gnome-www-browser (gnome-www-browser) in auto mode\n",
            "Setting up chromium-chromedriver (94.0.4606.81-0ubuntu0.18.04.1) ...\n",
            "Setting up chromium-browser-l10n (94.0.4606.81-0ubuntu0.18.04.1) ...\n",
            "Processing triggers for man-db (2.8.3-2ubuntu0.1) ...\n",
            "Processing triggers for hicolor-icon-theme (0.17-2) ...\n",
            "Processing triggers for mime-support (3.60ubuntu1) ...\n",
            "Processing triggers for libc-bin (2.27-3ubuntu1.3) ...\n",
            "/sbin/ldconfig.real: /usr/local/lib/python3.7/dist-packages/ideep4py/lib/libmkldnn.so.0 is not a symbolic link\n",
            "\n"
          ]
        }
      ]
    },
    {
      "cell_type": "code",
      "metadata": {
        "colab": {
          "base_uri": "https://localhost:8080/"
        },
        "id": "I6jZId_9ixIy",
        "outputId": "a4314c51-83b0-4b84-a7a2-c1475d5671ea"
      },
      "source": [
        "!pip install webdriver_manager"
      ],
      "execution_count": 2,
      "outputs": [
        {
          "output_type": "stream",
          "name": "stdout",
          "text": [
            "Collecting webdriver_manager\n",
            "  Downloading webdriver_manager-3.5.1-py2.py3-none-any.whl (17 kB)\n",
            "Collecting configparser\n",
            "  Downloading configparser-5.0.2-py3-none-any.whl (19 kB)\n",
            "Requirement already satisfied: requests in /usr/local/lib/python3.7/dist-packages (from webdriver_manager) (2.23.0)\n",
            "Collecting crayons\n",
            "  Downloading crayons-0.4.0-py2.py3-none-any.whl (4.6 kB)\n",
            "Collecting colorama\n",
            "  Downloading colorama-0.4.4-py2.py3-none-any.whl (16 kB)\n",
            "Requirement already satisfied: chardet<4,>=3.0.2 in /usr/local/lib/python3.7/dist-packages (from requests->webdriver_manager) (3.0.4)\n",
            "Requirement already satisfied: certifi>=2017.4.17 in /usr/local/lib/python3.7/dist-packages (from requests->webdriver_manager) (2021.5.30)\n",
            "Collecting urllib3!=1.25.0,!=1.25.1,<1.26,>=1.21.1\n",
            "  Downloading urllib3-1.25.11-py2.py3-none-any.whl (127 kB)\n",
            "\u001b[K     |████████████████████████████████| 127 kB 6.9 MB/s \n",
            "\u001b[?25hRequirement already satisfied: idna<3,>=2.5 in /usr/local/lib/python3.7/dist-packages (from requests->webdriver_manager) (2.10)\n",
            "Installing collected packages: urllib3, colorama, crayons, configparser, webdriver-manager\n",
            "  Attempting uninstall: urllib3\n",
            "    Found existing installation: urllib3 1.26.7\n",
            "    Uninstalling urllib3-1.26.7:\n",
            "      Successfully uninstalled urllib3-1.26.7\n",
            "\u001b[31mERROR: pip's dependency resolver does not currently take into account all the packages that are installed. This behaviour is the source of the following dependency conflicts.\n",
            "selenium 4.0.0 requires urllib3[secure]~=1.26, but you have urllib3 1.25.11 which is incompatible.\n",
            "datascience 0.10.6 requires folium==0.2.1, but you have folium 0.8.3 which is incompatible.\u001b[0m\n",
            "Successfully installed colorama-0.4.4 configparser-5.0.2 crayons-0.4.0 urllib3-1.25.11 webdriver-manager-3.5.1\n"
          ]
        }
      ]
    },
    {
      "cell_type": "code",
      "metadata": {
        "id": "KIb1oqLK7l8-"
      },
      "source": [
        "from selenium import webdriver\n",
        "from selenium.webdriver.common.keys import Keys\n",
        "from webdriver_manager.chrome import ChromeDriverManager\n",
        "from webdriver_manager.utils import ChromeType\n",
        "from selenium.webdriver.common.by import By\n",
        "from selenium.webdriver.support.ui import WebDriverWait\n",
        "from selenium.webdriver.support import expected_conditions as EC\n",
        "from selenium.common.exceptions import NoSuchElementException\n",
        "from selenium.common.exceptions import UnexpectedAlertPresentException\n",
        "from selenium.webdriver.common.desired_capabilities import DesiredCapabilities\n",
        "\n",
        "from bs4 import BeautifulSoup\n",
        "import bs4\n",
        "import requests\n",
        "import time\n",
        "from random import *\n",
        "from tqdm.notebook import tqdm\n",
        "import time\n",
        "import pandas as pd\n",
        "import numpy as np\n",
        "import re\n",
        "import pickle"
      ],
      "execution_count": 3,
      "outputs": []
    },
    {
      "cell_type": "code",
      "metadata": {
        "colab": {
          "base_uri": "https://localhost:8080/"
        },
        "id": "8K2lYU2doSNG",
        "outputId": "da95989f-028e-43a4-ba7d-901a0d5bc992"
      },
      "source": [
        "!apt-get install chromium-chromedriver"
      ],
      "execution_count": 5,
      "outputs": [
        {
          "output_type": "stream",
          "name": "stdout",
          "text": [
            "Reading package lists... Done\n",
            "Building dependency tree       \n",
            "Reading state information... Done\n",
            "chromium-chromedriver is already the newest version (94.0.4606.81-0ubuntu0.18.04.1).\n",
            "The following package was automatically installed and is no longer required:\n",
            "  libnvidia-common-460\n",
            "Use 'apt autoremove' to remove it.\n",
            "0 upgraded, 0 newly installed, 0 to remove and 39 not upgraded.\n"
          ]
        }
      ]
    },
    {
      "cell_type": "markdown",
      "metadata": {
        "id": "DSxb-X_9q3zU"
      },
      "source": [
        "#### 코랩에서 셀레니움 사용하는 법\n",
        "https://ai-run.tistory.com/47"
      ]
    },
    {
      "cell_type": "code",
      "metadata": {
        "id": "9czgoX2z7l8_"
      },
      "source": [
        "# 참고 : https://cozynow.tistory.com/43\n",
        "chrome_options = webdriver.ChromeOptions()\n",
        "chrome_options.add_argument('--headless') #내부 창을 띄울 수 없으므로 설정\n",
        "chrome_options.add_argument('--no-sandbox') \n",
        "chrome_options.add_argument('--disable-dev-shm-usage')\n",
        "\n",
        "# user-agent 확인\n",
        "# https://backkom-blog.tistory.com/entry/Chrome%ED%81%AC%EB%A1%AC-%EC%9B%B9-%EB%B8%8C%EB%9D%BC%EC%9A%B0%EC%A0%80-User-Agent-%ED%99%95%EC%9D%B8%ED%95%98%EA%B8%B0\n",
        "chrome_options.add_argument('Mozilla/5.0 (Macintosh; Intel Mac OS X 10_15_7) AppleWebKit/537.36 (KHTML, like Gecko) Chrome/94.0.4606.81 Safari/537.36')\n",
        "\n",
        "# PROXY = \"socks5://127.0.0.1:9050\" # tor\n",
        "# chrome_options.add_argument(f'--proxy-server={PROXY}') # tor\n",
        "\n",
        "# PROXY = \"188.166.238.22:8080\"\n",
        "# DesiredCapabilities.CHROME['proxy'] = {\n",
        "#     \"httpProxy\": PROXY,\n",
        "#     \"ftpProxy\": PROXY,\n",
        "#     \"sslProxy\": PROXY,\n",
        "#     \"proxyType\": \"MANUAL\"\n",
        "# }\n",
        "# DesiredCapabilities.CHROME['acceptSslCerts'] = True\n",
        "\n",
        "chrome_options.add_experimental_option(\"prefs\", {\n",
        "  # \"download.default_directory\": download_path,\n",
        "  \"download.prompt_for_download\": False,\n",
        "  \"download.directory_upgrade\": True,\n",
        "  \"safebrowsing.enabled\": True\n",
        "})\n",
        "#driver = webdriver.Chrome(ChromeDriverManager(chrome_type=ChromeType.CHROMIUM).install(),options=chrome_options)\n",
        "driver = webdriver.Chrome('chromedriver',options=chrome_options)\n",
        "#driver= webdriver.Chrome('/content/drive/MyDrive/chromedriver', options=chrome_options)"
      ],
      "execution_count": 6,
      "outputs": []
    },
    {
      "cell_type": "markdown",
      "metadata": {
        "id": "wIjLcTx37l9A"
      },
      "source": [
        "### 멜론 dj \n",
        "https://www.melon.com/dj/themegenre/djthemegenre_list.htm\n"
      ]
    },
    {
      "cell_type": "markdown",
      "metadata": {
        "id": "_4MycJGg7l9A"
      },
      "source": [
        "##### 차트 설정"
      ]
    },
    {
      "cell_type": "code",
      "metadata": {
        "id": "pb_xVbA57l9A"
      },
      "source": [
        "driver.get('https://www.melon.com/dj/themegenre/djthemegenre_list.htm')"
      ],
      "execution_count": 37,
      "outputs": []
    },
    {
      "cell_type": "code",
      "metadata": {
        "id": "JxTh_QqJ7l9A",
        "colab": {
          "base_uri": "https://localhost:8080/"
        },
        "outputId": "0997031c-9c46-4a82-aa96-955e7aa94d10"
      },
      "source": [
        "# 테마 장르\n",
        "driver.find_element_by_css_selector('#gnb_menu > ul:nth-child(1) > li.nth4.on > div > ul > li.on > a > span').click()"
      ],
      "execution_count": 38,
      "outputs": [
        {
          "output_type": "stream",
          "name": "stderr",
          "text": [
            "/usr/local/lib/python3.7/dist-packages/ipykernel_launcher.py:2: DeprecationWarning: find_element_by_* commands are deprecated. Please use find_element() instead\n",
            "  \n"
          ]
        }
      ]
    },
    {
      "cell_type": "code",
      "metadata": {
        "colab": {
          "base_uri": "https://localhost:8080/"
        },
        "id": "HRggXjr14mrc",
        "outputId": "f0003c6f-91c8-4379-e185-53572efa4cca"
      },
      "source": [
        "#태그 입력\n",
        "search_kw =driver.find_element_by_id('djSearchKeyword')\n",
        "search_kw.send_keys('이별')"
      ],
      "execution_count": 39,
      "outputs": [
        {
          "output_type": "stream",
          "name": "stderr",
          "text": [
            "/usr/local/lib/python3.7/dist-packages/ipykernel_launcher.py:2: DeprecationWarning: find_element_by_* commands are deprecated. Please use find_element() instead\n",
            "  \n"
          ]
        }
      ]
    },
    {
      "cell_type": "code",
      "metadata": {
        "colab": {
          "base_uri": "https://localhost:8080/"
        },
        "id": "tRjqIjWe5Fxu",
        "outputId": "078e67e8-2d5f-4248-cec0-f980c68d4932"
      },
      "source": [
        "#검색 클릭\n",
        "driver.find_element_by_xpath('//*[@id=\"conts\"]/div[1]/div[2]/div[2]/button').click()"
      ],
      "execution_count": 40,
      "outputs": [
        {
          "output_type": "stream",
          "name": "stderr",
          "text": [
            "/usr/local/lib/python3.7/dist-packages/ipykernel_launcher.py:2: DeprecationWarning: find_element_by_* commands are deprecated. Please use find_element() instead\n",
            "  \n"
          ]
        }
      ]
    },
    {
      "cell_type": "code",
      "metadata": {
        "colab": {
          "base_uri": "https://localhost:8080/"
        },
        "id": "2p4-dcWU6iwB",
        "outputId": "f33f7004-3fa3-4d3c-b925-6f9ee15ee396"
      },
      "source": [
        "#플레이리스트 클릭\n",
        "driver.find_element_by_css_selector('#djPlylstList > div > ul > li:nth-child(1) > div.entry > div.info > a.ellipsis.album_name').click()"
      ],
      "execution_count": 41,
      "outputs": [
        {
          "output_type": "stream",
          "name": "stderr",
          "text": [
            "/usr/local/lib/python3.7/dist-packages/ipykernel_launcher.py:2: DeprecationWarning: find_element_by_* commands are deprecated. Please use find_element() instead\n",
            "  \n"
          ]
        }
      ]
    },
    {
      "cell_type": "code",
      "metadata": {
        "id": "KykRs_G47l9C"
      },
      "source": [
        "# html 파싱\n",
        "req = driver.page_source\n",
        "soup = BeautifulSoup(req, 'html.parser')"
      ],
      "execution_count": 42,
      "outputs": []
    },
    {
      "cell_type": "code",
      "metadata": {
        "colab": {
          "base_uri": "https://localhost:8080/"
        },
        "id": "CeAAUOC7RdfW",
        "outputId": "4a02fa37-5429-4b45-c486-95c167f30ca9"
      },
      "source": [
        "soup.find_all('div',{'class':'ellipsis rank01'})"
      ],
      "execution_count": 43,
      "outputs": [
        {
          "output_type": "execute_result",
          "data": {
            "text/plain": [
              "[<div class=\"ellipsis rank01\"><span>\n",
              " <a href=\"javascript:melon.play.playSong('67220101',4645220);\" title=\"나의 옛날이야기 재생\">나의 옛날이야기</a>\n",
              " </span></div>, <div class=\"ellipsis rank01\"><span>\n",
              " <a href=\"javascript:melon.play.playSong('67220101',31999275);\" title=\"여름의 끝자락 (Feat. 김정원) 재생\">여름의 끝자락 (Feat. 김정원)</a>\n",
              " </span></div>, <div class=\"ellipsis rank01\"><span>\n",
              " <a href=\"javascript:melon.play.playSong('67220101',33043504);\" title=\"가을밤에 든 생각 재생\">가을밤에 든 생각</a>\n",
              " </span></div>, <div class=\"ellipsis rank01\"><span>\n",
              " <a href=\"javascript:melon.play.playSong('67220101',33772329);\" title=\"고백 재생\">고백</a>\n",
              " </span></div>, <div class=\"ellipsis rank01\"><span>\n",
              " <a href=\"javascript:melon.play.playSong('67220101',33313675);\" title=\"사랑하는 당신께 재생\">사랑하는 당신께</a>\n",
              " </span></div>, <div class=\"ellipsis rank01\"><span>\n",
              " <a href=\"javascript:melon.play.playSong('67220101',31095715);\" title=\"영원히 재생\">영원히</a>\n",
              " </span></div>, <div class=\"ellipsis rank01\"><span>\n",
              " <a href=\"javascript:melon.play.playSong('67220101',3589491);\" title=\"늦가을 재생\">늦가을</a>\n",
              " </span></div>, <div class=\"ellipsis rank01\"><span>\n",
              " <a href=\"javascript:melon.play.playSong('67220101',4252728);\" title=\"처음엔 사랑이란게 재생\">처음엔 사랑이란게</a>\n",
              " </span></div>, <div class=\"ellipsis rank01\"><span>\n",
              " <a href=\"javascript:melon.play.playSong('67220101',2936289);\" title=\"빨래 재생\">빨래</a>\n",
              " </span></div>, <div class=\"ellipsis rank01\"><span>\n",
              " <a href=\"javascript:melon.play.playSong('67220101',31984204);\" title=\"안녕 재생\">안녕</a>\n",
              " </span></div>, <div class=\"ellipsis rank01\"><span>\n",
              " <a href=\"javascript:melon.play.playSong('67220101',4026622);\" title=\"Nothing Without You 재생\">Nothing Without You</a>\n",
              " </span></div>, <div class=\"ellipsis rank01\"><span>\n",
              " <a href=\"javascript:melon.play.playSong('67220101',31666417);\" title=\"주저하는 연인들을 위해 재생\">주저하는 연인들을 위해</a>\n",
              " </span></div>, <div class=\"ellipsis rank01\"><span>\n",
              " <a href=\"javascript:melon.play.playSong('67220101',32902881);\" title=\"밤새 (취향저격 그녀 X 카더가든) 재생\">밤새 (취향저격 그녀 X 카더가든)</a>\n",
              " </span></div>, <div class=\"ellipsis rank01\"><span>\n",
              " <a href=\"javascript:melon.play.playSong('67220101',30314784);\" title=\"밤편지 재생\">밤편지</a>\n",
              " </span></div>, <div class=\"ellipsis rank01\"><span>\n",
              " <a href=\"javascript:melon.play.playSong('67220101',8026844);\" title=\"걱정말아요 그대 재생\">걱정말아요 그대</a>\n",
              " </span></div>, <div class=\"ellipsis rank01\"><span>\n",
              " <a href=\"javascript:melon.play.playSong('67220101',4695582);\" title=\"왠지 그럼 안될 것 같아 재생\">왠지 그럼 안될 것 같아</a>\n",
              " </span></div>, <div class=\"ellipsis rank01\"><span>\n",
              " <a href=\"javascript:melon.play.playSong('67220101',3753303);\" title=\"여수 밤바다 재생\">여수 밤바다</a>\n",
              " </span></div>, <div class=\"ellipsis rank01\"><span>\n",
              " <a href=\"javascript:melon.play.playSong('67220101',5400360);\" title=\"그게 나야 재생\">그게 나야</a>\n",
              " </span></div>, <div class=\"ellipsis rank01\"><span>\n",
              " <a href=\"javascript:melon.play.playSong('67220101',33507462);\" title=\"너를 사랑했던 시간 재생\">너를 사랑했던 시간</a>\n",
              " </span></div>, <div class=\"ellipsis rank01\"><span>\n",
              " <a href=\"javascript:melon.play.playSong('67220101',33855085);\" title=\"가까운 듯 먼 그대여 재생\">가까운 듯 먼 그대여</a>\n",
              " </span></div>]"
            ]
          },
          "metadata": {},
          "execution_count": 43
        }
      ]
    },
    {
      "cell_type": "code",
      "metadata": {
        "colab": {
          "base_uri": "https://localhost:8080/",
          "height": 35
        },
        "id": "64VSvrGUDzMT",
        "outputId": "7091984a-6c93-4134-9d20-5ae8b1c749e6"
      },
      "source": [
        "#beautiful soup으로 가져오기\n",
        "test = soup.find_all('div',{'class':'ellipsis rank01'})[2].span.find('a')['href']\n",
        "test"
      ],
      "execution_count": 44,
      "outputs": [
        {
          "output_type": "execute_result",
          "data": {
            "application/vnd.google.colaboratory.intrinsic+json": {
              "type": "string"
            },
            "text/plain": [
              "\"javascript:melon.play.playSong('67220101',33043504);\""
            ]
          },
          "metadata": {},
          "execution_count": 44
        }
      ]
    },
    {
      "cell_type": "code",
      "metadata": {
        "colab": {
          "base_uri": "https://localhost:8080/",
          "height": 35
        },
        "id": "aYywZZOjFblg",
        "outputId": "6fd81e8f-3f6b-4188-800c-842fb479abbf"
      },
      "source": [
        "#정규표현식으로 숫자만 빼기\n",
        "re.search(\"\\(\\'(\\d+)\\'\\,(\\d+)\\)\",test).group(2)"
      ],
      "execution_count": 45,
      "outputs": [
        {
          "output_type": "execute_result",
          "data": {
            "application/vnd.google.colaboratory.intrinsic+json": {
              "type": "string"
            },
            "text/plain": [
              "'33043504'"
            ]
          },
          "metadata": {},
          "execution_count": 45
        }
      ]
    },
    {
      "cell_type": "code",
      "metadata": {
        "colab": {
          "base_uri": "https://localhost:8080/",
          "height": 35
        },
        "id": "F60QeZiw-Dzx",
        "outputId": "3d139cd4-0412-444e-ebfb-b87f7d849baf"
      },
      "source": [
        "# 플레이리스트 곡 수 \n",
        "num = soup.select_one('.page_header > h5 > span').get_text()\n",
        "num"
      ],
      "execution_count": null,
      "outputs": [
        {
          "output_type": "execute_result",
          "data": {
            "application/vnd.google.colaboratory.intrinsic+json": {
              "type": "string"
            },
            "text/plain": [
              "'(100)'"
            ]
          },
          "metadata": {},
          "execution_count": 110
        }
      ]
    },
    {
      "cell_type": "code",
      "metadata": {
        "colab": {
          "base_uri": "https://localhost:8080/"
        },
        "id": "I9LYl5MC6ZCr",
        "outputId": "871008ee-2838-47a5-b724-1ae732b3bb46"
      },
      "source": [
        "# 정규식을 사용하여 숫자형으로 변경\n",
        "int(re.search('\\((\\d+)\\)', num).group(1))"
      ],
      "execution_count": null,
      "outputs": [
        {
          "output_type": "execute_result",
          "data": {
            "text/plain": [
              "20"
            ]
          },
          "metadata": {},
          "execution_count": 64
        }
      ]
    },
    {
      "cell_type": "code",
      "metadata": {
        "colab": {
          "base_uri": "https://localhost:8080/"
        },
        "id": "zvpNrBHv5O6x",
        "outputId": "96062312-5c0e-45ad-9db0-cd72d2f4b878"
      },
      "source": [
        "for i in range(0, int(re.search('\\((\\d+)\\)', num).group(1))):\n",
        "  print(i)"
      ],
      "execution_count": null,
      "outputs": [
        {
          "output_type": "stream",
          "name": "stdout",
          "text": [
            "0\n",
            "1\n",
            "2\n",
            "3\n",
            "4\n",
            "5\n",
            "6\n",
            "7\n",
            "8\n",
            "9\n",
            "10\n",
            "11\n",
            "12\n",
            "13\n",
            "14\n",
            "15\n",
            "16\n",
            "17\n",
            "18\n",
            "19\n"
          ]
        }
      ]
    },
    {
      "cell_type": "code",
      "metadata": {
        "colab": {
          "base_uri": "https://localhost:8080/"
        },
        "id": "4-NbMvKz_5lV",
        "outputId": "c5dca032-24fd-4cd3-a637-2edc0ad33b3d"
      },
      "source": [
        "for i in range(0, int(re.search('\\((\\d+)\\)', num).group(1))):\n",
        "  print(soup.find_all('div',{'class':'ellipsis rank01'})[i].span.find('a')['href'])"
      ],
      "execution_count": null,
      "outputs": [
        {
          "output_type": "stream",
          "name": "stdout",
          "text": [
            "javascript:melon.play.playSong('67220101',4645220);\n",
            "javascript:melon.play.playSong('67220101',31999275);\n",
            "javascript:melon.play.playSong('67220101',33043504);\n",
            "javascript:melon.play.playSong('67220101',33772329);\n",
            "javascript:melon.play.playSong('67220101',33313675);\n",
            "javascript:melon.play.playSong('67220101',31095715);\n",
            "javascript:melon.play.playSong('67220101',3589491);\n",
            "javascript:melon.play.playSong('67220101',4252728);\n",
            "javascript:melon.play.playSong('67220101',2936289);\n",
            "javascript:melon.play.playSong('67220101',31984204);\n",
            "javascript:melon.play.playSong('67220101',4026622);\n",
            "javascript:melon.play.playSong('67220101',31666417);\n",
            "javascript:melon.play.playSong('67220101',32902881);\n",
            "javascript:melon.play.playSong('67220101',30314784);\n",
            "javascript:melon.play.playSong('67220101',8026844);\n",
            "javascript:melon.play.playSong('67220101',4695582);\n",
            "javascript:melon.play.playSong('67220101',3753303);\n",
            "javascript:melon.play.playSong('67220101',5400360);\n",
            "javascript:melon.play.playSong('67220101',33507462);\n",
            "javascript:melon.play.playSong('67220101',33855085);\n"
          ]
        }
      ]
    },
    {
      "cell_type": "code",
      "metadata": {
        "id": "SnqEaPl8AIBS"
      },
      "source": [
        "for i in range(0, int(re.search('\\((\\d+)\\)', num).group(1))):\n",
        "  print(soup.find_all('div',{'class':'ellipsis rank01'})[i].span.find('a')['href'])"
      ],
      "execution_count": null,
      "outputs": []
    },
    {
      "cell_type": "code",
      "metadata": {
        "colab": {
          "base_uri": "https://localhost:8080/"
        },
        "id": "uSTILF5r_PyV",
        "outputId": "b0c09d9b-62b0-4e9a-88b0-dad4c77f7ebf"
      },
      "source": [
        "for i in range(0, int(re.search('\\((\\d+)\\)', num).group(1))):\n",
        "  t = re.search(\"\\(\\'(\\d+)\\'\\,(\\d+)\\)\",soup.find_all('div',{'class':'ellipsis rank01'})[i].span.find('a')['href']).group(2)\n",
        "  print(t)"
      ],
      "execution_count": null,
      "outputs": [
        {
          "output_type": "stream",
          "name": "stdout",
          "text": [
            "4645220\n",
            "31999275\n",
            "33043504\n",
            "33772329\n",
            "33313675\n",
            "31095715\n",
            "3589491\n",
            "4252728\n",
            "2936289\n",
            "31984204\n",
            "4026622\n",
            "31666417\n",
            "32902881\n",
            "30314784\n",
            "8026844\n",
            "4695582\n",
            "3753303\n",
            "5400360\n",
            "33507462\n",
            "33855085\n"
          ]
        }
      ]
    },
    {
      "cell_type": "code",
      "metadata": {
        "id": "qEYuCwDsDwus",
        "colab": {
          "base_uri": "https://localhost:8080/"
        },
        "outputId": "42703ca1-7072-4b82-b969-edf3897d6382"
      },
      "source": [
        "# dj 플레이리스트 내 음원 고유 번호\n",
        "\n",
        "song_cnt = int(re.search('\\((\\d+)\\)', num).group(1))\n",
        "pd.Series([re.search(\"\\(\\'(\\d+)\\'\\,(\\d+)\\)\",soup.find_all('div',{'class':'ellipsis rank01'})[i].span.find('a')['href']).group(2) for i in range(0, song_cnt)])"
      ],
      "execution_count": null,
      "outputs": [
        {
          "output_type": "execute_result",
          "data": {
            "text/plain": [
              "0      4645220\n",
              "1     31999275\n",
              "2     33043504\n",
              "3     33772329\n",
              "4     33313675\n",
              "5     31095715\n",
              "6      3589491\n",
              "7      4252728\n",
              "8      2936289\n",
              "9     31984204\n",
              "10     4026622\n",
              "11    31666417\n",
              "12    32902881\n",
              "13    30314784\n",
              "14     8026844\n",
              "15     4695582\n",
              "16     3753303\n",
              "17     5400360\n",
              "18    33507462\n",
              "19    33855085\n",
              "dtype: object"
            ]
          },
          "metadata": {},
          "execution_count": 80
        }
      ]
    },
    {
      "cell_type": "code",
      "metadata": {
        "id": "Xjq6Vj6HLWc5"
      },
      "source": [
        "#djPlylstList > div > ul > li:nth-child(3) > div.entry > div.info > a.ellipsis.album_name\n",
        "#djPlylstList > div > ul > li:nth-child(4) > div.entry > div.info > a.ellipsis.album_name\n",
        "\n",
        "#frm > div > table > tbody > tr:nth-child(1) > td:nth-child(5) > div > div > div.ellipsis.rank01 > span > a"
      ],
      "execution_count": null,
      "outputs": []
    },
    {
      "cell_type": "markdown",
      "metadata": {
        "id": "3KLkf2Q6FKRj"
      },
      "source": [
        "### 크롤러 반복문 제작"
      ]
    },
    {
      "cell_type": "markdown",
      "metadata": {
        "id": "8LTWj77jM4DR"
      },
      "source": [
        "#### 1. 플레이리스트 고유번호 수집"
      ]
    },
    {
      "cell_type": "code",
      "metadata": {
        "id": "aYlUzwtz7l9D"
      },
      "source": [
        "df = pd.DataFrame()"
      ],
      "execution_count": 7,
      "outputs": []
    },
    {
      "cell_type": "code",
      "metadata": {
        "id": "WyvzEtgq7l9D"
      },
      "source": [
        "driver.get('https://www.melon.com/')"
      ],
      "execution_count": 8,
      "outputs": []
    },
    {
      "cell_type": "code",
      "metadata": {
        "id": "MwIHRwrsFlDz"
      },
      "source": [
        "# 주제어 태그 리스트\n",
        "kwd = ['이별']"
      ],
      "execution_count": 10,
      "outputs": []
    },
    {
      "cell_type": "code",
      "metadata": {
        "colab": {
          "base_uri": "https://localhost:8080/"
        },
        "id": "36b_HGYwNNJI",
        "outputId": "ba5e2f4d-2ec2-4f91-ea4f-176c20786e13"
      },
      "source": [
        "driver.implicitly_wait(0.5)\n",
        "driver.get('https://www.melon.com/dj/themegenre/djthemegenre_list.htm')\n",
        "# 테마 장르 클릭\n",
        "driver.find_element_by_css_selector('#gnb_menu > ul:nth-child(1) > li.nth4.on > div > ul > li.on > a > span').click()\n",
        "\n",
        "#태그 입력\n",
        "search_kw =driver.find_element_by_id('djSearchKeyword')\n",
        "search_kw.send_keys('이별')\n",
        "\n",
        "#검색 클릭\n",
        "driver.find_element_by_xpath('//*[@id=\"conts\"]/div[1]/div[2]/div[2]/button').click()\n",
        "\n",
        "# html 파싱\n",
        "req = driver.page_source\n",
        "soup = BeautifulSoup(req, 'html.parser')"
      ],
      "execution_count": 66,
      "outputs": [
        {
          "output_type": "stream",
          "name": "stderr",
          "text": [
            "/usr/local/lib/python3.7/dist-packages/ipykernel_launcher.py:4: DeprecationWarning: find_element_by_* commands are deprecated. Please use find_element() instead\n",
            "  after removing the cwd from sys.path.\n",
            "/usr/local/lib/python3.7/dist-packages/ipykernel_launcher.py:7: DeprecationWarning: find_element_by_* commands are deprecated. Please use find_element() instead\n",
            "  import sys\n",
            "/usr/local/lib/python3.7/dist-packages/ipykernel_launcher.py:11: DeprecationWarning: find_element_by_* commands are deprecated. Please use find_element() instead\n",
            "  # This is added back by InteractiveShellApp.init_path()\n"
          ]
        }
      ]
    },
    {
      "cell_type": "code",
      "metadata": {
        "colab": {
          "base_uri": "https://localhost:8080/"
        },
        "id": "djEY6CAWSfFS",
        "outputId": "e1059579-00ed-4a5b-9512-0ae9ae1b9dca"
      },
      "source": [
        "#여기서 플레이리스트 고유번호, 타이틀 곡 수 크롤링!!\n",
        "#data-djcol-no = 고유번호\n",
        "# \n",
        "soup.find_all('div', {'class' : 'meta'}).span.find()"
      ],
      "execution_count": 72,
      "outputs": [
        {
          "output_type": "execute_result",
          "data": {
            "text/plain": [
              "[<div class=\"meta\">\n",
              " <button class=\"button_etc like btn_djplylst_like\" data-djcol-menuid=\"67190101\" data-djcol-no=\"499517306\" title=\"가을 바람에 문득 누군가 떠오를때... 플레이리스트 좋아요\" type=\"button\"><span class=\"odd_span\">좋아요</span> <span class=\"cnt\"> <span class=\"none\">총건수</span> 792 </span></button>\n",
              " <i class=\"bar\"></i>\n",
              " <span class=\"tot_song\" title=\"총 수록곡\">20곡</span>\n",
              " </div>, <div class=\"meta\">\n",
              " <button class=\"button_etc like btn_djplylst_like\" data-djcol-menuid=\"67190101\" data-djcol-no=\"433839049\" title=\"애잔한 갬성...// 쌀쌀한 요즘 날씨에 듣기 좋은 팝송 좋아요\" type=\"button\"><span class=\"odd_span\">좋아요</span> <span class=\"cnt\"> <span class=\"none\">총건수</span> 881 </span></button>\n",
              " <i class=\"bar\"></i>\n",
              " <span class=\"tot_song\" title=\"총 수록곡\">74곡</span>\n",
              " </div>, <div class=\"meta\">\n",
              " <button class=\"button_etc like btn_djplylst_like\" data-djcol-menuid=\"67190101\" data-djcol-no=\"467894077\" title=\"추천 ♬ 딱 이 맘때 들으면 좋은 노래들 :) ♪ No.4 좋아요\" type=\"button\"><span class=\"odd_span\">좋아요</span> <span class=\"cnt\"> <span class=\"none\">총건수</span> 1,071 </span></button>\n",
              " <i class=\"bar\"></i>\n",
              " <span class=\"tot_song\" title=\"총 수록곡\">100곡</span>\n",
              " </div>, <div class=\"meta\">\n",
              " <button class=\"button_etc like btn_djplylst_like\" data-djcol-menuid=\"67190101\" data-djcol-no=\"494283599\" title=\"90년대생들이 MP3에 넣고 다녔던 남자 발라드 좋아요\" type=\"button\"><span class=\"odd_span\">좋아요</span> <span class=\"cnt\"> <span class=\"none\">총건수</span> 2,119 </span></button>\n",
              " <i class=\"bar\"></i>\n",
              " <span class=\"tot_song\" title=\"총 수록곡\">158곡</span>\n",
              " </div>, <div class=\"meta\">\n",
              " <button class=\"button_etc like btn_djplylst_like\" data-djcol-menuid=\"67190101\" data-djcol-no=\"500956947\" title=\"요즘 자주 듣는 발라드 best 30 pt.13 좋아요\" type=\"button\"><span class=\"odd_span\">좋아요</span> <span class=\"cnt\"> <span class=\"none\">총건수</span> 46 </span></button>\n",
              " <i class=\"bar\"></i>\n",
              " <span class=\"tot_song\" title=\"총 수록곡\">30곡</span>\n",
              " </div>, <div class=\"meta\">\n",
              " <button class=\"button_etc like btn_djplylst_like\" data-djcol-menuid=\"67190101\" data-djcol-no=\"496748349\" title=\"[OST] 티빙 환승연애 좋아요\" type=\"button\"><span class=\"odd_span\">좋아요</span> <span class=\"cnt\"> <span class=\"none\">총건수</span> 4,473 </span></button>\n",
              " <i class=\"bar\"></i>\n",
              " <span class=\"tot_song\" title=\"총 수록곡\">524곡</span>\n",
              " </div>, <div class=\"meta\">\n",
              " <button class=\"button_etc like btn_djplylst_like\" data-djcol-menuid=\"67190101\" data-djcol-no=\"485926496\" title=\"마음을 울리는 90년대 발라드 명곡 좋아요\" type=\"button\"><span class=\"odd_span\">좋아요</span> <span class=\"cnt\"> <span class=\"none\">총건수</span> 2,245 </span></button>\n",
              " <i class=\"bar\"></i>\n",
              " <span class=\"tot_song\" title=\"총 수록곡\">101곡</span>\n",
              " </div>, <div class=\"meta\">\n",
              " <button class=\"button_etc like btn_djplylst_like\" data-djcol-menuid=\"67190101\" data-djcol-no=\"464364666\" title=\"펑펑 울고 싶은 날 들어요. 이별을 노래한 잔잔한 발라드 좋아요\" type=\"button\"><span class=\"odd_span\">좋아요</span> <span class=\"cnt\"> <span class=\"none\">총건수</span> 2,085 </span></button>\n",
              " <i class=\"bar\"></i>\n",
              " <span class=\"tot_song\" title=\"총 수록곡\">97곡</span>\n",
              " </div>, <div class=\"meta\">\n",
              " <button class=\"button_etc like btn_djplylst_like\" data-djcol-menuid=\"67190101\" data-djcol-no=\"480011338\" title=\"슬픔에 파묻히고 싶을 때 듣는 이별 노래 좋아요\" type=\"button\"><span class=\"odd_span\">좋아요</span> <span class=\"cnt\"> <span class=\"none\">총건수</span> 1,187 </span></button>\n",
              " <i class=\"bar\"></i>\n",
              " <span class=\"tot_song\" title=\"총 수록곡\">255곡</span>\n",
              " </div>, <div class=\"meta\">\n",
              " <button class=\"button_etc like btn_djplylst_like\" data-djcol-menuid=\"67190101\" data-djcol-no=\"438523538\" title=\"하루종일 발라드 음악만 듣고싶을때....(매주 업뎃) 좋아요\" type=\"button\"><span class=\"odd_span\">좋아요</span> <span class=\"cnt\"> <span class=\"none\">총건수</span> 1,708 </span></button>\n",
              " <i class=\"bar\"></i>\n",
              " <span class=\"tot_song\" title=\"총 수록곡\">272곡</span>\n",
              " </div>, <div class=\"meta\">\n",
              " <button class=\"button_etc like btn_djplylst_like\" data-djcol-menuid=\"67190101\" data-djcol-no=\"479848178\" title=\"시간이 흘러도 여전히 좋은 추억의 발라드 명곡 좋아요\" type=\"button\"><span class=\"odd_span\">좋아요</span> <span class=\"cnt\"> <span class=\"none\">총건수</span> 3,955 </span></button>\n",
              " <i class=\"bar\"></i>\n",
              " <span class=\"tot_song\" title=\"총 수록곡\">89곡</span>\n",
              " </div>, <div class=\"meta\">\n",
              " <button class=\"button_etc like btn_djplylst_like\" data-djcol-menuid=\"67190101\" data-djcol-no=\"500439113\" title=\"이별 후 남자들이 노래방에서 절절하게 부르는 발라드 좋아요\" type=\"button\"><span class=\"odd_span\">좋아요</span> <span class=\"cnt\"> <span class=\"none\">총건수</span> 128 </span></button>\n",
              " <i class=\"bar\"></i>\n",
              " <span class=\"tot_song\" title=\"총 수록곡\">61곡</span>\n",
              " </div>, <div class=\"meta\">\n",
              " <button class=\"button_etc like btn_djplylst_like\" data-djcol-menuid=\"67190101\" data-djcol-no=\"484693852\" title=\"가을과 겨울 사이의 감성을 닮은 노래들 좋아요\" type=\"button\"><span class=\"odd_span\">좋아요</span> <span class=\"cnt\"> <span class=\"none\">총건수</span> 1,124 </span></button>\n",
              " <i class=\"bar\"></i>\n",
              " <span class=\"tot_song\" title=\"총 수록곡\">41곡</span>\n",
              " </div>, <div class=\"meta\">\n",
              " <button class=\"button_etc like btn_djplylst_like\" data-djcol-menuid=\"67190101\" data-djcol-no=\"460839330\" title=\"살다가 한 번쯤 겪는 이야기, 이별 발라드. 좋아요\" type=\"button\"><span class=\"odd_span\">좋아요</span> <span class=\"cnt\"> <span class=\"none\">총건수</span> 4,956 </span></button>\n",
              " <i class=\"bar\"></i>\n",
              " <span class=\"tot_song\" title=\"총 수록곡\">303곡</span>\n",
              " </div>, <div class=\"meta\">\n",
              " <button class=\"button_etc like btn_djplylst_like\" data-djcol-menuid=\"67190101\" data-djcol-no=\"497194219\" title=\"싸이월드 세대들의 추억의 발라드 BGM 100곡 좋아요\" type=\"button\"><span class=\"odd_span\">좋아요</span> <span class=\"cnt\"> <span class=\"none\">총건수</span> 1,039 </span></button>\n",
              " <i class=\"bar\"></i>\n",
              " <span class=\"tot_song\" title=\"총 수록곡\">102곡</span>\n",
              " </div>, <div class=\"meta\">\n",
              " <button class=\"button_etc like btn_djplylst_like\" data-djcol-menuid=\"67190101\" data-djcol-no=\"436356771\" title=\"1990년대 발라드 가요 좋아요\" type=\"button\"><span class=\"odd_span\">좋아요</span> <span class=\"cnt\"> <span class=\"none\">총건수</span> 29 </span></button>\n",
              " <i class=\"bar\"></i>\n",
              " <span class=\"tot_song\" title=\"총 수록곡\">61곡</span>\n",
              " </div>, <div class=\"meta\">\n",
              " <button class=\"button_etc like btn_djplylst_like\" data-djcol-menuid=\"67190101\" data-djcol-no=\"487561255\" title=\"눈물이 왈칵! 세기말 감성 락발라드 (90년대, 2000년대 초) 좋아요\" type=\"button\"><span class=\"odd_span\">좋아요</span> <span class=\"cnt\"> <span class=\"none\">총건수</span> 428 </span></button>\n",
              " <i class=\"bar\"></i>\n",
              " <span class=\"tot_song\" title=\"총 수록곡\">36곡</span>\n",
              " </div>, <div class=\"meta\">\n",
              " <button class=\"button_etc like btn_djplylst_like\" data-djcol-menuid=\"67190101\" data-djcol-no=\"424293700\" title=\"추천 ♬ 잊혀질리 없는 명품 발라드 ① 좋아요\" type=\"button\"><span class=\"odd_span\">좋아요</span> <span class=\"cnt\"> <span class=\"none\">총건수</span> 9,232 </span></button>\n",
              " <i class=\"bar\"></i>\n",
              " <span class=\"tot_song\" title=\"총 수록곡\">272곡</span>\n",
              " </div>, <div class=\"meta\">\n",
              " <button class=\"button_etc like btn_djplylst_like\" data-djcol-menuid=\"67190101\" data-djcol-no=\"464912425\" title=\"좋은것만 모은 발라드 좋아요\" type=\"button\"><span class=\"odd_span\">좋아요</span> <span class=\"cnt\"> <span class=\"none\">총건수</span> 883 </span></button>\n",
              " <i class=\"bar\"></i>\n",
              " <span class=\"tot_song\" title=\"총 수록곡\">288곡</span>\n",
              " </div>, <div class=\"meta\">\n",
              " <button class=\"button_etc like btn_djplylst_like\" data-djcol-menuid=\"67190101\" data-djcol-no=\"485351845\" title=\"속이 뻥 뚫리는 사이다 가사, 신나는 멜로디의 이별 노래 좋아요\" type=\"button\"><span class=\"odd_span\">좋아요</span> <span class=\"cnt\"> <span class=\"none\">총건수</span> 92 </span></button>\n",
              " <i class=\"bar\"></i>\n",
              " <span class=\"tot_song\" title=\"총 수록곡\">47곡</span>\n",
              " </div>]"
            ]
          },
          "metadata": {},
          "execution_count": 72
        }
      ]
    },
    {
      "cell_type": "code",
      "metadata": {
        "colab": {
          "base_uri": "https://localhost:8080/"
        },
        "id": "iTGcRvu3bF05",
        "outputId": "0bdcbf8f-69ed-4f28-eced-e32e9ad7f03a"
      },
      "source": [
        "meta[0]"
      ],
      "execution_count": 77,
      "outputs": [
        {
          "output_type": "execute_result",
          "data": {
            "text/plain": [
              "<div class=\"meta\">\n",
              "<button class=\"button_etc like btn_djplylst_like\" data-djcol-menuid=\"67190101\" data-djcol-no=\"499517306\" title=\"가을 바람에 문득 누군가 떠오를때... 플레이리스트 좋아요\" type=\"button\"><span class=\"odd_span\">좋아요</span> <span class=\"cnt\"> <span class=\"none\">총건수</span> 792 </span></button>\n",
              "<i class=\"bar\"></i>\n",
              "<span class=\"tot_song\" title=\"총 수록곡\">20곡</span>\n",
              "</div>"
            ]
          },
          "metadata": {},
          "execution_count": 77
        }
      ]
    },
    {
      "cell_type": "code",
      "metadata": {
        "colab": {
          "base_uri": "https://localhost:8080/"
        },
        "id": "BDRWzP7Ecdo9",
        "outputId": "6c201683-61ab-425b-b888-94914835ce80"
      },
      "source": [
        "#메타 데이터에서 플레이리스트 곡 수 추출\n",
        "meta =soup.find_all('div', {'class' : 'meta'})\n",
        "\n",
        "for n in range(0, 20) :\n",
        "  print('{0}번째 플레이리스트'.format(n+1))\n",
        "  song_str = meta[n].find('span', {'class' : 'tot_song'}).text\n",
        "  print(re.search('(\\d+)',song_str).group())\n",
        "\n",
        "type(re.search('(\\d+)',song_str).group())"
      ],
      "execution_count": 103,
      "outputs": [
        {
          "output_type": "stream",
          "name": "stdout",
          "text": [
            "1번째 플레이리스트\n",
            "20\n",
            "2번째 플레이리스트\n",
            "74\n",
            "3번째 플레이리스트\n",
            "100\n",
            "4번째 플레이리스트\n",
            "158\n",
            "5번째 플레이리스트\n",
            "30\n",
            "6번째 플레이리스트\n",
            "524\n",
            "7번째 플레이리스트\n",
            "101\n",
            "8번째 플레이리스트\n",
            "97\n",
            "9번째 플레이리스트\n",
            "255\n",
            "10번째 플레이리스트\n",
            "272\n",
            "11번째 플레이리스트\n",
            "89\n",
            "12번째 플레이리스트\n",
            "61\n",
            "13번째 플레이리스트\n",
            "41\n",
            "14번째 플레이리스트\n",
            "303\n",
            "15번째 플레이리스트\n",
            "102\n",
            "16번째 플레이리스트\n",
            "61\n",
            "17번째 플레이리스트\n",
            "36\n",
            "18번째 플레이리스트\n",
            "272\n",
            "19번째 플레이리스트\n",
            "288\n",
            "20번째 플레이리스트\n",
            "47\n"
          ]
        },
        {
          "output_type": "execute_result",
          "data": {
            "text/plain": [
              "str"
            ]
          },
          "metadata": {},
          "execution_count": 103
        }
      ]
    },
    {
      "cell_type": "code",
      "metadata": {
        "colab": {
          "base_uri": "https://localhost:8080/",
          "height": 1000
        },
        "id": "l2CC7gLQaUbn",
        "outputId": "3bd9fa60-f963-4569-eba3-7e68e0830fe7"
      },
      "source": [
        "# 한 페이지에서 플레이리스트 크롤링\n",
        "\n",
        "df = pd.DataFrame(columns=['title', 'num', 'song_cnt'])\n",
        "meta =soup.find_all('div', {'class' : 'meta'})\n",
        "\n",
        "for n in range(0, 20) :\n",
        "  print('{0}번째 플레이리스트'.format(n+1))\n",
        "  list_title = meta[n].find('button')['title']\n",
        "  list_num = meta[n].find('button')['data-djcol-no']\n",
        "  song_str = meta[n].find('span', {'class' : 'tot_song'}).text\n",
        "  song_cnt = int(re.search('(\\d+)',song_str).group())\n",
        "  play = {'title' : list_title, 'num' : list_num, 'song_cnt' : song_cnt}\n",
        "  df =df.append(play, ignore_index=True)\n",
        "df"
      ],
      "execution_count": 119,
      "outputs": [
        {
          "output_type": "stream",
          "name": "stdout",
          "text": [
            "1번째 플레이리스트\n",
            "2번째 플레이리스트\n",
            "3번째 플레이리스트\n",
            "4번째 플레이리스트\n",
            "5번째 플레이리스트\n",
            "6번째 플레이리스트\n",
            "7번째 플레이리스트\n",
            "8번째 플레이리스트\n",
            "9번째 플레이리스트\n",
            "10번째 플레이리스트\n",
            "11번째 플레이리스트\n",
            "12번째 플레이리스트\n",
            "13번째 플레이리스트\n",
            "14번째 플레이리스트\n",
            "15번째 플레이리스트\n",
            "16번째 플레이리스트\n",
            "17번째 플레이리스트\n",
            "18번째 플레이리스트\n",
            "19번째 플레이리스트\n",
            "20번째 플레이리스트\n"
          ]
        },
        {
          "output_type": "execute_result",
          "data": {
            "text/html": [
              "<div>\n",
              "<style scoped>\n",
              "    .dataframe tbody tr th:only-of-type {\n",
              "        vertical-align: middle;\n",
              "    }\n",
              "\n",
              "    .dataframe tbody tr th {\n",
              "        vertical-align: top;\n",
              "    }\n",
              "\n",
              "    .dataframe thead th {\n",
              "        text-align: right;\n",
              "    }\n",
              "</style>\n",
              "<table border=\"1\" class=\"dataframe\">\n",
              "  <thead>\n",
              "    <tr style=\"text-align: right;\">\n",
              "      <th></th>\n",
              "      <th>title</th>\n",
              "      <th>num</th>\n",
              "      <th>song_cnt</th>\n",
              "    </tr>\n",
              "  </thead>\n",
              "  <tbody>\n",
              "    <tr>\n",
              "      <th>0</th>\n",
              "      <td>가을 바람에 문득 누군가 떠오를때... 플레이리스트 좋아요</td>\n",
              "      <td>499517306</td>\n",
              "      <td>20</td>\n",
              "    </tr>\n",
              "    <tr>\n",
              "      <th>1</th>\n",
              "      <td>애잔한 갬성...// 쌀쌀한 요즘 날씨에 듣기 좋은 팝송 좋아요</td>\n",
              "      <td>433839049</td>\n",
              "      <td>74</td>\n",
              "    </tr>\n",
              "    <tr>\n",
              "      <th>2</th>\n",
              "      <td>추천 ♬ 딱 이 맘때 들으면 좋은 노래들 :) ♪ No.4 좋아요</td>\n",
              "      <td>467894077</td>\n",
              "      <td>100</td>\n",
              "    </tr>\n",
              "    <tr>\n",
              "      <th>3</th>\n",
              "      <td>90년대생들이 MP3에 넣고 다녔던 남자 발라드 좋아요</td>\n",
              "      <td>494283599</td>\n",
              "      <td>158</td>\n",
              "    </tr>\n",
              "    <tr>\n",
              "      <th>4</th>\n",
              "      <td>요즘 자주 듣는 발라드 best 30 pt.13 좋아요</td>\n",
              "      <td>500956947</td>\n",
              "      <td>30</td>\n",
              "    </tr>\n",
              "    <tr>\n",
              "      <th>5</th>\n",
              "      <td>[OST] 티빙 환승연애 좋아요</td>\n",
              "      <td>496748349</td>\n",
              "      <td>524</td>\n",
              "    </tr>\n",
              "    <tr>\n",
              "      <th>6</th>\n",
              "      <td>마음을 울리는 90년대 발라드 명곡 좋아요</td>\n",
              "      <td>485926496</td>\n",
              "      <td>101</td>\n",
              "    </tr>\n",
              "    <tr>\n",
              "      <th>7</th>\n",
              "      <td>펑펑 울고 싶은 날 들어요. 이별을 노래한 잔잔한 발라드 좋아요</td>\n",
              "      <td>464364666</td>\n",
              "      <td>97</td>\n",
              "    </tr>\n",
              "    <tr>\n",
              "      <th>8</th>\n",
              "      <td>슬픔에 파묻히고 싶을 때 듣는 이별 노래 좋아요</td>\n",
              "      <td>480011338</td>\n",
              "      <td>255</td>\n",
              "    </tr>\n",
              "    <tr>\n",
              "      <th>9</th>\n",
              "      <td>하루종일 발라드 음악만 듣고싶을때....(매주 업뎃) 좋아요</td>\n",
              "      <td>438523538</td>\n",
              "      <td>272</td>\n",
              "    </tr>\n",
              "    <tr>\n",
              "      <th>10</th>\n",
              "      <td>시간이 흘러도 여전히 좋은 추억의 발라드 명곡 좋아요</td>\n",
              "      <td>479848178</td>\n",
              "      <td>89</td>\n",
              "    </tr>\n",
              "    <tr>\n",
              "      <th>11</th>\n",
              "      <td>이별 후 남자들이 노래방에서 절절하게 부르는 발라드 좋아요</td>\n",
              "      <td>500439113</td>\n",
              "      <td>61</td>\n",
              "    </tr>\n",
              "    <tr>\n",
              "      <th>12</th>\n",
              "      <td>가을과 겨울 사이의 감성을 닮은 노래들 좋아요</td>\n",
              "      <td>484693852</td>\n",
              "      <td>41</td>\n",
              "    </tr>\n",
              "    <tr>\n",
              "      <th>13</th>\n",
              "      <td>살다가 한 번쯤 겪는 이야기, 이별 발라드. 좋아요</td>\n",
              "      <td>460839330</td>\n",
              "      <td>303</td>\n",
              "    </tr>\n",
              "    <tr>\n",
              "      <th>14</th>\n",
              "      <td>싸이월드 세대들의 추억의 발라드 BGM 100곡 좋아요</td>\n",
              "      <td>497194219</td>\n",
              "      <td>102</td>\n",
              "    </tr>\n",
              "    <tr>\n",
              "      <th>15</th>\n",
              "      <td>1990년대 발라드 가요 좋아요</td>\n",
              "      <td>436356771</td>\n",
              "      <td>61</td>\n",
              "    </tr>\n",
              "    <tr>\n",
              "      <th>16</th>\n",
              "      <td>눈물이 왈칵! 세기말 감성 락발라드 (90년대, 2000년대 초) 좋아요</td>\n",
              "      <td>487561255</td>\n",
              "      <td>36</td>\n",
              "    </tr>\n",
              "    <tr>\n",
              "      <th>17</th>\n",
              "      <td>추천 ♬ 잊혀질리 없는 명품 발라드 ① 좋아요</td>\n",
              "      <td>424293700</td>\n",
              "      <td>272</td>\n",
              "    </tr>\n",
              "    <tr>\n",
              "      <th>18</th>\n",
              "      <td>좋은것만 모은 발라드 좋아요</td>\n",
              "      <td>464912425</td>\n",
              "      <td>288</td>\n",
              "    </tr>\n",
              "    <tr>\n",
              "      <th>19</th>\n",
              "      <td>속이 뻥 뚫리는 사이다 가사, 신나는 멜로디의 이별 노래 좋아요</td>\n",
              "      <td>485351845</td>\n",
              "      <td>47</td>\n",
              "    </tr>\n",
              "  </tbody>\n",
              "</table>\n",
              "</div>"
            ],
            "text/plain": [
              "                                       title        num song_cnt\n",
              "0           가을 바람에 문득 누군가 떠오를때... 플레이리스트 좋아요  499517306       20\n",
              "1        애잔한 갬성...// 쌀쌀한 요즘 날씨에 듣기 좋은 팝송 좋아요  433839049       74\n",
              "2       추천 ♬ 딱 이 맘때 들으면 좋은 노래들 :) ♪ No.4 좋아요  467894077      100\n",
              "3             90년대생들이 MP3에 넣고 다녔던 남자 발라드 좋아요  494283599      158\n",
              "4             요즘 자주 듣는 발라드 best 30 pt.13 좋아요  500956947       30\n",
              "5                          [OST] 티빙 환승연애 좋아요  496748349      524\n",
              "6                    마음을 울리는 90년대 발라드 명곡 좋아요  485926496      101\n",
              "7        펑펑 울고 싶은 날 들어요. 이별을 노래한 잔잔한 발라드 좋아요  464364666       97\n",
              "8                 슬픔에 파묻히고 싶을 때 듣는 이별 노래 좋아요  480011338      255\n",
              "9          하루종일 발라드 음악만 듣고싶을때....(매주 업뎃) 좋아요  438523538      272\n",
              "10             시간이 흘러도 여전히 좋은 추억의 발라드 명곡 좋아요  479848178       89\n",
              "11          이별 후 남자들이 노래방에서 절절하게 부르는 발라드 좋아요  500439113       61\n",
              "12                 가을과 겨울 사이의 감성을 닮은 노래들 좋아요  484693852       41\n",
              "13              살다가 한 번쯤 겪는 이야기, 이별 발라드. 좋아요  460839330      303\n",
              "14            싸이월드 세대들의 추억의 발라드 BGM 100곡 좋아요  497194219      102\n",
              "15                         1990년대 발라드 가요 좋아요  436356771       61\n",
              "16  눈물이 왈칵! 세기말 감성 락발라드 (90년대, 2000년대 초) 좋아요  487561255       36\n",
              "17                 추천 ♬ 잊혀질리 없는 명품 발라드 ① 좋아요  424293700      272\n",
              "18                           좋은것만 모은 발라드 좋아요  464912425      288\n",
              "19       속이 뻥 뚫리는 사이다 가사, 신나는 멜로디의 이별 노래 좋아요  485351845       47"
            ]
          },
          "metadata": {},
          "execution_count": 119
        }
      ]
    },
    {
      "cell_type": "code",
      "metadata": {
        "colab": {
          "base_uri": "https://localhost:8080/",
          "height": 535
        },
        "id": "Qdf8Eo6FlxbL",
        "outputId": "49296779-ddd7-46ce-f872-7cc5db01ce1f"
      },
      "source": [
        "# 한 페이지에서 플레이리스트 크롤링\n",
        "driver.implicitly_wait(0.5)\n",
        "driver.get('https://www.melon.com/dj/themegenre/djthemegenre_list.htm')\n",
        "# 테마 장르 클릭\n",
        "driver.find_element_by_css_selector('#gnb_menu > ul:nth-child(1) > li.nth4.on > div > ul > li.on > a > span').click()\n",
        "\n",
        "#태그 입력\n",
        "search_kw =driver.find_element_by_id('djSearchKeyword')\n",
        "search_kw.send_keys('이별')\n",
        "\n",
        "#검색 클릭\n",
        "driver.find_element_by_xpath('//*[@id=\"conts\"]/div[1]/div[2]/div[2]/button').click()\n",
        "\n",
        "\n",
        "df = pd.DataFrame(columns=['title', 'num', 'song_cnt'])\n",
        "meta =soup.find_all('div', {'class' : 'meta'})\n",
        "cnt =1\n",
        "while cnt <20 :\n",
        "  \n",
        "  if cnt%10 !=0 : \n",
        "    for n in range(0, 20) :\n",
        "      print('{0}번째 플레이리스트'.format(n+1))\n",
        "      list_title = meta[n].find('button')['title']\n",
        "      list_num = meta[n].find('button')['data-djcol-no']\n",
        "      song_str = meta[n].find('span', {'class' : 'tot_song'}).text\n",
        "      song_cnt = int(re.search('(\\d+)',song_str).group())\n",
        "      play = {'title' : list_title, 'num' : list_num, 'song_cnt' : song_cnt}\n",
        "      df =df.append(play, ignore_index=True)\n",
        "    cnt+=1\n",
        "    driver.find_element_by_css_selector('#pageObjNavgation > div > span > a:nth-child({0})'.format(cnt))\n",
        "    driver.implicitly_wait(0.5)\n",
        "  elif cnt == 10 :\n",
        "\n",
        "    driver.find_element_by_css_selector('#pageObjNavgation > div > a')\n",
        "    continue\n",
        "  \n",
        "df"
      ],
      "execution_count": 127,
      "outputs": [
        {
          "output_type": "error",
          "ename": "MaxRetryError",
          "evalue": "ignored",
          "traceback": [
            "\u001b[0;31m---------------------------------------------------------------------------\u001b[0m",
            "\u001b[0;31mConnectionRefusedError\u001b[0m                    Traceback (most recent call last)",
            "\u001b[0;32m/usr/local/lib/python3.7/dist-packages/urllib3/connection.py\u001b[0m in \u001b[0;36m_new_conn\u001b[0;34m(self)\u001b[0m\n\u001b[1;32m    159\u001b[0m             conn = connection.create_connection(\n\u001b[0;32m--> 160\u001b[0;31m                 \u001b[0;34m(\u001b[0m\u001b[0mself\u001b[0m\u001b[0;34m.\u001b[0m\u001b[0m_dns_host\u001b[0m\u001b[0;34m,\u001b[0m \u001b[0mself\u001b[0m\u001b[0;34m.\u001b[0m\u001b[0mport\u001b[0m\u001b[0;34m)\u001b[0m\u001b[0;34m,\u001b[0m \u001b[0mself\u001b[0m\u001b[0;34m.\u001b[0m\u001b[0mtimeout\u001b[0m\u001b[0;34m,\u001b[0m \u001b[0;34m**\u001b[0m\u001b[0mextra_kw\u001b[0m\u001b[0;34m\u001b[0m\u001b[0;34m\u001b[0m\u001b[0m\n\u001b[0m\u001b[1;32m    161\u001b[0m             )\n",
            "\u001b[0;32m/usr/local/lib/python3.7/dist-packages/urllib3/util/connection.py\u001b[0m in \u001b[0;36mcreate_connection\u001b[0;34m(address, timeout, source_address, socket_options)\u001b[0m\n\u001b[1;32m     83\u001b[0m     \u001b[0;32mif\u001b[0m \u001b[0merr\u001b[0m \u001b[0;32mis\u001b[0m \u001b[0;32mnot\u001b[0m \u001b[0;32mNone\u001b[0m\u001b[0;34m:\u001b[0m\u001b[0;34m\u001b[0m\u001b[0;34m\u001b[0m\u001b[0m\n\u001b[0;32m---> 84\u001b[0;31m         \u001b[0;32mraise\u001b[0m \u001b[0merr\u001b[0m\u001b[0;34m\u001b[0m\u001b[0;34m\u001b[0m\u001b[0m\n\u001b[0m\u001b[1;32m     85\u001b[0m \u001b[0;34m\u001b[0m\u001b[0m\n",
            "\u001b[0;32m/usr/local/lib/python3.7/dist-packages/urllib3/util/connection.py\u001b[0m in \u001b[0;36mcreate_connection\u001b[0;34m(address, timeout, source_address, socket_options)\u001b[0m\n\u001b[1;32m     73\u001b[0m                 \u001b[0msock\u001b[0m\u001b[0;34m.\u001b[0m\u001b[0mbind\u001b[0m\u001b[0;34m(\u001b[0m\u001b[0msource_address\u001b[0m\u001b[0;34m)\u001b[0m\u001b[0;34m\u001b[0m\u001b[0;34m\u001b[0m\u001b[0m\n\u001b[0;32m---> 74\u001b[0;31m             \u001b[0msock\u001b[0m\u001b[0;34m.\u001b[0m\u001b[0mconnect\u001b[0m\u001b[0;34m(\u001b[0m\u001b[0msa\u001b[0m\u001b[0;34m)\u001b[0m\u001b[0;34m\u001b[0m\u001b[0;34m\u001b[0m\u001b[0m\n\u001b[0m\u001b[1;32m     75\u001b[0m             \u001b[0;32mreturn\u001b[0m \u001b[0msock\u001b[0m\u001b[0;34m\u001b[0m\u001b[0;34m\u001b[0m\u001b[0m\n",
            "\u001b[0;31mConnectionRefusedError\u001b[0m: [Errno 111] Connection refused",
            "\nDuring handling of the above exception, another exception occurred:\n",
            "\u001b[0;31mNewConnectionError\u001b[0m                        Traceback (most recent call last)",
            "\u001b[0;32m/usr/local/lib/python3.7/dist-packages/urllib3/connectionpool.py\u001b[0m in \u001b[0;36murlopen\u001b[0;34m(self, method, url, body, headers, retries, redirect, assert_same_host, timeout, pool_timeout, release_conn, chunked, body_pos, **response_kw)\u001b[0m\n\u001b[1;32m    676\u001b[0m                 \u001b[0mheaders\u001b[0m\u001b[0;34m=\u001b[0m\u001b[0mheaders\u001b[0m\u001b[0;34m,\u001b[0m\u001b[0;34m\u001b[0m\u001b[0;34m\u001b[0m\u001b[0m\n\u001b[0;32m--> 677\u001b[0;31m                 \u001b[0mchunked\u001b[0m\u001b[0;34m=\u001b[0m\u001b[0mchunked\u001b[0m\u001b[0;34m,\u001b[0m\u001b[0;34m\u001b[0m\u001b[0;34m\u001b[0m\u001b[0m\n\u001b[0m\u001b[1;32m    678\u001b[0m             )\n",
            "\u001b[0;32m/usr/local/lib/python3.7/dist-packages/urllib3/connectionpool.py\u001b[0m in \u001b[0;36m_make_request\u001b[0;34m(self, conn, method, url, timeout, chunked, **httplib_request_kw)\u001b[0m\n\u001b[1;32m    391\u001b[0m         \u001b[0;32melse\u001b[0m\u001b[0;34m:\u001b[0m\u001b[0;34m\u001b[0m\u001b[0;34m\u001b[0m\u001b[0m\n\u001b[0;32m--> 392\u001b[0;31m             \u001b[0mconn\u001b[0m\u001b[0;34m.\u001b[0m\u001b[0mrequest\u001b[0m\u001b[0;34m(\u001b[0m\u001b[0mmethod\u001b[0m\u001b[0;34m,\u001b[0m \u001b[0murl\u001b[0m\u001b[0;34m,\u001b[0m \u001b[0;34m**\u001b[0m\u001b[0mhttplib_request_kw\u001b[0m\u001b[0;34m)\u001b[0m\u001b[0;34m\u001b[0m\u001b[0;34m\u001b[0m\u001b[0m\n\u001b[0m\u001b[1;32m    393\u001b[0m \u001b[0;34m\u001b[0m\u001b[0m\n",
            "\u001b[0;32m/usr/lib/python3.7/http/client.py\u001b[0m in \u001b[0;36mrequest\u001b[0;34m(self, method, url, body, headers, encode_chunked)\u001b[0m\n\u001b[1;32m   1280\u001b[0m         \u001b[0;34m\"\"\"Send a complete request to the server.\"\"\"\u001b[0m\u001b[0;34m\u001b[0m\u001b[0;34m\u001b[0m\u001b[0m\n\u001b[0;32m-> 1281\u001b[0;31m         \u001b[0mself\u001b[0m\u001b[0;34m.\u001b[0m\u001b[0m_send_request\u001b[0m\u001b[0;34m(\u001b[0m\u001b[0mmethod\u001b[0m\u001b[0;34m,\u001b[0m \u001b[0murl\u001b[0m\u001b[0;34m,\u001b[0m \u001b[0mbody\u001b[0m\u001b[0;34m,\u001b[0m \u001b[0mheaders\u001b[0m\u001b[0;34m,\u001b[0m \u001b[0mencode_chunked\u001b[0m\u001b[0;34m)\u001b[0m\u001b[0;34m\u001b[0m\u001b[0;34m\u001b[0m\u001b[0m\n\u001b[0m\u001b[1;32m   1282\u001b[0m \u001b[0;34m\u001b[0m\u001b[0m\n",
            "\u001b[0;32m/usr/lib/python3.7/http/client.py\u001b[0m in \u001b[0;36m_send_request\u001b[0;34m(self, method, url, body, headers, encode_chunked)\u001b[0m\n\u001b[1;32m   1326\u001b[0m             \u001b[0mbody\u001b[0m \u001b[0;34m=\u001b[0m \u001b[0m_encode\u001b[0m\u001b[0;34m(\u001b[0m\u001b[0mbody\u001b[0m\u001b[0;34m,\u001b[0m \u001b[0;34m'body'\u001b[0m\u001b[0;34m)\u001b[0m\u001b[0;34m\u001b[0m\u001b[0;34m\u001b[0m\u001b[0m\n\u001b[0;32m-> 1327\u001b[0;31m         \u001b[0mself\u001b[0m\u001b[0;34m.\u001b[0m\u001b[0mendheaders\u001b[0m\u001b[0;34m(\u001b[0m\u001b[0mbody\u001b[0m\u001b[0;34m,\u001b[0m \u001b[0mencode_chunked\u001b[0m\u001b[0;34m=\u001b[0m\u001b[0mencode_chunked\u001b[0m\u001b[0;34m)\u001b[0m\u001b[0;34m\u001b[0m\u001b[0;34m\u001b[0m\u001b[0m\n\u001b[0m\u001b[1;32m   1328\u001b[0m \u001b[0;34m\u001b[0m\u001b[0m\n",
            "\u001b[0;32m/usr/lib/python3.7/http/client.py\u001b[0m in \u001b[0;36mendheaders\u001b[0;34m(self, message_body, encode_chunked)\u001b[0m\n\u001b[1;32m   1275\u001b[0m             \u001b[0;32mraise\u001b[0m \u001b[0mCannotSendHeader\u001b[0m\u001b[0;34m(\u001b[0m\u001b[0;34m)\u001b[0m\u001b[0;34m\u001b[0m\u001b[0;34m\u001b[0m\u001b[0m\n\u001b[0;32m-> 1276\u001b[0;31m         \u001b[0mself\u001b[0m\u001b[0;34m.\u001b[0m\u001b[0m_send_output\u001b[0m\u001b[0;34m(\u001b[0m\u001b[0mmessage_body\u001b[0m\u001b[0;34m,\u001b[0m \u001b[0mencode_chunked\u001b[0m\u001b[0;34m=\u001b[0m\u001b[0mencode_chunked\u001b[0m\u001b[0;34m)\u001b[0m\u001b[0;34m\u001b[0m\u001b[0;34m\u001b[0m\u001b[0m\n\u001b[0m\u001b[1;32m   1277\u001b[0m \u001b[0;34m\u001b[0m\u001b[0m\n",
            "\u001b[0;32m/usr/lib/python3.7/http/client.py\u001b[0m in \u001b[0;36m_send_output\u001b[0;34m(self, message_body, encode_chunked)\u001b[0m\n\u001b[1;32m   1035\u001b[0m         \u001b[0;32mdel\u001b[0m \u001b[0mself\u001b[0m\u001b[0;34m.\u001b[0m\u001b[0m_buffer\u001b[0m\u001b[0;34m[\u001b[0m\u001b[0;34m:\u001b[0m\u001b[0;34m]\u001b[0m\u001b[0;34m\u001b[0m\u001b[0;34m\u001b[0m\u001b[0m\n\u001b[0;32m-> 1036\u001b[0;31m         \u001b[0mself\u001b[0m\u001b[0;34m.\u001b[0m\u001b[0msend\u001b[0m\u001b[0;34m(\u001b[0m\u001b[0mmsg\u001b[0m\u001b[0;34m)\u001b[0m\u001b[0;34m\u001b[0m\u001b[0;34m\u001b[0m\u001b[0m\n\u001b[0m\u001b[1;32m   1037\u001b[0m \u001b[0;34m\u001b[0m\u001b[0m\n",
            "\u001b[0;32m/usr/lib/python3.7/http/client.py\u001b[0m in \u001b[0;36msend\u001b[0;34m(self, data)\u001b[0m\n\u001b[1;32m    975\u001b[0m             \u001b[0;32mif\u001b[0m \u001b[0mself\u001b[0m\u001b[0;34m.\u001b[0m\u001b[0mauto_open\u001b[0m\u001b[0;34m:\u001b[0m\u001b[0;34m\u001b[0m\u001b[0;34m\u001b[0m\u001b[0m\n\u001b[0;32m--> 976\u001b[0;31m                 \u001b[0mself\u001b[0m\u001b[0;34m.\u001b[0m\u001b[0mconnect\u001b[0m\u001b[0;34m(\u001b[0m\u001b[0;34m)\u001b[0m\u001b[0;34m\u001b[0m\u001b[0;34m\u001b[0m\u001b[0m\n\u001b[0m\u001b[1;32m    977\u001b[0m             \u001b[0;32melse\u001b[0m\u001b[0;34m:\u001b[0m\u001b[0;34m\u001b[0m\u001b[0;34m\u001b[0m\u001b[0m\n",
            "\u001b[0;32m/usr/local/lib/python3.7/dist-packages/urllib3/connection.py\u001b[0m in \u001b[0;36mconnect\u001b[0;34m(self)\u001b[0m\n\u001b[1;32m    186\u001b[0m     \u001b[0;32mdef\u001b[0m \u001b[0mconnect\u001b[0m\u001b[0;34m(\u001b[0m\u001b[0mself\u001b[0m\u001b[0;34m)\u001b[0m\u001b[0;34m:\u001b[0m\u001b[0;34m\u001b[0m\u001b[0;34m\u001b[0m\u001b[0m\n\u001b[0;32m--> 187\u001b[0;31m         \u001b[0mconn\u001b[0m \u001b[0;34m=\u001b[0m \u001b[0mself\u001b[0m\u001b[0;34m.\u001b[0m\u001b[0m_new_conn\u001b[0m\u001b[0;34m(\u001b[0m\u001b[0;34m)\u001b[0m\u001b[0;34m\u001b[0m\u001b[0;34m\u001b[0m\u001b[0m\n\u001b[0m\u001b[1;32m    188\u001b[0m         \u001b[0mself\u001b[0m\u001b[0;34m.\u001b[0m\u001b[0m_prepare_conn\u001b[0m\u001b[0;34m(\u001b[0m\u001b[0mconn\u001b[0m\u001b[0;34m)\u001b[0m\u001b[0;34m\u001b[0m\u001b[0;34m\u001b[0m\u001b[0m\n",
            "\u001b[0;32m/usr/local/lib/python3.7/dist-packages/urllib3/connection.py\u001b[0m in \u001b[0;36m_new_conn\u001b[0;34m(self)\u001b[0m\n\u001b[1;32m    171\u001b[0m             raise NewConnectionError(\n\u001b[0;32m--> 172\u001b[0;31m                 \u001b[0mself\u001b[0m\u001b[0;34m,\u001b[0m \u001b[0;34m\"Failed to establish a new connection: %s\"\u001b[0m \u001b[0;34m%\u001b[0m \u001b[0me\u001b[0m\u001b[0;34m\u001b[0m\u001b[0;34m\u001b[0m\u001b[0m\n\u001b[0m\u001b[1;32m    173\u001b[0m             )\n",
            "\u001b[0;31mNewConnectionError\u001b[0m: <urllib3.connection.HTTPConnection object at 0x7f034ba6cb90>: Failed to establish a new connection: [Errno 111] Connection refused",
            "\nDuring handling of the above exception, another exception occurred:\n",
            "\u001b[0;31mMaxRetryError\u001b[0m                             Traceback (most recent call last)",
            "\u001b[0;32m<ipython-input-127-b3b888a08d17>\u001b[0m in \u001b[0;36m<module>\u001b[0;34m()\u001b[0m\n\u001b[1;32m      1\u001b[0m \u001b[0;31m# 한 페이지에서 플레이리스트 크롤링\u001b[0m\u001b[0;34m\u001b[0m\u001b[0;34m\u001b[0m\u001b[0;34m\u001b[0m\u001b[0m\n\u001b[0;32m----> 2\u001b[0;31m \u001b[0mdriver\u001b[0m\u001b[0;34m.\u001b[0m\u001b[0mimplicitly_wait\u001b[0m\u001b[0;34m(\u001b[0m\u001b[0;36m0.5\u001b[0m\u001b[0;34m)\u001b[0m\u001b[0;34m\u001b[0m\u001b[0;34m\u001b[0m\u001b[0m\n\u001b[0m\u001b[1;32m      3\u001b[0m \u001b[0mdriver\u001b[0m\u001b[0;34m.\u001b[0m\u001b[0mget\u001b[0m\u001b[0;34m(\u001b[0m\u001b[0;34m'https://www.melon.com/dj/themegenre/djthemegenre_list.htm'\u001b[0m\u001b[0;34m)\u001b[0m\u001b[0;34m\u001b[0m\u001b[0;34m\u001b[0m\u001b[0m\n\u001b[1;32m      4\u001b[0m \u001b[0;31m# 테마 장르 클릭\u001b[0m\u001b[0;34m\u001b[0m\u001b[0;34m\u001b[0m\u001b[0;34m\u001b[0m\u001b[0m\n\u001b[1;32m      5\u001b[0m \u001b[0mdriver\u001b[0m\u001b[0;34m.\u001b[0m\u001b[0mfind_element_by_css_selector\u001b[0m\u001b[0;34m(\u001b[0m\u001b[0;34m'#gnb_menu > ul:nth-child(1) > li.nth4.on > div > ul > li.on > a > span'\u001b[0m\u001b[0;34m)\u001b[0m\u001b[0;34m.\u001b[0m\u001b[0mclick\u001b[0m\u001b[0;34m(\u001b[0m\u001b[0;34m)\u001b[0m\u001b[0;34m\u001b[0m\u001b[0;34m\u001b[0m\u001b[0m\n",
            "\u001b[0;32m/usr/local/lib/python3.7/dist-packages/selenium/webdriver/remote/webdriver.py\u001b[0m in \u001b[0;36mimplicitly_wait\u001b[0;34m(self, time_to_wait)\u001b[0m\n\u001b[1;32m   1141\u001b[0m         \"\"\"\n\u001b[1;32m   1142\u001b[0m         self.execute(Command.SET_TIMEOUTS, {\n\u001b[0;32m-> 1143\u001b[0;31m             'implicit': int(float(time_to_wait) * 1000)})\n\u001b[0m\u001b[1;32m   1144\u001b[0m \u001b[0;34m\u001b[0m\u001b[0m\n\u001b[1;32m   1145\u001b[0m     \u001b[0;32mdef\u001b[0m \u001b[0mset_script_timeout\u001b[0m\u001b[0;34m(\u001b[0m\u001b[0mself\u001b[0m\u001b[0;34m,\u001b[0m \u001b[0mtime_to_wait\u001b[0m\u001b[0;34m)\u001b[0m \u001b[0;34m->\u001b[0m \u001b[0;32mNone\u001b[0m\u001b[0;34m:\u001b[0m\u001b[0;34m\u001b[0m\u001b[0;34m\u001b[0m\u001b[0m\n",
            "\u001b[0;32m/usr/local/lib/python3.7/dist-packages/selenium/webdriver/remote/webdriver.py\u001b[0m in \u001b[0;36mexecute\u001b[0;34m(self, driver_command, params)\u001b[0m\n\u001b[1;32m    414\u001b[0m \u001b[0;34m\u001b[0m\u001b[0m\n\u001b[1;32m    415\u001b[0m         \u001b[0mparams\u001b[0m \u001b[0;34m=\u001b[0m \u001b[0mself\u001b[0m\u001b[0;34m.\u001b[0m\u001b[0m_wrap_value\u001b[0m\u001b[0;34m(\u001b[0m\u001b[0mparams\u001b[0m\u001b[0;34m)\u001b[0m\u001b[0;34m\u001b[0m\u001b[0;34m\u001b[0m\u001b[0m\n\u001b[0;32m--> 416\u001b[0;31m         \u001b[0mresponse\u001b[0m \u001b[0;34m=\u001b[0m \u001b[0mself\u001b[0m\u001b[0;34m.\u001b[0m\u001b[0mcommand_executor\u001b[0m\u001b[0;34m.\u001b[0m\u001b[0mexecute\u001b[0m\u001b[0;34m(\u001b[0m\u001b[0mdriver_command\u001b[0m\u001b[0;34m,\u001b[0m \u001b[0mparams\u001b[0m\u001b[0;34m)\u001b[0m\u001b[0;34m\u001b[0m\u001b[0;34m\u001b[0m\u001b[0m\n\u001b[0m\u001b[1;32m    417\u001b[0m         \u001b[0;32mif\u001b[0m \u001b[0mresponse\u001b[0m\u001b[0;34m:\u001b[0m\u001b[0;34m\u001b[0m\u001b[0;34m\u001b[0m\u001b[0m\n\u001b[1;32m    418\u001b[0m             \u001b[0mself\u001b[0m\u001b[0;34m.\u001b[0m\u001b[0merror_handler\u001b[0m\u001b[0;34m.\u001b[0m\u001b[0mcheck_response\u001b[0m\u001b[0;34m(\u001b[0m\u001b[0mresponse\u001b[0m\u001b[0;34m)\u001b[0m\u001b[0;34m\u001b[0m\u001b[0;34m\u001b[0m\u001b[0m\n",
            "\u001b[0;32m/usr/local/lib/python3.7/dist-packages/selenium/webdriver/remote/remote_connection.py\u001b[0m in \u001b[0;36mexecute\u001b[0;34m(self, command, params)\u001b[0m\n\u001b[1;32m    396\u001b[0m         \u001b[0mdata\u001b[0m \u001b[0;34m=\u001b[0m \u001b[0mutils\u001b[0m\u001b[0;34m.\u001b[0m\u001b[0mdump_json\u001b[0m\u001b[0;34m(\u001b[0m\u001b[0mparams\u001b[0m\u001b[0;34m)\u001b[0m\u001b[0;34m\u001b[0m\u001b[0;34m\u001b[0m\u001b[0m\n\u001b[1;32m    397\u001b[0m         \u001b[0murl\u001b[0m \u001b[0;34m=\u001b[0m \u001b[0;34mf\"{self._url}{path}\"\u001b[0m\u001b[0;34m\u001b[0m\u001b[0;34m\u001b[0m\u001b[0m\n\u001b[0;32m--> 398\u001b[0;31m         \u001b[0;32mreturn\u001b[0m \u001b[0mself\u001b[0m\u001b[0;34m.\u001b[0m\u001b[0m_request\u001b[0m\u001b[0;34m(\u001b[0m\u001b[0mcommand_info\u001b[0m\u001b[0;34m[\u001b[0m\u001b[0;36m0\u001b[0m\u001b[0;34m]\u001b[0m\u001b[0;34m,\u001b[0m \u001b[0murl\u001b[0m\u001b[0;34m,\u001b[0m \u001b[0mbody\u001b[0m\u001b[0;34m=\u001b[0m\u001b[0mdata\u001b[0m\u001b[0;34m)\u001b[0m\u001b[0;34m\u001b[0m\u001b[0;34m\u001b[0m\u001b[0m\n\u001b[0m\u001b[1;32m    399\u001b[0m \u001b[0;34m\u001b[0m\u001b[0m\n\u001b[1;32m    400\u001b[0m     \u001b[0;32mdef\u001b[0m \u001b[0m_request\u001b[0m\u001b[0;34m(\u001b[0m\u001b[0mself\u001b[0m\u001b[0;34m,\u001b[0m \u001b[0mmethod\u001b[0m\u001b[0;34m,\u001b[0m \u001b[0murl\u001b[0m\u001b[0;34m,\u001b[0m \u001b[0mbody\u001b[0m\u001b[0;34m=\u001b[0m\u001b[0;32mNone\u001b[0m\u001b[0;34m)\u001b[0m\u001b[0;34m:\u001b[0m\u001b[0;34m\u001b[0m\u001b[0;34m\u001b[0m\u001b[0m\n",
            "\u001b[0;32m/usr/local/lib/python3.7/dist-packages/selenium/webdriver/remote/remote_connection.py\u001b[0m in \u001b[0;36m_request\u001b[0;34m(self, method, url, body)\u001b[0m\n\u001b[1;32m    418\u001b[0m \u001b[0;34m\u001b[0m\u001b[0m\n\u001b[1;32m    419\u001b[0m         \u001b[0;32mif\u001b[0m \u001b[0mself\u001b[0m\u001b[0;34m.\u001b[0m\u001b[0mkeep_alive\u001b[0m\u001b[0;34m:\u001b[0m\u001b[0;34m\u001b[0m\u001b[0;34m\u001b[0m\u001b[0m\n\u001b[0;32m--> 420\u001b[0;31m             \u001b[0mresp\u001b[0m \u001b[0;34m=\u001b[0m \u001b[0mself\u001b[0m\u001b[0;34m.\u001b[0m\u001b[0m_conn\u001b[0m\u001b[0;34m.\u001b[0m\u001b[0mrequest\u001b[0m\u001b[0;34m(\u001b[0m\u001b[0mmethod\u001b[0m\u001b[0;34m,\u001b[0m \u001b[0murl\u001b[0m\u001b[0;34m,\u001b[0m \u001b[0mbody\u001b[0m\u001b[0;34m=\u001b[0m\u001b[0mbody\u001b[0m\u001b[0;34m,\u001b[0m \u001b[0mheaders\u001b[0m\u001b[0;34m=\u001b[0m\u001b[0mheaders\u001b[0m\u001b[0;34m)\u001b[0m\u001b[0;34m\u001b[0m\u001b[0;34m\u001b[0m\u001b[0m\n\u001b[0m\u001b[1;32m    421\u001b[0m             \u001b[0mstatuscode\u001b[0m \u001b[0;34m=\u001b[0m \u001b[0mresp\u001b[0m\u001b[0;34m.\u001b[0m\u001b[0mstatus\u001b[0m\u001b[0;34m\u001b[0m\u001b[0;34m\u001b[0m\u001b[0m\n\u001b[1;32m    422\u001b[0m         \u001b[0;32melse\u001b[0m\u001b[0;34m:\u001b[0m\u001b[0;34m\u001b[0m\u001b[0;34m\u001b[0m\u001b[0m\n",
            "\u001b[0;32m/usr/local/lib/python3.7/dist-packages/urllib3/request.py\u001b[0m in \u001b[0;36mrequest\u001b[0;34m(self, method, url, fields, headers, **urlopen_kw)\u001b[0m\n\u001b[1;32m     78\u001b[0m         \u001b[0;32melse\u001b[0m\u001b[0;34m:\u001b[0m\u001b[0;34m\u001b[0m\u001b[0;34m\u001b[0m\u001b[0m\n\u001b[1;32m     79\u001b[0m             return self.request_encode_body(\n\u001b[0;32m---> 80\u001b[0;31m                 \u001b[0mmethod\u001b[0m\u001b[0;34m,\u001b[0m \u001b[0murl\u001b[0m\u001b[0;34m,\u001b[0m \u001b[0mfields\u001b[0m\u001b[0;34m=\u001b[0m\u001b[0mfields\u001b[0m\u001b[0;34m,\u001b[0m \u001b[0mheaders\u001b[0m\u001b[0;34m=\u001b[0m\u001b[0mheaders\u001b[0m\u001b[0;34m,\u001b[0m \u001b[0;34m**\u001b[0m\u001b[0murlopen_kw\u001b[0m\u001b[0;34m\u001b[0m\u001b[0;34m\u001b[0m\u001b[0m\n\u001b[0m\u001b[1;32m     81\u001b[0m             )\n\u001b[1;32m     82\u001b[0m \u001b[0;34m\u001b[0m\u001b[0m\n",
            "\u001b[0;32m/usr/local/lib/python3.7/dist-packages/urllib3/request.py\u001b[0m in \u001b[0;36mrequest_encode_body\u001b[0;34m(self, method, url, fields, headers, encode_multipart, multipart_boundary, **urlopen_kw)\u001b[0m\n\u001b[1;32m    169\u001b[0m         \u001b[0mextra_kw\u001b[0m\u001b[0;34m.\u001b[0m\u001b[0mupdate\u001b[0m\u001b[0;34m(\u001b[0m\u001b[0murlopen_kw\u001b[0m\u001b[0;34m)\u001b[0m\u001b[0;34m\u001b[0m\u001b[0;34m\u001b[0m\u001b[0m\n\u001b[1;32m    170\u001b[0m \u001b[0;34m\u001b[0m\u001b[0m\n\u001b[0;32m--> 171\u001b[0;31m         \u001b[0;32mreturn\u001b[0m \u001b[0mself\u001b[0m\u001b[0;34m.\u001b[0m\u001b[0murlopen\u001b[0m\u001b[0;34m(\u001b[0m\u001b[0mmethod\u001b[0m\u001b[0;34m,\u001b[0m \u001b[0murl\u001b[0m\u001b[0;34m,\u001b[0m \u001b[0;34m**\u001b[0m\u001b[0mextra_kw\u001b[0m\u001b[0;34m)\u001b[0m\u001b[0;34m\u001b[0m\u001b[0;34m\u001b[0m\u001b[0m\n\u001b[0m",
            "\u001b[0;32m/usr/local/lib/python3.7/dist-packages/urllib3/poolmanager.py\u001b[0m in \u001b[0;36murlopen\u001b[0;34m(self, method, url, redirect, **kw)\u001b[0m\n\u001b[1;32m    334\u001b[0m             \u001b[0mresponse\u001b[0m \u001b[0;34m=\u001b[0m \u001b[0mconn\u001b[0m\u001b[0;34m.\u001b[0m\u001b[0murlopen\u001b[0m\u001b[0;34m(\u001b[0m\u001b[0mmethod\u001b[0m\u001b[0;34m,\u001b[0m \u001b[0murl\u001b[0m\u001b[0;34m,\u001b[0m \u001b[0;34m**\u001b[0m\u001b[0mkw\u001b[0m\u001b[0;34m)\u001b[0m\u001b[0;34m\u001b[0m\u001b[0;34m\u001b[0m\u001b[0m\n\u001b[1;32m    335\u001b[0m         \u001b[0;32melse\u001b[0m\u001b[0;34m:\u001b[0m\u001b[0;34m\u001b[0m\u001b[0;34m\u001b[0m\u001b[0m\n\u001b[0;32m--> 336\u001b[0;31m             \u001b[0mresponse\u001b[0m \u001b[0;34m=\u001b[0m \u001b[0mconn\u001b[0m\u001b[0;34m.\u001b[0m\u001b[0murlopen\u001b[0m\u001b[0;34m(\u001b[0m\u001b[0mmethod\u001b[0m\u001b[0;34m,\u001b[0m \u001b[0mu\u001b[0m\u001b[0;34m.\u001b[0m\u001b[0mrequest_uri\u001b[0m\u001b[0;34m,\u001b[0m \u001b[0;34m**\u001b[0m\u001b[0mkw\u001b[0m\u001b[0;34m)\u001b[0m\u001b[0;34m\u001b[0m\u001b[0;34m\u001b[0m\u001b[0m\n\u001b[0m\u001b[1;32m    337\u001b[0m \u001b[0;34m\u001b[0m\u001b[0m\n\u001b[1;32m    338\u001b[0m         \u001b[0mredirect_location\u001b[0m \u001b[0;34m=\u001b[0m \u001b[0mredirect\u001b[0m \u001b[0;32mand\u001b[0m \u001b[0mresponse\u001b[0m\u001b[0;34m.\u001b[0m\u001b[0mget_redirect_location\u001b[0m\u001b[0;34m(\u001b[0m\u001b[0;34m)\u001b[0m\u001b[0;34m\u001b[0m\u001b[0;34m\u001b[0m\u001b[0m\n",
            "\u001b[0;32m/usr/local/lib/python3.7/dist-packages/urllib3/connectionpool.py\u001b[0m in \u001b[0;36murlopen\u001b[0;34m(self, method, url, body, headers, retries, redirect, assert_same_host, timeout, pool_timeout, release_conn, chunked, body_pos, **response_kw)\u001b[0m\n\u001b[1;32m    765\u001b[0m                 \u001b[0mchunked\u001b[0m\u001b[0;34m=\u001b[0m\u001b[0mchunked\u001b[0m\u001b[0;34m,\u001b[0m\u001b[0;34m\u001b[0m\u001b[0;34m\u001b[0m\u001b[0m\n\u001b[1;32m    766\u001b[0m                 \u001b[0mbody_pos\u001b[0m\u001b[0;34m=\u001b[0m\u001b[0mbody_pos\u001b[0m\u001b[0;34m,\u001b[0m\u001b[0;34m\u001b[0m\u001b[0;34m\u001b[0m\u001b[0m\n\u001b[0;32m--> 767\u001b[0;31m                 \u001b[0;34m**\u001b[0m\u001b[0mresponse_kw\u001b[0m\u001b[0;34m\u001b[0m\u001b[0;34m\u001b[0m\u001b[0m\n\u001b[0m\u001b[1;32m    768\u001b[0m             )\n\u001b[1;32m    769\u001b[0m \u001b[0;34m\u001b[0m\u001b[0m\n",
            "\u001b[0;32m/usr/local/lib/python3.7/dist-packages/urllib3/connectionpool.py\u001b[0m in \u001b[0;36murlopen\u001b[0;34m(self, method, url, body, headers, retries, redirect, assert_same_host, timeout, pool_timeout, release_conn, chunked, body_pos, **response_kw)\u001b[0m\n\u001b[1;32m    765\u001b[0m                 \u001b[0mchunked\u001b[0m\u001b[0;34m=\u001b[0m\u001b[0mchunked\u001b[0m\u001b[0;34m,\u001b[0m\u001b[0;34m\u001b[0m\u001b[0;34m\u001b[0m\u001b[0m\n\u001b[1;32m    766\u001b[0m                 \u001b[0mbody_pos\u001b[0m\u001b[0;34m=\u001b[0m\u001b[0mbody_pos\u001b[0m\u001b[0;34m,\u001b[0m\u001b[0;34m\u001b[0m\u001b[0;34m\u001b[0m\u001b[0m\n\u001b[0;32m--> 767\u001b[0;31m                 \u001b[0;34m**\u001b[0m\u001b[0mresponse_kw\u001b[0m\u001b[0;34m\u001b[0m\u001b[0;34m\u001b[0m\u001b[0m\n\u001b[0m\u001b[1;32m    768\u001b[0m             )\n\u001b[1;32m    769\u001b[0m \u001b[0;34m\u001b[0m\u001b[0m\n",
            "\u001b[0;32m/usr/local/lib/python3.7/dist-packages/urllib3/connectionpool.py\u001b[0m in \u001b[0;36murlopen\u001b[0;34m(self, method, url, body, headers, retries, redirect, assert_same_host, timeout, pool_timeout, release_conn, chunked, body_pos, **response_kw)\u001b[0m\n\u001b[1;32m    765\u001b[0m                 \u001b[0mchunked\u001b[0m\u001b[0;34m=\u001b[0m\u001b[0mchunked\u001b[0m\u001b[0;34m,\u001b[0m\u001b[0;34m\u001b[0m\u001b[0;34m\u001b[0m\u001b[0m\n\u001b[1;32m    766\u001b[0m                 \u001b[0mbody_pos\u001b[0m\u001b[0;34m=\u001b[0m\u001b[0mbody_pos\u001b[0m\u001b[0;34m,\u001b[0m\u001b[0;34m\u001b[0m\u001b[0;34m\u001b[0m\u001b[0m\n\u001b[0;32m--> 767\u001b[0;31m                 \u001b[0;34m**\u001b[0m\u001b[0mresponse_kw\u001b[0m\u001b[0;34m\u001b[0m\u001b[0;34m\u001b[0m\u001b[0m\n\u001b[0m\u001b[1;32m    768\u001b[0m             )\n\u001b[1;32m    769\u001b[0m \u001b[0;34m\u001b[0m\u001b[0m\n",
            "\u001b[0;32m/usr/local/lib/python3.7/dist-packages/urllib3/connectionpool.py\u001b[0m in \u001b[0;36murlopen\u001b[0;34m(self, method, url, body, headers, retries, redirect, assert_same_host, timeout, pool_timeout, release_conn, chunked, body_pos, **response_kw)\u001b[0m\n\u001b[1;32m    725\u001b[0m \u001b[0;34m\u001b[0m\u001b[0m\n\u001b[1;32m    726\u001b[0m             retries = retries.increment(\n\u001b[0;32m--> 727\u001b[0;31m                 \u001b[0mmethod\u001b[0m\u001b[0;34m,\u001b[0m \u001b[0murl\u001b[0m\u001b[0;34m,\u001b[0m \u001b[0merror\u001b[0m\u001b[0;34m=\u001b[0m\u001b[0me\u001b[0m\u001b[0;34m,\u001b[0m \u001b[0m_pool\u001b[0m\u001b[0;34m=\u001b[0m\u001b[0mself\u001b[0m\u001b[0;34m,\u001b[0m \u001b[0m_stacktrace\u001b[0m\u001b[0;34m=\u001b[0m\u001b[0msys\u001b[0m\u001b[0;34m.\u001b[0m\u001b[0mexc_info\u001b[0m\u001b[0;34m(\u001b[0m\u001b[0;34m)\u001b[0m\u001b[0;34m[\u001b[0m\u001b[0;36m2\u001b[0m\u001b[0;34m]\u001b[0m\u001b[0;34m\u001b[0m\u001b[0;34m\u001b[0m\u001b[0m\n\u001b[0m\u001b[1;32m    728\u001b[0m             )\n\u001b[1;32m    729\u001b[0m             \u001b[0mretries\u001b[0m\u001b[0;34m.\u001b[0m\u001b[0msleep\u001b[0m\u001b[0;34m(\u001b[0m\u001b[0;34m)\u001b[0m\u001b[0;34m\u001b[0m\u001b[0;34m\u001b[0m\u001b[0m\n",
            "\u001b[0;32m/usr/local/lib/python3.7/dist-packages/urllib3/util/retry.py\u001b[0m in \u001b[0;36mincrement\u001b[0;34m(self, method, url, response, error, _pool, _stacktrace)\u001b[0m\n\u001b[1;32m    444\u001b[0m \u001b[0;34m\u001b[0m\u001b[0m\n\u001b[1;32m    445\u001b[0m         \u001b[0;32mif\u001b[0m \u001b[0mnew_retry\u001b[0m\u001b[0;34m.\u001b[0m\u001b[0mis_exhausted\u001b[0m\u001b[0;34m(\u001b[0m\u001b[0;34m)\u001b[0m\u001b[0;34m:\u001b[0m\u001b[0;34m\u001b[0m\u001b[0;34m\u001b[0m\u001b[0m\n\u001b[0;32m--> 446\u001b[0;31m             \u001b[0;32mraise\u001b[0m \u001b[0mMaxRetryError\u001b[0m\u001b[0;34m(\u001b[0m\u001b[0m_pool\u001b[0m\u001b[0;34m,\u001b[0m \u001b[0murl\u001b[0m\u001b[0;34m,\u001b[0m \u001b[0merror\u001b[0m \u001b[0;32mor\u001b[0m \u001b[0mResponseError\u001b[0m\u001b[0;34m(\u001b[0m\u001b[0mcause\u001b[0m\u001b[0;34m)\u001b[0m\u001b[0;34m)\u001b[0m\u001b[0;34m\u001b[0m\u001b[0;34m\u001b[0m\u001b[0m\n\u001b[0m\u001b[1;32m    447\u001b[0m \u001b[0;34m\u001b[0m\u001b[0m\n\u001b[1;32m    448\u001b[0m         \u001b[0mlog\u001b[0m\u001b[0;34m.\u001b[0m\u001b[0mdebug\u001b[0m\u001b[0;34m(\u001b[0m\u001b[0;34m\"Incremented Retry for (url='%s'): %r\"\u001b[0m\u001b[0;34m,\u001b[0m \u001b[0murl\u001b[0m\u001b[0;34m,\u001b[0m \u001b[0mnew_retry\u001b[0m\u001b[0;34m)\u001b[0m\u001b[0;34m\u001b[0m\u001b[0;34m\u001b[0m\u001b[0m\n",
            "\u001b[0;31mMaxRetryError\u001b[0m: HTTPConnectionPool(host='localhost', port=40203): Max retries exceeded with url: /session/13e773475f27a8b95879524860f22002/timeouts (Caused by NewConnectionError('<urllib3.connection.HTTPConnection object at 0x7f034ba6cb90>: Failed to establish a new connection: [Errno 111] Connection refused'))"
          ]
        }
      ]
    },
    {
      "cell_type": "markdown",
      "metadata": {
        "id": "pLlHmx_1ru4s"
      },
      "source": [
        "이렇게 몇 번 돌리니까 막힘"
      ]
    },
    {
      "cell_type": "code",
      "metadata": {
        "id": "DY8UAB2-rs6t"
      },
      "source": [
        ""
      ],
      "execution_count": null,
      "outputs": []
    },
    {
      "cell_type": "markdown",
      "metadata": {
        "id": "F20_hRpErjo4"
      },
      "source": [
        "###일단 여기까지(10.28)"
      ]
    },
    {
      "cell_type": "code",
      "metadata": {
        "colab": {
          "base_uri": "https://localhost:8080/",
          "height": 422
        },
        "id": "ZT7-wvmSpkZ6",
        "outputId": "72f2e888-fdab-41d6-c878-68553e58c749"
      },
      "source": [
        "  df"
      ],
      "execution_count": 121,
      "outputs": [
        {
          "output_type": "execute_result",
          "data": {
            "text/html": [
              "<div>\n",
              "<style scoped>\n",
              "    .dataframe tbody tr th:only-of-type {\n",
              "        vertical-align: middle;\n",
              "    }\n",
              "\n",
              "    .dataframe tbody tr th {\n",
              "        vertical-align: top;\n",
              "    }\n",
              "\n",
              "    .dataframe thead th {\n",
              "        text-align: right;\n",
              "    }\n",
              "</style>\n",
              "<table border=\"1\" class=\"dataframe\">\n",
              "  <thead>\n",
              "    <tr style=\"text-align: right;\">\n",
              "      <th></th>\n",
              "      <th>title</th>\n",
              "      <th>num</th>\n",
              "      <th>song_cnt</th>\n",
              "    </tr>\n",
              "  </thead>\n",
              "  <tbody>\n",
              "    <tr>\n",
              "      <th>0</th>\n",
              "      <td>가을 바람에 문득 누군가 떠오를때... 플레이리스트 좋아요</td>\n",
              "      <td>499517306</td>\n",
              "      <td>20</td>\n",
              "    </tr>\n",
              "    <tr>\n",
              "      <th>1</th>\n",
              "      <td>애잔한 갬성...// 쌀쌀한 요즘 날씨에 듣기 좋은 팝송 좋아요</td>\n",
              "      <td>433839049</td>\n",
              "      <td>74</td>\n",
              "    </tr>\n",
              "    <tr>\n",
              "      <th>2</th>\n",
              "      <td>추천 ♬ 딱 이 맘때 들으면 좋은 노래들 :) ♪ No.4 좋아요</td>\n",
              "      <td>467894077</td>\n",
              "      <td>100</td>\n",
              "    </tr>\n",
              "    <tr>\n",
              "      <th>3</th>\n",
              "      <td>90년대생들이 MP3에 넣고 다녔던 남자 발라드 좋아요</td>\n",
              "      <td>494283599</td>\n",
              "      <td>158</td>\n",
              "    </tr>\n",
              "    <tr>\n",
              "      <th>4</th>\n",
              "      <td>요즘 자주 듣는 발라드 best 30 pt.13 좋아요</td>\n",
              "      <td>500956947</td>\n",
              "      <td>30</td>\n",
              "    </tr>\n",
              "    <tr>\n",
              "      <th>...</th>\n",
              "      <td>...</td>\n",
              "      <td>...</td>\n",
              "      <td>...</td>\n",
              "    </tr>\n",
              "    <tr>\n",
              "      <th>195</th>\n",
              "      <td>1990년대 발라드 가요 좋아요</td>\n",
              "      <td>436356771</td>\n",
              "      <td>61</td>\n",
              "    </tr>\n",
              "    <tr>\n",
              "      <th>196</th>\n",
              "      <td>눈물이 왈칵! 세기말 감성 락발라드 (90년대, 2000년대 초) 좋아요</td>\n",
              "      <td>487561255</td>\n",
              "      <td>36</td>\n",
              "    </tr>\n",
              "    <tr>\n",
              "      <th>197</th>\n",
              "      <td>추천 ♬ 잊혀질리 없는 명품 발라드 ① 좋아요</td>\n",
              "      <td>424293700</td>\n",
              "      <td>272</td>\n",
              "    </tr>\n",
              "    <tr>\n",
              "      <th>198</th>\n",
              "      <td>좋은것만 모은 발라드 좋아요</td>\n",
              "      <td>464912425</td>\n",
              "      <td>288</td>\n",
              "    </tr>\n",
              "    <tr>\n",
              "      <th>199</th>\n",
              "      <td>속이 뻥 뚫리는 사이다 가사, 신나는 멜로디의 이별 노래 좋아요</td>\n",
              "      <td>485351845</td>\n",
              "      <td>47</td>\n",
              "    </tr>\n",
              "  </tbody>\n",
              "</table>\n",
              "<p>200 rows × 3 columns</p>\n",
              "</div>"
            ],
            "text/plain": [
              "                                        title        num song_cnt\n",
              "0            가을 바람에 문득 누군가 떠오를때... 플레이리스트 좋아요  499517306       20\n",
              "1         애잔한 갬성...// 쌀쌀한 요즘 날씨에 듣기 좋은 팝송 좋아요  433839049       74\n",
              "2        추천 ♬ 딱 이 맘때 들으면 좋은 노래들 :) ♪ No.4 좋아요  467894077      100\n",
              "3              90년대생들이 MP3에 넣고 다녔던 남자 발라드 좋아요  494283599      158\n",
              "4              요즘 자주 듣는 발라드 best 30 pt.13 좋아요  500956947       30\n",
              "..                                        ...        ...      ...\n",
              "195                         1990년대 발라드 가요 좋아요  436356771       61\n",
              "196  눈물이 왈칵! 세기말 감성 락발라드 (90년대, 2000년대 초) 좋아요  487561255       36\n",
              "197                 추천 ♬ 잊혀질리 없는 명품 발라드 ① 좋아요  424293700      272\n",
              "198                           좋은것만 모은 발라드 좋아요  464912425      288\n",
              "199       속이 뻥 뚫리는 사이다 가사, 신나는 멜로디의 이별 노래 좋아요  485351845       47\n",
              "\n",
              "[200 rows x 3 columns]"
            ]
          },
          "metadata": {},
          "execution_count": 121
        }
      ]
    },
    {
      "cell_type": "code",
      "metadata": {
        "colab": {
          "base_uri": "https://localhost:8080/",
          "height": 49
        },
        "id": "AswPqS3Qhmva",
        "outputId": "68bdcf27-83ad-4ce5-ad87-8ded74de4b7e"
      },
      "source": [
        "<a href=\"javascript:pageObj.sendPage('21');\">2</a>"
      ],
      "execution_count": 114,
      "outputs": [
        {
          "output_type": "execute_result",
          "data": {
            "text/html": [
              "<div>\n",
              "<style scoped>\n",
              "    .dataframe tbody tr th:only-of-type {\n",
              "        vertical-align: middle;\n",
              "    }\n",
              "\n",
              "    .dataframe tbody tr th {\n",
              "        vertical-align: top;\n",
              "    }\n",
              "\n",
              "    .dataframe thead th {\n",
              "        text-align: right;\n",
              "    }\n",
              "</style>\n",
              "<table border=\"1\" class=\"dataframe\">\n",
              "  <thead>\n",
              "    <tr style=\"text-align: right;\">\n",
              "      <th></th>\n",
              "      <th>title</th>\n",
              "      <th>num</th>\n",
              "      <th>song_cnt</th>\n",
              "    </tr>\n",
              "  </thead>\n",
              "  <tbody>\n",
              "  </tbody>\n",
              "</table>\n",
              "</div>"
            ],
            "text/plain": [
              "Empty DataFrame\n",
              "Columns: [title, num, song_cnt]\n",
              "Index: []"
            ]
          },
          "metadata": {},
          "execution_count": 114
        }
      ]
    },
    {
      "cell_type": "code",
      "metadata": {
        "id": "TJWeh-iuPIwO"
      },
      "source": [
        "#djPlylstList > div > ul > li:nth-child(4) > div.entry > div.info > a.dj_name\n",
        "#djPlylstList > div > ul > li:nth-child(2)"
      ],
      "execution_count": null,
      "outputs": []
    },
    {
      "cell_type": "code",
      "metadata": {
        "id": "IYfIPutD7l9D",
        "colab": {
          "base_uri": "https://localhost:8080/",
          "height": 544,
          "referenced_widgets": [
            "014d951a25374385a870e680872200f0",
            "9aab2a0d836d4e5b9d7b43e830be23bf",
            "ea30eab7ab1e4fd5a6ca84ae3a0c87dd",
            "9af9a598b580468da3f7a585d6c052c7",
            "07bb4e407348414f8cb2bf91c7287d6f",
            "b8ea8c2a99a24e6d9f37068f9e6faf75",
            "e6ba53673a4442e3b6a58bb7c575fd78",
            "5da0dbb486d240beb4aefb3b91d7669e",
            "2abc04b7d47e412f971049e9a61550d5",
            "1667c0e3573b4165950b6947200032c1",
            "a39561b530e64fa7b84c5c5d34d5d48c"
          ]
        },
        "outputId": "ef427353-5b8f-4c6e-b963-7d8f6b1fdd92"
      },
      "source": [
        "driver.implicitly_wait(0.5)\n",
        "driver.get('https://www.melon.com/dj/themegenre/djthemegenre_list.htm')\n",
        "# 테마 장르 클릭\n",
        "driver.find_element_by_css_selector('#gnb_menu > ul:nth-child(1) > li.nth4.on > div > ul > li.on > a > span').click()\n",
        "\n",
        "#태그 입력\n",
        "search_kw =driver.find_element_by_id('djSearchKeyword')\n",
        "search_kw.send_keys('이별')\n",
        "\n",
        "#검색 클릭\n",
        "driver.find_element_by_xpath('//*[@id=\"conts\"]/div[1]/div[2]/div[2]/button').click()\n",
        "\n",
        "\n",
        "\n",
        "for n in tqdm(range(1, 21)):\n",
        "    print(\"{0}번째 리스트입니다\".format(n))\n",
        "    # 플레이리스트 클릭\n",
        "    time.sleep(uniform(0.4,0.6))\n",
        "    driver.find_element_by_css_selector('#djPlylstList > div > ul > li:nth-child({0}) > div.entry > div.info > a.ellipsis.album_name'.format(n)).click()\n",
        "    # html 파싱\n",
        "    req = driver.page_source\n",
        "    soup = BeautifulSoup(req, 'html.parser')\n",
        "    # 순위와 음원 고유번호 파싱\n",
        "    num = soup.select_one('.page_header > h5 > span').get_text()\n",
        "    song_cnt = int(re.search('\\((\\d+)\\)', num).group(1))\n",
        "    res=pd.Series([re.search(\"\\(\\'(\\d+)\\'\\,(\\d+)\\)\",soup.find_all('div',{'class':'ellipsis rank01'})[i].span.find('a')['href']).group(2) for i in range(0, song_cnt)])  \n",
        "\n",
        "    df = df.append(res, ignore_index=True)\n",
        "\n",
        "    driver.back()\n",
        "    time.sleep(uniform(0.4,0.6))"
      ],
      "execution_count": null,
      "outputs": [
        {
          "output_type": "stream",
          "name": "stderr",
          "text": [
            "/usr/local/lib/python3.7/dist-packages/ipykernel_launcher.py:4: DeprecationWarning: find_element_by_* commands are deprecated. Please use find_element() instead\n",
            "  after removing the cwd from sys.path.\n",
            "/usr/local/lib/python3.7/dist-packages/ipykernel_launcher.py:7: DeprecationWarning: find_element_by_* commands are deprecated. Please use find_element() instead\n",
            "  import sys\n",
            "/usr/local/lib/python3.7/dist-packages/ipykernel_launcher.py:11: DeprecationWarning: find_element_by_* commands are deprecated. Please use find_element() instead\n",
            "  # This is added back by InteractiveShellApp.init_path()\n"
          ]
        },
        {
          "output_type": "display_data",
          "data": {
            "application/vnd.jupyter.widget-view+json": {
              "model_id": "014d951a25374385a870e680872200f0",
              "version_minor": 0,
              "version_major": 2
            },
            "text/plain": [
              "  0%|          | 0/20 [00:00<?, ?it/s]"
            ]
          },
          "metadata": {}
        },
        {
          "output_type": "stream",
          "name": "stdout",
          "text": [
            "1번째 리스트입니다\n"
          ]
        },
        {
          "output_type": "stream",
          "name": "stderr",
          "text": [
            "/usr/local/lib/python3.7/dist-packages/ipykernel_launcher.py:19: DeprecationWarning: find_element_by_* commands are deprecated. Please use find_element() instead\n"
          ]
        },
        {
          "output_type": "stream",
          "name": "stdout",
          "text": [
            "2번째 리스트입니다\n"
          ]
        },
        {
          "output_type": "error",
          "ename": "IndexError",
          "evalue": "ignored",
          "traceback": [
            "\u001b[0;31m---------------------------------------------------------------------------\u001b[0m",
            "\u001b[0;31mIndexError\u001b[0m                                Traceback (most recent call last)",
            "\u001b[0;32m<ipython-input-8-da63b54d1339>\u001b[0m in \u001b[0;36m<module>\u001b[0;34m()\u001b[0m\n\u001b[1;32m     24\u001b[0m     \u001b[0mnum\u001b[0m \u001b[0;34m=\u001b[0m \u001b[0msoup\u001b[0m\u001b[0;34m.\u001b[0m\u001b[0mselect_one\u001b[0m\u001b[0;34m(\u001b[0m\u001b[0;34m'.page_header > h5 > span'\u001b[0m\u001b[0;34m)\u001b[0m\u001b[0;34m.\u001b[0m\u001b[0mget_text\u001b[0m\u001b[0;34m(\u001b[0m\u001b[0;34m)\u001b[0m\u001b[0;34m\u001b[0m\u001b[0;34m\u001b[0m\u001b[0m\n\u001b[1;32m     25\u001b[0m     \u001b[0msong_cnt\u001b[0m \u001b[0;34m=\u001b[0m \u001b[0mint\u001b[0m\u001b[0;34m(\u001b[0m\u001b[0mre\u001b[0m\u001b[0;34m.\u001b[0m\u001b[0msearch\u001b[0m\u001b[0;34m(\u001b[0m\u001b[0;34m'\\((\\d+)\\)'\u001b[0m\u001b[0;34m,\u001b[0m \u001b[0mnum\u001b[0m\u001b[0;34m)\u001b[0m\u001b[0;34m.\u001b[0m\u001b[0mgroup\u001b[0m\u001b[0;34m(\u001b[0m\u001b[0;36m1\u001b[0m\u001b[0;34m)\u001b[0m\u001b[0;34m)\u001b[0m\u001b[0;34m\u001b[0m\u001b[0;34m\u001b[0m\u001b[0m\n\u001b[0;32m---> 26\u001b[0;31m     \u001b[0mres\u001b[0m\u001b[0;34m=\u001b[0m\u001b[0mpd\u001b[0m\u001b[0;34m.\u001b[0m\u001b[0mSeries\u001b[0m\u001b[0;34m(\u001b[0m\u001b[0;34m[\u001b[0m\u001b[0mre\u001b[0m\u001b[0;34m.\u001b[0m\u001b[0msearch\u001b[0m\u001b[0;34m(\u001b[0m\u001b[0;34m\"\\(\\'(\\d+)\\'\\,(\\d+)\\)\"\u001b[0m\u001b[0;34m,\u001b[0m\u001b[0msoup\u001b[0m\u001b[0;34m.\u001b[0m\u001b[0mfind_all\u001b[0m\u001b[0;34m(\u001b[0m\u001b[0;34m'div'\u001b[0m\u001b[0;34m,\u001b[0m\u001b[0;34m{\u001b[0m\u001b[0;34m'class'\u001b[0m\u001b[0;34m:\u001b[0m\u001b[0;34m'ellipsis rank01'\u001b[0m\u001b[0;34m}\u001b[0m\u001b[0;34m)\u001b[0m\u001b[0;34m[\u001b[0m\u001b[0mi\u001b[0m\u001b[0;34m]\u001b[0m\u001b[0;34m.\u001b[0m\u001b[0mspan\u001b[0m\u001b[0;34m.\u001b[0m\u001b[0mfind\u001b[0m\u001b[0;34m(\u001b[0m\u001b[0;34m'a'\u001b[0m\u001b[0;34m)\u001b[0m\u001b[0;34m[\u001b[0m\u001b[0;34m'href'\u001b[0m\u001b[0;34m]\u001b[0m\u001b[0;34m)\u001b[0m\u001b[0;34m.\u001b[0m\u001b[0mgroup\u001b[0m\u001b[0;34m(\u001b[0m\u001b[0;36m2\u001b[0m\u001b[0;34m)\u001b[0m \u001b[0;32mfor\u001b[0m \u001b[0mi\u001b[0m \u001b[0;32min\u001b[0m \u001b[0mrange\u001b[0m\u001b[0;34m(\u001b[0m\u001b[0;36m0\u001b[0m\u001b[0;34m,\u001b[0m \u001b[0msong_cnt\u001b[0m\u001b[0;34m)\u001b[0m\u001b[0;34m]\u001b[0m\u001b[0;34m)\u001b[0m\u001b[0;34m\u001b[0m\u001b[0;34m\u001b[0m\u001b[0m\n\u001b[0m\u001b[1;32m     27\u001b[0m \u001b[0;34m\u001b[0m\u001b[0m\n\u001b[1;32m     28\u001b[0m     \u001b[0mdf\u001b[0m \u001b[0;34m=\u001b[0m \u001b[0mdf\u001b[0m\u001b[0;34m.\u001b[0m\u001b[0mappend\u001b[0m\u001b[0;34m(\u001b[0m\u001b[0mres\u001b[0m\u001b[0;34m,\u001b[0m \u001b[0mignore_index\u001b[0m\u001b[0;34m=\u001b[0m\u001b[0;32mTrue\u001b[0m\u001b[0;34m)\u001b[0m\u001b[0;34m\u001b[0m\u001b[0;34m\u001b[0m\u001b[0m\n",
            "\u001b[0;32m<ipython-input-8-da63b54d1339>\u001b[0m in \u001b[0;36m<listcomp>\u001b[0;34m(.0)\u001b[0m\n\u001b[1;32m     24\u001b[0m     \u001b[0mnum\u001b[0m \u001b[0;34m=\u001b[0m \u001b[0msoup\u001b[0m\u001b[0;34m.\u001b[0m\u001b[0mselect_one\u001b[0m\u001b[0;34m(\u001b[0m\u001b[0;34m'.page_header > h5 > span'\u001b[0m\u001b[0;34m)\u001b[0m\u001b[0;34m.\u001b[0m\u001b[0mget_text\u001b[0m\u001b[0;34m(\u001b[0m\u001b[0;34m)\u001b[0m\u001b[0;34m\u001b[0m\u001b[0;34m\u001b[0m\u001b[0m\n\u001b[1;32m     25\u001b[0m     \u001b[0msong_cnt\u001b[0m \u001b[0;34m=\u001b[0m \u001b[0mint\u001b[0m\u001b[0;34m(\u001b[0m\u001b[0mre\u001b[0m\u001b[0;34m.\u001b[0m\u001b[0msearch\u001b[0m\u001b[0;34m(\u001b[0m\u001b[0;34m'\\((\\d+)\\)'\u001b[0m\u001b[0;34m,\u001b[0m \u001b[0mnum\u001b[0m\u001b[0;34m)\u001b[0m\u001b[0;34m.\u001b[0m\u001b[0mgroup\u001b[0m\u001b[0;34m(\u001b[0m\u001b[0;36m1\u001b[0m\u001b[0;34m)\u001b[0m\u001b[0;34m)\u001b[0m\u001b[0;34m\u001b[0m\u001b[0;34m\u001b[0m\u001b[0m\n\u001b[0;32m---> 26\u001b[0;31m     \u001b[0mres\u001b[0m\u001b[0;34m=\u001b[0m\u001b[0mpd\u001b[0m\u001b[0;34m.\u001b[0m\u001b[0mSeries\u001b[0m\u001b[0;34m(\u001b[0m\u001b[0;34m[\u001b[0m\u001b[0mre\u001b[0m\u001b[0;34m.\u001b[0m\u001b[0msearch\u001b[0m\u001b[0;34m(\u001b[0m\u001b[0;34m\"\\(\\'(\\d+)\\'\\,(\\d+)\\)\"\u001b[0m\u001b[0;34m,\u001b[0m\u001b[0msoup\u001b[0m\u001b[0;34m.\u001b[0m\u001b[0mfind_all\u001b[0m\u001b[0;34m(\u001b[0m\u001b[0;34m'div'\u001b[0m\u001b[0;34m,\u001b[0m\u001b[0;34m{\u001b[0m\u001b[0;34m'class'\u001b[0m\u001b[0;34m:\u001b[0m\u001b[0;34m'ellipsis rank01'\u001b[0m\u001b[0;34m}\u001b[0m\u001b[0;34m)\u001b[0m\u001b[0;34m[\u001b[0m\u001b[0mi\u001b[0m\u001b[0;34m]\u001b[0m\u001b[0;34m.\u001b[0m\u001b[0mspan\u001b[0m\u001b[0;34m.\u001b[0m\u001b[0mfind\u001b[0m\u001b[0;34m(\u001b[0m\u001b[0;34m'a'\u001b[0m\u001b[0;34m)\u001b[0m\u001b[0;34m[\u001b[0m\u001b[0;34m'href'\u001b[0m\u001b[0;34m]\u001b[0m\u001b[0;34m)\u001b[0m\u001b[0;34m.\u001b[0m\u001b[0mgroup\u001b[0m\u001b[0;34m(\u001b[0m\u001b[0;36m2\u001b[0m\u001b[0;34m)\u001b[0m \u001b[0;32mfor\u001b[0m \u001b[0mi\u001b[0m \u001b[0;32min\u001b[0m \u001b[0mrange\u001b[0m\u001b[0;34m(\u001b[0m\u001b[0;36m0\u001b[0m\u001b[0;34m,\u001b[0m \u001b[0msong_cnt\u001b[0m\u001b[0;34m)\u001b[0m\u001b[0;34m]\u001b[0m\u001b[0;34m)\u001b[0m\u001b[0;34m\u001b[0m\u001b[0;34m\u001b[0m\u001b[0m\n\u001b[0m\u001b[1;32m     27\u001b[0m \u001b[0;34m\u001b[0m\u001b[0m\n\u001b[1;32m     28\u001b[0m     \u001b[0mdf\u001b[0m \u001b[0;34m=\u001b[0m \u001b[0mdf\u001b[0m\u001b[0;34m.\u001b[0m\u001b[0mappend\u001b[0m\u001b[0;34m(\u001b[0m\u001b[0mres\u001b[0m\u001b[0;34m,\u001b[0m \u001b[0mignore_index\u001b[0m\u001b[0;34m=\u001b[0m\u001b[0;32mTrue\u001b[0m\u001b[0;34m)\u001b[0m\u001b[0;34m\u001b[0m\u001b[0;34m\u001b[0m\u001b[0m\n",
            "\u001b[0;31mIndexError\u001b[0m: list index out of range"
          ]
        }
      ]
    },
    {
      "cell_type": "code",
      "metadata": {
        "id": "5OCrcCApqUAm"
      },
      "source": [
        "df = pd.DataFrame()"
      ],
      "execution_count": null,
      "outputs": []
    },
    {
      "cell_type": "code",
      "metadata": {
        "colab": {
          "base_uri": "https://localhost:8080/"
        },
        "id": "EaLgIPdEVWhV",
        "outputId": "7ac0a807-9ae4-4b97-d521-8e25270c10d8"
      },
      "source": [
        "driver.implicitly_wait(0.5)\n",
        "driver.get('https://www.melon.com/dj/themegenre/djthemegenre_list.htm')\n",
        "# 테마 장르 클릭\n",
        "driver.find_element_by_css_selector('#gnb_menu > ul:nth-child(1) > li.nth4.on > div > ul > li.on > a > span').click()\n",
        "\n",
        "#태그 입력\n",
        "search_kw =driver.find_element_by_id('djSearchKeyword')\n",
        "search_kw.send_keys('이별')\n",
        "\n",
        "#검색 클릭\n",
        "driver.find_element_by_xpath('//*[@id=\"conts\"]/div[1]/div[2]/div[2]/button').click()\n",
        "\n",
        "driver.find_element_by_css_selector('#djPlylstList > div > ul > li:nth-child(10) > div.entry > div.info > a.ellipsis.album_name').click()\n",
        "# html 파싱\n",
        "req = driver.page_source\n",
        "soup = BeautifulSoup(req, 'html.parser')\n",
        "# 순위와 음원 고유번호 파싱\n",
        "num = soup.select_one('.page_header > h5 > span').get_text()\n",
        "song_cnt = int(re.search('\\((\\d+)\\)', num).group(1))\n",
        "\n",
        "\n",
        "\n",
        "\n",
        "cnt=1\n",
        "while song_cnt >50 :\n",
        "  res=pd.Series([re.search(\"\\(\\'(\\d+)\\'\\,(\\d+)\\)\",soup.find_all('div',{'class':'ellipsis rank01'})[i].span.find('a')['href']).group(2) for i in range(0, 50)])\n",
        "  df = df.append(res, ignore_index=True)\n",
        "  cnt+=1\n",
        "  time.sleep(uniform(0.4,0.6))\n",
        "  driver.find_element_by_css_selector('#pageObjNavgation > div > span > a:nth-child({0})'.format(cnt)).click()\n",
        "  song_cnt-=50  \n",
        "  if song_cnt <= 50 :\n",
        "    res=pd.Series([re.search(\"\\(\\'(\\d+)\\'\\,(\\d+)\\)\",soup.find_all('div',{'class':'ellipsis rank01'})[i].span.find('a')['href']).group(2) for i in range(0, song_cnt)])\n",
        "    df = df.append(res, ignore_index=True)\n",
        "    print('리스트 완료')"
      ],
      "execution_count": 9,
      "outputs": [
        {
          "output_type": "stream",
          "name": "stderr",
          "text": [
            "/usr/local/lib/python3.7/dist-packages/ipykernel_launcher.py:4: DeprecationWarning: find_element_by_* commands are deprecated. Please use find_element() instead\n",
            "  after removing the cwd from sys.path.\n",
            "/usr/local/lib/python3.7/dist-packages/ipykernel_launcher.py:7: DeprecationWarning: find_element_by_* commands are deprecated. Please use find_element() instead\n",
            "  import sys\n",
            "/usr/local/lib/python3.7/dist-packages/ipykernel_launcher.py:11: DeprecationWarning: find_element_by_* commands are deprecated. Please use find_element() instead\n",
            "  # This is added back by InteractiveShellApp.init_path()\n",
            "/usr/local/lib/python3.7/dist-packages/ipykernel_launcher.py:13: DeprecationWarning: find_element_by_* commands are deprecated. Please use find_element() instead\n",
            "  del sys.path[0]\n",
            "/usr/local/lib/python3.7/dist-packages/ipykernel_launcher.py:30: DeprecationWarning: find_element_by_* commands are deprecated. Please use find_element() instead\n"
          ]
        },
        {
          "output_type": "stream",
          "name": "stdout",
          "text": [
            "리스트 완료\n"
          ]
        }
      ]
    },
    {
      "cell_type": "code",
      "metadata": {
        "colab": {
          "base_uri": "https://localhost:8080/",
          "height": 965,
          "referenced_widgets": [
            "e8a16d1ef9be4f5ca460ff943763abf0",
            "db0127a905a04c0b95cec2888b7b47a5",
            "d16a4048f94848d5bb4177b9bf061871",
            "b69c3049bd6a4b3f878d07f437795800",
            "841077c75aae4a6aa3d7cbb99d54f77f",
            "72627a4c4b224366876668f3eebf810b",
            "16eb4f7c3182498fa68e425980ef42b1",
            "ec78b0a77f704fc58309d100a12b24d4",
            "2bfe8c55f40747cba4432f79d042ecf3",
            "209fa3a6f6654f1db698e51a28f3ede2",
            "addb799056ae4edb9c3c64ed99e1f39f"
          ]
        },
        "id": "wclg1cJTc_n8",
        "outputId": "e589484e-f19f-4cc4-880b-5e05b7063263"
      },
      "source": [
        "page = driver.implicitly_wait(0.5)\n",
        "page = driver.get('https://www.melon.com/dj/themegenre/djthemegenre_list.htm')\n",
        "# 테마 장르 클릭\n",
        "page = driver.find_element_by_css_selector('#gnb_menu > ul:nth-child(1) > li.nth4.on > div > ul > li.on > a > span').click()\n",
        "\n",
        "#태그 입력\n",
        "page = search_kw =driver.find_element_by_id('djSearchKeyword')\n",
        "page = search_kw.send_keys('이별')\n",
        "\n",
        "#검색 클릭\n",
        "page = driver.find_element_by_xpath('//*[@id=\"conts\"]/div[1]/div[2]/div[2]/button').click()\n",
        "\n",
        "# 순위와 음원 고유번호 파싱\n",
        "num = soup.select_one('.page_header > h5 > span').get_text()\n",
        "song_cnt = int(re.search('\\((\\d+)\\)', num).group(1))\n",
        "\n",
        "\n",
        "for n in tqdm(range(1, 21)):\n",
        "    page\n",
        "    print(\"{0}번째 리스트입니다\".format(n))\n",
        "    # 플레이리스트 클릭\n",
        "    time.sleep(uniform(0.4,0.6))\n",
        "    driver.find_element_by_css_selector('#djPlylstList > div > ul > li:nth-child({0}) > div.entry > div.info > a.ellipsis.album_name'.format(n)).click()\n",
        "    # html 파싱\n",
        "    req = driver.page_source\n",
        "    soup = BeautifulSoup(req, 'html.parser')\n",
        "    # 순위와 음원 고유번호 파싱\n",
        "    cnt=1\n",
        "    while song_cnt >50 :\n",
        "      res['song']=pd.DataFrame([re.search(\"\\(\\'(\\d+)\\'\\,(\\d+)\\)\",soup.find_all('div',{'class':'ellipsis rank01'})[i].span.find('a')['href']).group(2) for i in range(0, 50)])\n",
        "      df = df.append(res, ignore_index=True)\n",
        "      cnt+=1\n",
        "      time.sleep(uniform(0.4,0.6))\n",
        "      driver.find_element_by_css_selector('#pageObjNavgation > div > span > a:nth-child({0})'.format(cnt)).click()\n",
        "      song_cnt-=50  \n",
        "      if song_cnt <= 50 :\n",
        "        res['song']=pd.DataFrame([re.search(\"\\(\\'(\\d+)\\'\\,(\\d+)\\)\",soup.find_all('div',{'class':'ellipsis rank01'})[i].span.find('a')['href']).group(2) for i in range(0, song_cnt)])\n",
        "        df = df.append(res, ignore_index=True)\n",
        "        print('리스트 완료')\n",
        "\n"
      ],
      "execution_count": null,
      "outputs": [
        {
          "output_type": "stream",
          "name": "stderr",
          "text": [
            "/usr/local/lib/python3.7/dist-packages/ipykernel_launcher.py:4: DeprecationWarning: find_element_by_* commands are deprecated. Please use find_element() instead\n",
            "  after removing the cwd from sys.path.\n",
            "/usr/local/lib/python3.7/dist-packages/ipykernel_launcher.py:7: DeprecationWarning: find_element_by_* commands are deprecated. Please use find_element() instead\n",
            "  import sys\n",
            "/usr/local/lib/python3.7/dist-packages/ipykernel_launcher.py:11: DeprecationWarning: find_element_by_* commands are deprecated. Please use find_element() instead\n",
            "  # This is added back by InteractiveShellApp.init_path()\n"
          ]
        },
        {
          "output_type": "display_data",
          "data": {
            "application/vnd.jupyter.widget-view+json": {
              "model_id": "e8a16d1ef9be4f5ca460ff943763abf0",
              "version_minor": 0,
              "version_major": 2
            },
            "text/plain": [
              "  0%|          | 0/20 [00:00<?, ?it/s]"
            ]
          },
          "metadata": {}
        },
        {
          "output_type": "stream",
          "name": "stdout",
          "text": [
            "1번째 리스트입니다\n"
          ]
        },
        {
          "output_type": "stream",
          "name": "stderr",
          "text": [
            "/usr/local/lib/python3.7/dist-packages/ipykernel_launcher.py:23: DeprecationWarning: find_element_by_* commands are deprecated. Please use find_element() instead\n"
          ]
        },
        {
          "output_type": "stream",
          "name": "stdout",
          "text": [
            "2번째 리스트입니다\n"
          ]
        },
        {
          "output_type": "error",
          "ename": "NoSuchElementException",
          "evalue": "ignored",
          "traceback": [
            "\u001b[0;31m---------------------------------------------------------------------------\u001b[0m",
            "\u001b[0;31mNoSuchElementException\u001b[0m                    Traceback (most recent call last)",
            "\u001b[0;32m<ipython-input-18-6c6c10529444>\u001b[0m in \u001b[0;36m<module>\u001b[0;34m()\u001b[0m\n\u001b[1;32m     21\u001b[0m     \u001b[0;31m# 플레이리스트 클릭\u001b[0m\u001b[0;34m\u001b[0m\u001b[0;34m\u001b[0m\u001b[0;34m\u001b[0m\u001b[0m\n\u001b[1;32m     22\u001b[0m     \u001b[0mtime\u001b[0m\u001b[0;34m.\u001b[0m\u001b[0msleep\u001b[0m\u001b[0;34m(\u001b[0m\u001b[0muniform\u001b[0m\u001b[0;34m(\u001b[0m\u001b[0;36m0.4\u001b[0m\u001b[0;34m,\u001b[0m\u001b[0;36m0.6\u001b[0m\u001b[0;34m)\u001b[0m\u001b[0;34m)\u001b[0m\u001b[0;34m\u001b[0m\u001b[0;34m\u001b[0m\u001b[0m\n\u001b[0;32m---> 23\u001b[0;31m     \u001b[0mdriver\u001b[0m\u001b[0;34m.\u001b[0m\u001b[0mfind_element_by_css_selector\u001b[0m\u001b[0;34m(\u001b[0m\u001b[0;34m'#djPlylstList > div > ul > li:nth-child({0}) > div.entry > div.info > a.ellipsis.album_name'\u001b[0m\u001b[0;34m.\u001b[0m\u001b[0mformat\u001b[0m\u001b[0;34m(\u001b[0m\u001b[0mn\u001b[0m\u001b[0;34m)\u001b[0m\u001b[0;34m)\u001b[0m\u001b[0;34m.\u001b[0m\u001b[0mclick\u001b[0m\u001b[0;34m(\u001b[0m\u001b[0;34m)\u001b[0m\u001b[0;34m\u001b[0m\u001b[0;34m\u001b[0m\u001b[0m\n\u001b[0m\u001b[1;32m     24\u001b[0m     \u001b[0;31m# html 파싱\u001b[0m\u001b[0;34m\u001b[0m\u001b[0;34m\u001b[0m\u001b[0;34m\u001b[0m\u001b[0m\n\u001b[1;32m     25\u001b[0m     \u001b[0mreq\u001b[0m \u001b[0;34m=\u001b[0m \u001b[0mdriver\u001b[0m\u001b[0;34m.\u001b[0m\u001b[0mpage_source\u001b[0m\u001b[0;34m\u001b[0m\u001b[0;34m\u001b[0m\u001b[0m\n",
            "\u001b[0;32m/usr/local/lib/python3.7/dist-packages/selenium/webdriver/remote/webdriver.py\u001b[0m in \u001b[0;36mfind_element_by_css_selector\u001b[0;34m(self, css_selector)\u001b[0m\n\u001b[1;32m    800\u001b[0m             \u001b[0mstacklevel\u001b[0m\u001b[0;34m=\u001b[0m\u001b[0;36m2\u001b[0m\u001b[0;34m,\u001b[0m\u001b[0;34m\u001b[0m\u001b[0;34m\u001b[0m\u001b[0m\n\u001b[1;32m    801\u001b[0m         )\n\u001b[0;32m--> 802\u001b[0;31m         \u001b[0;32mreturn\u001b[0m \u001b[0mself\u001b[0m\u001b[0;34m.\u001b[0m\u001b[0mfind_element\u001b[0m\u001b[0;34m(\u001b[0m\u001b[0mby\u001b[0m\u001b[0;34m=\u001b[0m\u001b[0mBy\u001b[0m\u001b[0;34m.\u001b[0m\u001b[0mCSS_SELECTOR\u001b[0m\u001b[0;34m,\u001b[0m \u001b[0mvalue\u001b[0m\u001b[0;34m=\u001b[0m\u001b[0mcss_selector\u001b[0m\u001b[0;34m)\u001b[0m\u001b[0;34m\u001b[0m\u001b[0;34m\u001b[0m\u001b[0m\n\u001b[0m\u001b[1;32m    803\u001b[0m \u001b[0;34m\u001b[0m\u001b[0m\n\u001b[1;32m    804\u001b[0m     \u001b[0;32mdef\u001b[0m \u001b[0mfind_elements_by_css_selector\u001b[0m\u001b[0;34m(\u001b[0m\u001b[0mself\u001b[0m\u001b[0;34m,\u001b[0m \u001b[0mcss_selector\u001b[0m\u001b[0;34m)\u001b[0m \u001b[0;34m->\u001b[0m \u001b[0mWebElement\u001b[0m\u001b[0;34m:\u001b[0m\u001b[0;34m\u001b[0m\u001b[0;34m\u001b[0m\u001b[0m\n",
            "\u001b[0;32m/usr/local/lib/python3.7/dist-packages/selenium/webdriver/remote/webdriver.py\u001b[0m in \u001b[0;36mfind_element\u001b[0;34m(self, by, value)\u001b[0m\n\u001b[1;32m   1238\u001b[0m         return self.execute(Command.FIND_ELEMENT, {\n\u001b[1;32m   1239\u001b[0m             \u001b[0;34m'using'\u001b[0m\u001b[0;34m:\u001b[0m \u001b[0mby\u001b[0m\u001b[0;34m,\u001b[0m\u001b[0;34m\u001b[0m\u001b[0;34m\u001b[0m\u001b[0m\n\u001b[0;32m-> 1240\u001b[0;31m             'value': value})['value']\n\u001b[0m\u001b[1;32m   1241\u001b[0m \u001b[0;34m\u001b[0m\u001b[0m\n\u001b[1;32m   1242\u001b[0m     \u001b[0;32mdef\u001b[0m \u001b[0mfind_elements\u001b[0m\u001b[0;34m(\u001b[0m\u001b[0mself\u001b[0m\u001b[0;34m,\u001b[0m \u001b[0mby\u001b[0m\u001b[0;34m=\u001b[0m\u001b[0mBy\u001b[0m\u001b[0;34m.\u001b[0m\u001b[0mID\u001b[0m\u001b[0;34m,\u001b[0m \u001b[0mvalue\u001b[0m\u001b[0;34m=\u001b[0m\u001b[0;32mNone\u001b[0m\u001b[0;34m)\u001b[0m \u001b[0;34m->\u001b[0m \u001b[0mList\u001b[0m\u001b[0;34m[\u001b[0m\u001b[0mWebElement\u001b[0m\u001b[0;34m]\u001b[0m\u001b[0;34m:\u001b[0m\u001b[0;34m\u001b[0m\u001b[0;34m\u001b[0m\u001b[0m\n",
            "\u001b[0;32m/usr/local/lib/python3.7/dist-packages/selenium/webdriver/remote/webdriver.py\u001b[0m in \u001b[0;36mexecute\u001b[0;34m(self, driver_command, params)\u001b[0m\n\u001b[1;32m    416\u001b[0m         \u001b[0mresponse\u001b[0m \u001b[0;34m=\u001b[0m \u001b[0mself\u001b[0m\u001b[0;34m.\u001b[0m\u001b[0mcommand_executor\u001b[0m\u001b[0;34m.\u001b[0m\u001b[0mexecute\u001b[0m\u001b[0;34m(\u001b[0m\u001b[0mdriver_command\u001b[0m\u001b[0;34m,\u001b[0m \u001b[0mparams\u001b[0m\u001b[0;34m)\u001b[0m\u001b[0;34m\u001b[0m\u001b[0;34m\u001b[0m\u001b[0m\n\u001b[1;32m    417\u001b[0m         \u001b[0;32mif\u001b[0m \u001b[0mresponse\u001b[0m\u001b[0;34m:\u001b[0m\u001b[0;34m\u001b[0m\u001b[0;34m\u001b[0m\u001b[0m\n\u001b[0;32m--> 418\u001b[0;31m             \u001b[0mself\u001b[0m\u001b[0;34m.\u001b[0m\u001b[0merror_handler\u001b[0m\u001b[0;34m.\u001b[0m\u001b[0mcheck_response\u001b[0m\u001b[0;34m(\u001b[0m\u001b[0mresponse\u001b[0m\u001b[0;34m)\u001b[0m\u001b[0;34m\u001b[0m\u001b[0;34m\u001b[0m\u001b[0m\n\u001b[0m\u001b[1;32m    419\u001b[0m             response['value'] = self._unwrap_value(\n\u001b[1;32m    420\u001b[0m                 response.get('value', None))\n",
            "\u001b[0;32m/usr/local/lib/python3.7/dist-packages/selenium/webdriver/remote/errorhandler.py\u001b[0m in \u001b[0;36mcheck_response\u001b[0;34m(self, response)\u001b[0m\n\u001b[1;32m    241\u001b[0m                 \u001b[0malert_text\u001b[0m \u001b[0;34m=\u001b[0m \u001b[0mvalue\u001b[0m\u001b[0;34m[\u001b[0m\u001b[0;34m'alert'\u001b[0m\u001b[0;34m]\u001b[0m\u001b[0;34m.\u001b[0m\u001b[0mget\u001b[0m\u001b[0;34m(\u001b[0m\u001b[0;34m'text'\u001b[0m\u001b[0;34m)\u001b[0m\u001b[0;34m\u001b[0m\u001b[0;34m\u001b[0m\u001b[0m\n\u001b[1;32m    242\u001b[0m             \u001b[0;32mraise\u001b[0m \u001b[0mexception_class\u001b[0m\u001b[0;34m(\u001b[0m\u001b[0mmessage\u001b[0m\u001b[0;34m,\u001b[0m \u001b[0mscreen\u001b[0m\u001b[0;34m,\u001b[0m \u001b[0mstacktrace\u001b[0m\u001b[0;34m,\u001b[0m \u001b[0malert_text\u001b[0m\u001b[0;34m)\u001b[0m  \u001b[0;31m# type: ignore[call-arg]  # mypy is not smart enough here\u001b[0m\u001b[0;34m\u001b[0m\u001b[0;34m\u001b[0m\u001b[0m\n\u001b[0;32m--> 243\u001b[0;31m         \u001b[0;32mraise\u001b[0m \u001b[0mexception_class\u001b[0m\u001b[0;34m(\u001b[0m\u001b[0mmessage\u001b[0m\u001b[0;34m,\u001b[0m \u001b[0mscreen\u001b[0m\u001b[0;34m,\u001b[0m \u001b[0mstacktrace\u001b[0m\u001b[0;34m)\u001b[0m\u001b[0;34m\u001b[0m\u001b[0;34m\u001b[0m\u001b[0m\n\u001b[0m\u001b[1;32m    244\u001b[0m \u001b[0;34m\u001b[0m\u001b[0m\n\u001b[1;32m    245\u001b[0m     \u001b[0;32mdef\u001b[0m \u001b[0m_value_or_default\u001b[0m\u001b[0;34m(\u001b[0m\u001b[0mself\u001b[0m\u001b[0;34m,\u001b[0m \u001b[0mobj\u001b[0m\u001b[0;34m:\u001b[0m \u001b[0mMapping\u001b[0m\u001b[0;34m[\u001b[0m\u001b[0m_KT\u001b[0m\u001b[0;34m,\u001b[0m \u001b[0m_VT\u001b[0m\u001b[0;34m]\u001b[0m\u001b[0;34m,\u001b[0m \u001b[0mkey\u001b[0m\u001b[0;34m:\u001b[0m \u001b[0m_KT\u001b[0m\u001b[0;34m,\u001b[0m \u001b[0mdefault\u001b[0m\u001b[0;34m:\u001b[0m \u001b[0m_VT\u001b[0m\u001b[0;34m)\u001b[0m \u001b[0;34m->\u001b[0m \u001b[0m_VT\u001b[0m\u001b[0;34m:\u001b[0m\u001b[0;34m\u001b[0m\u001b[0;34m\u001b[0m\u001b[0m\n",
            "\u001b[0;31mNoSuchElementException\u001b[0m: Message: no such element: Unable to locate element: {\"method\":\"css selector\",\"selector\":\"#djPlylstList > div > ul > li:nth-child(2) > div.entry > div.info > a.ellipsis.album_name\"}\n  (Session info: headless chrome=94.0.4606.81)\nStacktrace:\n#0 0x556083625043 <unknown>\n#1 0x5560833369f3 <unknown>\n#2 0x55608336c230 <unknown>\n#3 0x55608339fc47 <unknown>\n#4 0x55608338925d <unknown>\n#5 0x55608339d9bc <unknown>\n#6 0x556083389643 <unknown>\n#7 0x5560833608ec <unknown>\n#8 0x556083361db5 <unknown>\n#9 0x556083649374 <unknown>\n#10 0x556083658abd <unknown>\n#11 0x5560836587db <unknown>\n#12 0x556083659102 <unknown>\n#13 0x556083691e8b <unknown>\n#14 0x556083659361 <unknown>\n#15 0x55608363e251 <unknown>\n#16 0x556083661d68 <unknown>\n#17 0x556083661efa <unknown>\n#18 0x55608367bc8f <unknown>\n#19 0x7f8f505cb6db start_thread\n"
          ]
        }
      ]
    },
    {
      "cell_type": "code",
      "metadata": {
        "id": "LLMIf7ZAiE4s"
      },
      "source": [
        "page"
      ],
      "execution_count": null,
      "outputs": []
    },
    {
      "cell_type": "code",
      "metadata": {
        "colab": {
          "base_uri": "https://localhost:8080/",
          "height": 195
        },
        "id": "WWoPOoSaqKzp",
        "outputId": "c6c935cb-8864-4d1b-b5b8-0c8a4f0afc76"
      },
      "source": [
        "df"
      ],
      "execution_count": null,
      "outputs": [
        {
          "output_type": "execute_result",
          "data": {
            "text/html": [
              "<div>\n",
              "<style scoped>\n",
              "    .dataframe tbody tr th:only-of-type {\n",
              "        vertical-align: middle;\n",
              "    }\n",
              "\n",
              "    .dataframe tbody tr th {\n",
              "        vertical-align: top;\n",
              "    }\n",
              "\n",
              "    .dataframe thead th {\n",
              "        text-align: right;\n",
              "    }\n",
              "</style>\n",
              "<table border=\"1\" class=\"dataframe\">\n",
              "  <thead>\n",
              "    <tr style=\"text-align: right;\">\n",
              "      <th></th>\n",
              "      <th>0</th>\n",
              "      <th>1</th>\n",
              "      <th>2</th>\n",
              "      <th>3</th>\n",
              "      <th>4</th>\n",
              "      <th>5</th>\n",
              "      <th>6</th>\n",
              "      <th>7</th>\n",
              "      <th>8</th>\n",
              "      <th>9</th>\n",
              "      <th>10</th>\n",
              "      <th>11</th>\n",
              "      <th>12</th>\n",
              "      <th>13</th>\n",
              "      <th>14</th>\n",
              "      <th>15</th>\n",
              "      <th>16</th>\n",
              "      <th>17</th>\n",
              "      <th>18</th>\n",
              "      <th>19</th>\n",
              "      <th>20</th>\n",
              "      <th>21</th>\n",
              "      <th>22</th>\n",
              "      <th>23</th>\n",
              "      <th>24</th>\n",
              "      <th>25</th>\n",
              "      <th>26</th>\n",
              "      <th>27</th>\n",
              "      <th>28</th>\n",
              "      <th>29</th>\n",
              "      <th>30</th>\n",
              "      <th>31</th>\n",
              "      <th>32</th>\n",
              "      <th>33</th>\n",
              "      <th>34</th>\n",
              "      <th>35</th>\n",
              "      <th>36</th>\n",
              "      <th>37</th>\n",
              "      <th>38</th>\n",
              "      <th>39</th>\n",
              "      <th>40</th>\n",
              "      <th>41</th>\n",
              "      <th>42</th>\n",
              "      <th>43</th>\n",
              "      <th>44</th>\n",
              "      <th>45</th>\n",
              "      <th>46</th>\n",
              "      <th>47</th>\n",
              "      <th>48</th>\n",
              "      <th>49</th>\n",
              "    </tr>\n",
              "  </thead>\n",
              "  <tbody>\n",
              "    <tr>\n",
              "      <th>0</th>\n",
              "      <td>83437</td>\n",
              "      <td>111572</td>\n",
              "      <td>53615</td>\n",
              "      <td>51507</td>\n",
              "      <td>1876466</td>\n",
              "      <td>14221</td>\n",
              "      <td>49560</td>\n",
              "      <td>1136819</td>\n",
              "      <td>1707087</td>\n",
              "      <td>91423</td>\n",
              "      <td>61835</td>\n",
              "      <td>91462</td>\n",
              "      <td>1622501</td>\n",
              "      <td>73737</td>\n",
              "      <td>33206</td>\n",
              "      <td>2981596</td>\n",
              "      <td>76623</td>\n",
              "      <td>23437</td>\n",
              "      <td>1500839</td>\n",
              "      <td>1816948</td>\n",
              "      <td>70696</td>\n",
              "      <td>2184581</td>\n",
              "      <td>2743595</td>\n",
              "      <td>81013</td>\n",
              "      <td>70631</td>\n",
              "      <td>61245</td>\n",
              "      <td>1022090</td>\n",
              "      <td>481565</td>\n",
              "      <td>611573</td>\n",
              "      <td>1139375</td>\n",
              "      <td>1839666</td>\n",
              "      <td>70148</td>\n",
              "      <td>64487</td>\n",
              "      <td>526820</td>\n",
              "      <td>1876467</td>\n",
              "      <td>91579</td>\n",
              "      <td>71033</td>\n",
              "      <td>2743596</td>\n",
              "      <td>898849</td>\n",
              "      <td>1839640</td>\n",
              "      <td>1622515</td>\n",
              "      <td>2981597</td>\n",
              "      <td>1761801</td>\n",
              "      <td>67561</td>\n",
              "      <td>66411</td>\n",
              "      <td>61500</td>\n",
              "      <td>1719746</td>\n",
              "      <td>38651</td>\n",
              "      <td>63699</td>\n",
              "      <td>104067</td>\n",
              "    </tr>\n",
              "    <tr>\n",
              "      <th>1</th>\n",
              "      <td>83437</td>\n",
              "      <td>111572</td>\n",
              "      <td>53615</td>\n",
              "      <td>51507</td>\n",
              "      <td>1876466</td>\n",
              "      <td>14221</td>\n",
              "      <td>49560</td>\n",
              "      <td>1136819</td>\n",
              "      <td>1707087</td>\n",
              "      <td>91423</td>\n",
              "      <td>61835</td>\n",
              "      <td>91462</td>\n",
              "      <td>1622501</td>\n",
              "      <td>73737</td>\n",
              "      <td>33206</td>\n",
              "      <td>2981596</td>\n",
              "      <td>76623</td>\n",
              "      <td>23437</td>\n",
              "      <td>1500839</td>\n",
              "      <td>1816948</td>\n",
              "      <td>70696</td>\n",
              "      <td>2184581</td>\n",
              "      <td>2743595</td>\n",
              "      <td>81013</td>\n",
              "      <td>70631</td>\n",
              "      <td>61245</td>\n",
              "      <td>1022090</td>\n",
              "      <td>481565</td>\n",
              "      <td>611573</td>\n",
              "      <td>1139375</td>\n",
              "      <td>1839666</td>\n",
              "      <td>70148</td>\n",
              "      <td>64487</td>\n",
              "      <td>526820</td>\n",
              "      <td>1876467</td>\n",
              "      <td>91579</td>\n",
              "      <td>71033</td>\n",
              "      <td>2743596</td>\n",
              "      <td>898849</td>\n",
              "      <td>1839640</td>\n",
              "      <td>1622515</td>\n",
              "      <td>2981597</td>\n",
              "      <td>1761801</td>\n",
              "      <td>67561</td>\n",
              "      <td>66411</td>\n",
              "      <td>61500</td>\n",
              "      <td>1719746</td>\n",
              "      <td>38651</td>\n",
              "      <td>63699</td>\n",
              "      <td>104067</td>\n",
              "    </tr>\n",
              "    <tr>\n",
              "      <th>2</th>\n",
              "      <td>83437</td>\n",
              "      <td>111572</td>\n",
              "      <td>53615</td>\n",
              "      <td>51507</td>\n",
              "      <td>1876466</td>\n",
              "      <td>14221</td>\n",
              "      <td>49560</td>\n",
              "      <td>1136819</td>\n",
              "      <td>1707087</td>\n",
              "      <td>91423</td>\n",
              "      <td>61835</td>\n",
              "      <td>91462</td>\n",
              "      <td>1622501</td>\n",
              "      <td>73737</td>\n",
              "      <td>33206</td>\n",
              "      <td>2981596</td>\n",
              "      <td>76623</td>\n",
              "      <td>23437</td>\n",
              "      <td>1500839</td>\n",
              "      <td>1816948</td>\n",
              "      <td>70696</td>\n",
              "      <td>2184581</td>\n",
              "      <td>2743595</td>\n",
              "      <td>81013</td>\n",
              "      <td>70631</td>\n",
              "      <td>61245</td>\n",
              "      <td>1022090</td>\n",
              "      <td>481565</td>\n",
              "      <td>611573</td>\n",
              "      <td>1139375</td>\n",
              "      <td>1839666</td>\n",
              "      <td>70148</td>\n",
              "      <td>64487</td>\n",
              "      <td>526820</td>\n",
              "      <td>1876467</td>\n",
              "      <td>91579</td>\n",
              "      <td>71033</td>\n",
              "      <td>2743596</td>\n",
              "      <td>898849</td>\n",
              "      <td>1839640</td>\n",
              "      <td>1622515</td>\n",
              "      <td>2981597</td>\n",
              "      <td>1761801</td>\n",
              "      <td>67561</td>\n",
              "      <td>66411</td>\n",
              "      <td>61500</td>\n",
              "      <td>1719746</td>\n",
              "      <td>38651</td>\n",
              "      <td>63699</td>\n",
              "      <td>104067</td>\n",
              "    </tr>\n",
              "    <tr>\n",
              "      <th>3</th>\n",
              "      <td>83437</td>\n",
              "      <td>NaN</td>\n",
              "      <td>NaN</td>\n",
              "      <td>NaN</td>\n",
              "      <td>NaN</td>\n",
              "      <td>NaN</td>\n",
              "      <td>NaN</td>\n",
              "      <td>NaN</td>\n",
              "      <td>NaN</td>\n",
              "      <td>NaN</td>\n",
              "      <td>NaN</td>\n",
              "      <td>NaN</td>\n",
              "      <td>NaN</td>\n",
              "      <td>NaN</td>\n",
              "      <td>NaN</td>\n",
              "      <td>NaN</td>\n",
              "      <td>NaN</td>\n",
              "      <td>NaN</td>\n",
              "      <td>NaN</td>\n",
              "      <td>NaN</td>\n",
              "      <td>NaN</td>\n",
              "      <td>NaN</td>\n",
              "      <td>NaN</td>\n",
              "      <td>NaN</td>\n",
              "      <td>NaN</td>\n",
              "      <td>NaN</td>\n",
              "      <td>NaN</td>\n",
              "      <td>NaN</td>\n",
              "      <td>NaN</td>\n",
              "      <td>NaN</td>\n",
              "      <td>NaN</td>\n",
              "      <td>NaN</td>\n",
              "      <td>NaN</td>\n",
              "      <td>NaN</td>\n",
              "      <td>NaN</td>\n",
              "      <td>NaN</td>\n",
              "      <td>NaN</td>\n",
              "      <td>NaN</td>\n",
              "      <td>NaN</td>\n",
              "      <td>NaN</td>\n",
              "      <td>NaN</td>\n",
              "      <td>NaN</td>\n",
              "      <td>NaN</td>\n",
              "      <td>NaN</td>\n",
              "      <td>NaN</td>\n",
              "      <td>NaN</td>\n",
              "      <td>NaN</td>\n",
              "      <td>NaN</td>\n",
              "      <td>NaN</td>\n",
              "      <td>NaN</td>\n",
              "    </tr>\n",
              "  </tbody>\n",
              "</table>\n",
              "</div>"
            ],
            "text/plain": [
              "      0       1      2      3        4   ...     45       46     47     48      49\n",
              "0  83437  111572  53615  51507  1876466  ...  61500  1719746  38651  63699  104067\n",
              "1  83437  111572  53615  51507  1876466  ...  61500  1719746  38651  63699  104067\n",
              "2  83437  111572  53615  51507  1876466  ...  61500  1719746  38651  63699  104067\n",
              "3  83437     NaN    NaN    NaN      NaN  ...    NaN      NaN    NaN    NaN     NaN\n",
              "\n",
              "[4 rows x 50 columns]"
            ]
          },
          "metadata": {},
          "execution_count": 12
        }
      ]
    },
    {
      "cell_type": "code",
      "metadata": {
        "colab": {
          "base_uri": "https://localhost:8080/"
        },
        "id": "8WBTO2S9VpTr",
        "outputId": "c2bfc453-4e69-4d61-d465-19e8aad0371d"
      },
      "source": [
        "song_cnt"
      ],
      "execution_count": null,
      "outputs": [
        {
          "output_type": "execute_result",
          "data": {
            "text/plain": [
              "100"
            ]
          },
          "metadata": {},
          "execution_count": 122
        }
      ]
    },
    {
      "cell_type": "code",
      "metadata": {
        "id": "6c8WFbuV7l9E"
      },
      "source": [
        "for month in months:\n",
        "    # 월 선택\n",
        "    driver.find_element_by_xpath(f'//label[@for=\"month_{month}\"]').click()\n",
        "    time.sleep(uniform(0.4,0.6))\n",
        "    # 국내 종합\n",
        "    driver.find_element_by_xpath('//label[@for=\"gnr_2\"]').click()\n",
        "    # 검색 클릭\n",
        "    driver.find_element_by_class_name('btn_b26').click()\n",
        "    time.sleep(uniform(0.7,1.0))\n",
        "    # html 파싱\n",
        "    req = driver.page_source\n",
        "    soup = BeautifulSoup(req, 'html.parser')\n",
        "    # 순위와 음원 고유번호 파싱\n",
        "    res = pd.DataFrame([re.search('goSongDetail\\(\\'(\\d+)\\'\\)',t['href']).group(1) for t in soup.find_all('a',{'class':'btn btn_icon_detail'})],columns=['song_id'])\n",
        "    res_rank = [t.text for t in soup.find_all('span',{'class':'rank'})]\n",
        "    res.insert(0,'rank',pd.NA)\n",
        "    res['rank'] = pd.Series(res_rank)\n",
        "    res['rank_month'] = str(2020) + str(month).zfill(2)\n",
        "\n",
        "    df = df.append(res,ignore_index=True)"
      ],
      "execution_count": null,
      "outputs": []
    },
    {
      "cell_type": "code",
      "metadata": {
        "id": "9vRAb_kl7l9E",
        "outputId": "2833051d-a5b1-49c2-8e14-5652813d2442"
      },
      "source": [
        "df"
      ],
      "execution_count": null,
      "outputs": [
        {
          "output_type": "execute_result",
          "data": {
            "text/plain": [
              "     rank   song_id rank_month\n",
              "0       1  32224272     202001\n",
              "1       2  32313543     202001\n",
              "2       3  32273582     202001\n",
              "3       4  32183386     202001\n",
              "4       5  32228058     202001\n",
              "...   ...       ...        ...\n",
              "1195   96  32889003     202012\n",
              "1196   97  32473998     202012\n",
              "1197   98  32725022     202012\n",
              "1198   99  32860419     202012\n",
              "1199  100  32734372     202012\n",
              "\n",
              "[1200 rows x 3 columns]"
            ],
            "text/html": "<div>\n<style scoped>\n    .dataframe tbody tr th:only-of-type {\n        vertical-align: middle;\n    }\n\n    .dataframe tbody tr th {\n        vertical-align: top;\n    }\n\n    .dataframe thead th {\n        text-align: right;\n    }\n</style>\n<table border=\"1\" class=\"dataframe\">\n  <thead>\n    <tr style=\"text-align: right;\">\n      <th></th>\n      <th>rank</th>\n      <th>song_id</th>\n      <th>rank_month</th>\n    </tr>\n  </thead>\n  <tbody>\n    <tr>\n      <th>0</th>\n      <td>1</td>\n      <td>32224272</td>\n      <td>202001</td>\n    </tr>\n    <tr>\n      <th>1</th>\n      <td>2</td>\n      <td>32313543</td>\n      <td>202001</td>\n    </tr>\n    <tr>\n      <th>2</th>\n      <td>3</td>\n      <td>32273582</td>\n      <td>202001</td>\n    </tr>\n    <tr>\n      <th>3</th>\n      <td>4</td>\n      <td>32183386</td>\n      <td>202001</td>\n    </tr>\n    <tr>\n      <th>4</th>\n      <td>5</td>\n      <td>32228058</td>\n      <td>202001</td>\n    </tr>\n    <tr>\n      <th>...</th>\n      <td>...</td>\n      <td>...</td>\n      <td>...</td>\n    </tr>\n    <tr>\n      <th>1195</th>\n      <td>96</td>\n      <td>32889003</td>\n      <td>202012</td>\n    </tr>\n    <tr>\n      <th>1196</th>\n      <td>97</td>\n      <td>32473998</td>\n      <td>202012</td>\n    </tr>\n    <tr>\n      <th>1197</th>\n      <td>98</td>\n      <td>32725022</td>\n      <td>202012</td>\n    </tr>\n    <tr>\n      <th>1198</th>\n      <td>99</td>\n      <td>32860419</td>\n      <td>202012</td>\n    </tr>\n    <tr>\n      <th>1199</th>\n      <td>100</td>\n      <td>32734372</td>\n      <td>202012</td>\n    </tr>\n  </tbody>\n</table>\n<p>1200 rows × 3 columns</p>\n</div>"
          },
          "metadata": {},
          "execution_count": 26
        }
      ]
    },
    {
      "cell_type": "code",
      "metadata": {
        "id": "YSXR8tSb7l9E",
        "outputId": "d27aac2f-15a1-4584-a19b-a6393f503fd0"
      },
      "source": [
        "df['rank_month'].value_counts()"
      ],
      "execution_count": null,
      "outputs": [
        {
          "output_type": "execute_result",
          "data": {
            "text/plain": [
              "202005    100\n",
              "202002    100\n",
              "202010    100\n",
              "202006    100\n",
              "202011    100\n",
              "202004    100\n",
              "202008    100\n",
              "202007    100\n",
              "202012    100\n",
              "202003    100\n",
              "202001    100\n",
              "202009    100\n",
              "Name: rank_month, dtype: int64"
            ]
          },
          "metadata": {},
          "execution_count": 28
        }
      ]
    },
    {
      "cell_type": "markdown",
      "metadata": {
        "id": "n6VX6X8Z7l9E"
      },
      "source": [
        "### 곡 상세 페이지 정보 수집\n",
        "https://www.melon.com/song/detail.htm?songId=33515010"
      ]
    },
    {
      "cell_type": "code",
      "metadata": {
        "id": "2B6ac-dq7l9E"
      },
      "source": [
        "row_list = []"
      ],
      "execution_count": null,
      "outputs": []
    },
    {
      "cell_type": "code",
      "metadata": {
        "id": "lya4DtZp7l9F",
        "outputId": "afd4a0b9-7247-46f8-ee27-627f52fa35a8"
      },
      "source": [
        "len(row_list)"
      ],
      "execution_count": null,
      "outputs": [
        {
          "data": {
            "text/plain": [
              "0"
            ]
          },
          "execution_count": 9,
          "metadata": {},
          "output_type": "execute_result"
        }
      ]
    },
    {
      "cell_type": "code",
      "metadata": {
        "id": "HeeAcB6z7l9F",
        "outputId": "44cd0cf2-c9ed-4e67-abf2-b966388a8e0e"
      },
      "source": [
        "song_list = df['song_id'].unique()\n",
        "len(song_list)"
      ],
      "execution_count": null,
      "outputs": [
        {
          "output_type": "execute_result",
          "data": {
            "text/plain": [
              "314"
            ]
          },
          "metadata": {},
          "execution_count": 29
        }
      ]
    },
    {
      "cell_type": "code",
      "metadata": {
        "id": "FdR2VJpj7l9F",
        "colab": {
          "referenced_widgets": [
            "8e6c308302274adba050edf31bd44efa"
          ]
        },
        "outputId": "84bb3b9d-e38c-4fec-c2ca-3b730c276bd9"
      },
      "source": [
        "# 상세곡 정보 수집\n",
        "for song_id in tqdm(song_list):\n",
        "\n",
        "    # 곡 페이지로 이동\n",
        "    driver.get(f'https://www.melon.com/song/detail.htm?songId={song_id}')\n",
        "    time.sleep(uniform(4,7))\n",
        "\n",
        "    # html 파싱\n",
        "    req = driver.page_source\n",
        "    soup = BeautifulSoup(req, 'html.parser')\n",
        "\n",
        "    # 노래 제목\n",
        "    title = driver.find_element_by_class_name('song_name').text\n",
        "\n",
        "    # 아티스트 고유 번호와 이름\n",
        "    if soup.find('a',{'class':'artist_name'})==None:\n",
        "        continue\n",
        "    if re.search('goArtistDetail\\(\\'(\\d+)\\'\\)',soup.find('a',{'class':'artist_name'})['href'])!=None:\n",
        "        arti_id = re.search('goArtistDetail\\(\\'(\\d+)\\'\\)',soup.find('a',{'class':'artist_name'})['href']).group(1)\n",
        "    else:\n",
        "        continue\n",
        "    arti_name = soup.find('a',{'class':'artist_name'})['title']\n",
        "\n",
        "    # 앨범 정보 (앨범 고유번호/앨범명, 발매일, 장르)\n",
        "    album_id = re.search('goAlbumDetail\\(\\'(\\d+)\\'\\)',soup.find_all('dd')[0].a['href']).group(1)\n",
        "    album_name = soup.find_all('dd')[0].text\n",
        "    date = soup.find_all('dd')[1].text\n",
        "    genre = soup.find_all('dd')[2].text\n",
        "\n",
        "    # 좋아요 수 / 댓글 수\n",
        "    like = soup.find('span',{'id':'d_like_count'}).text\n",
        "    comm = re.search('\\d',soup.find('span',{'id':'revCnt'}).text).group()\n",
        "\n",
        "    # 가사\n",
        "    try:\n",
        "        lyric = driver.find_element_by_css_selector('#d_video_summary').text\n",
        "    except NoSuchElementException:\n",
        "        print('가사 없음')\n",
        "        continue\n",
        "\n",
        "    # res_dict\n",
        "    res = {'song_id':song_id,'title':title, 'arti_id':arti_id, 'arti_name':arti_name, \\\n",
        "        'album_id':album_id, 'album_name':album_name, 'date':date, 'genre':genre,\\\n",
        "            'like':like, 'comm':comm, 'lyric':lyric}\n",
        "\n",
        "    # merge row\n",
        "    row_list.append(res)"
      ],
      "execution_count": null,
      "outputs": [
        {
          "output_type": "display_data",
          "data": {
            "text/plain": "  0%|          | 0/314 [00:00<?, ?it/s]",
            "application/vnd.jupyter.widget-view+json": {
              "version_major": 2,
              "version_minor": 0,
              "model_id": "8e6c308302274adba050edf31bd44efa"
            }
          },
          "metadata": {}
        },
        {
          "output_type": "stream",
          "name": "stdout",
          "text": [
            "가사 없음\n"
          ]
        }
      ]
    },
    {
      "cell_type": "code",
      "metadata": {
        "id": "EfbmJTxx7l9G",
        "outputId": "615fcfcc-f14f-41f6-af09-843c75236403"
      },
      "source": [
        "row_list"
      ],
      "execution_count": null,
      "outputs": [
        {
          "output_type": "execute_result",
          "data": {
            "text/plain": [
              "라 반드시\\n버텨 보란 듯이\\n방안에 갇힌 누나까지\\n동네의 친구 선생 부장까지\\n유년시절 기억까지\\n아버지 아버지\\n어머니 어머니\\n내가 입던 교복은 다 타버리고 있지\\nEvery time I ride my plan\\n빠르지 네 차보다 더\\n배춧잎 속에 살던 넌\\n속았어 속았어\\nEvery time we were looking for you\\n드디어 찾았어 Ok\\nTricker tricker tricker tricker\\n부어라 비워라\\n부어라 비워라\\n부어라 비워라\\n부어라 비워라\\n부어라 비워라\\n부어라 비워라\\nDo you wanna be the one\\n요동쳐 투쟁의 리듬\\n미래는 광복의 또 다른 이름\\n생기를 잃은\\n이 거리 위에서\\nHigh way\\nFreeway\\nLiberate\\n남겨라 가죽과 이름\\n지켜라 너의 가족 모든 이를\\n광합성을 놓친\\n이 도시 위에서\\nHigh way\\nFreeway\\nLiberate\\nFreedom\\nLet’s Go\\nOk tricker checkin’\\n내 눈알의 색\\n만들어 Track\\nYes I’m always\\n평생을 바쳤던 만큼\\n울려라 Bass\\n울려라 승전보 Ha\\n단물 빠지면은 토사구팽\\n세상에 Say\\n세상에 Say\\nI don’t care 난 너네 우월감 위에서\\n네 선입견 깨버릴 준비해\\n자유를 쥔채 Take is it\\n말대꾸 Take it back\\n투쟁은 또 다른 분쟁을\\n새로운 주제는 만들어 문제를 그렇담\\nBrr ta ta tah\\n절심함 속에서 여기까지 혼자\\nI’m on the new level\\n약이나 팔아라 난 악으로 살아\\n나의 적들에게 Trauma\\n난 개무시 널 개무시\\n찢어발겨 버려 너네 부심\\n작지만 커지는 투쟁의 힘\\n생성시켜 아이들 이끌 힘을\\n머쉬베놈에게 구원자 같은\\n역할 했던 것은 맞아 음악\\n그런데 뭐하나 보여준 거 하나\\n없이 떠들어봐\\n거리에 배째고 누워 난\\nLet’s get it'},\n",
              " {'song_id': '33133799',\n",
              "  'title': '고독하구만 (Feat. 수퍼비) (Prod. GroovyRoom)',\n",
              "  'arti_id': '2745413',\n",
              "  'arti_name': '머쉬베놈 (MUSHVENOM)',\n",
              "  'album_id': '10532919',\n",
              "  'album_name': '쇼미더머니 9 Semi Final',\n",
              "  'date': '2020.12.12',\n",
              "  'genre': '랩/힙합',\n",
              "  'like': '30,989',\n",
              "  'comm': '2',\n",
              "  'lyric': '고독하구만\\nGo독 Go독 Go독 고독하구만\\nGo독 Go독 Go독 고독하구만\\n참말로 고독하구만\\n이젠 내 주머니는 두둑하지만 yeah\\n정말 참말로 고독하구만\\n오 이런 뭐 이런 또 이런\\n세상에 이런 일이 yo\\n똑똑똑똑 계세여 누구여\\n있는 거 아니깐 나와여 누구여\\n성공 그래 인생은 선공\\n작년에 등장해 두둥\\n앞으로 고 하기 위해서\\n더욱 더 독해지거라 고독\\n독도는 우리 땅처럼\\n너무나 당연한 말\\nDon’t talk\\n그놈의 똑똑한 세상과 자식들의 앞에\\n헛똑똑한 머쉬베놈 멋이 밴 놈\\n진정한 머슴애로\\n백만에서 이제는 천만 제조기다\\n3단 기어를 tic tak 박고\\n가방끈보다 중요한 건 바로 기립근\\n교대 나온 너는 뛰거라 이교대를\\n삼대 오백 친 너와\\n달에 오백 번 나\\n그중에 택 1을 하라 한다면\\n누나 고민 따위를 하덜덜 마\\n왜냐면 빠세\\n우리 진짜 고생했어 빠세\\n원래 인생 독고다이니깐\\nOh wow beautiful my life\\n그동안 난 I ran for my life\\n빠세 우리 진짜 고생해서 빠세\\n원래 인생 독고다이니\\n고독하구만\\nGo독 Go독 Go독 고독하구만\\nGo독 Go독 Go독 고독하구만\\n참말로 고독하구만\\n이젠 내 주머니는 두둑하지만 yeah\\n정말 참말로 고독하구만\\n오 이런 뭐 이런 또 이런\\n세상에 이런 일이 yo\\nAll White G-Wagon을 타고\\nriding around my city\\n이게 boss의 삶 Yng & Rich we get it\\n쇼미 더 머니 수퍼비와\\n사람들은 아직도 물어봐\\n진 이유에 대해서 DM\\ndon’t do that\\n근데 오늘 I can’t lose\\n나 두번지고는 안 살아\\nmush가 뒤에\\n피해 피해 피해 이 BEE에\\nGo 독해서 독해진 인생의 비애\\nAll of My Life on the mission\\n내가 만약 뒤로 쓰러짐 백 텀블링\\n앰뷸런스 부르던 철부지\\n예상은 역배였지만 너무 커버림\\n머쉬야 쳐봐 여 더블링\\n아 여깄습니다 더블링\\n이승에서 세종대왕을 벌지만\\n저승에선 염라대왕을 세버림\\nyeah we gon rob this 가요 market\\nVVS 거 제일 많은 새끼\\n하면 나지 알아 파악해\\nHuh Huh\\nyeah I started out with nothin’\\n맨날 따지 비싼 샴페인\\nRap 엄홍길 외로히 top 위\\nHuh Huh\\nOh wow beautiful my life\\n그동안 난\\nI ran for my life\\n빠세 우리 진짜 고생해서 빠세\\n원래 인생 독고다이니\\n고독하구만\\nGo독 Go독 Go독 고독하구만\\nGo독 Go독 Go독 고독하구만\\n참말로 고독하구만\\n이젠 내 주머니는 두둑하지만 yeah\\n정말 참말로 고독하구만\\n오 이런 뭐 이런 또 이런\\n세상에 이런 일이\\n안 본 사이 내 어머니 뒷바라지하다\\n소녀의 기억을 잃었지\\n내게 인생을 즐기란 아버지\\n표정은 고독하시지\\nSing along\\n장례식장에서 마저 자랑거리\\n된 나의 옆에 영정사진 속에\\n웃고 계신 나의 할머니\\n웃긴 놈으로 내가 남는 이유\\n잘난 놈 못 되는 이유\\n평생 쪽을 팔며 사는 이유\\n고독하지만 난\\n문제야 문제\\n아가 내는 문제\\n풀 준비를 해\\n다음 주까지 숙제\\n난 지켜 hip-hop을 위해\\nyeah yeah yeah\\n이 심장도 내 yeah yeah yeah\\nGONZO가 내게\\n맡기고 떠난 걸 해내기 위해\\n힙합 이전에\\n나를 위해서\\n배 째라던 식에서 베테랑 됐어\\n허나 얻은 만큼 잃은 게 많아서\\n배고픔 여전히 계속\\n내 다이아몬드는 씬을 빛내기 위해서\\n근데 난 과녁판 됐어 칼이 온대도\\n야마 또 신념을 지켜\\n진정 내 편 없나 고독하구만\\n네 가족 요구로 없애 네 커리어\\n버르장머리를 재개조 21개월을\\n거치고 거치며\\n나는 또\\n현자로 레벨업\\n너 같은 애는 제대로 맛보기로\\n보여줘 you won’t get it 내게 내게로\\n지금 당장\\nlet’s get it on\\n전에도 말했듯 이젠 네 자리로 돌아가\\n화장실 변기통\\n참말로 고독하구만\\n이젠 내 주머니는 두둑하지만 yeah\\n정말 참말로 고독하구만\\n오 이런 뭐 이런 또 이런\\n세상에 이런 일이 yo\\n고독하구만'},\n",
              " {'song_id': '33067476',\n",
              "  'title': 'Black Mamba',\n",
              "  'arti_id': '2899555',\n",
              "  'arti_name': 'aespa',\n",
              "  'album_id': '10519346',\n",
              "  'album_name': 'Black Mamba',\n",
              "  'date': '2020.11.17',\n",
              "  'genre': '댄스',\n",
              "  'like': '50,995',\n",
              "  'comm': '2',\n",
              "  'lyric': 'I’m addicted\\n끊임없이\\n말을 걸어주는\\n나의 에스파\\n이런 교감,\\n너의 존잰 날\\n다른 차원으로\\n이끌었지\\n\\n난 세상 중심에\\nYou’re in the FLAT\\n내 모든 Action\\n어린 너의 힘을 키워\\n\\n넌 언젠가부터 SYNK out\\n노이즈같이 보여\\n더 이상 못 찾겠어\\n널 유혹해 삼킨 건\\nBlack Mamba\\n\\nMa Ma Ma Mamba\\nWoo oh-oh\\nMa Ma Ma Mamba\\nOh eh-o eh-o\\n\\n넌 광야를 떠돌고 있어\\n(Aya ya ya ya ya ya)\\n나의 분신을 찾고 싶어\\n(Aya ya ya ya ya ya)\\nHey Ma Mamba\\n\\nI hate Ma Ma Ma Mamba\\nHate Ma Ma Ma Mamba\\n\\nI’m ejected\\n선함 만으론\\n너의 거대함을 이기지 못해\\nI’m exhausted\\n너의 존잰 모든\\n탐욕들을 먹고 자라 났지\\n\\n에스파는 나야\\n둘이 될 수 없어\\nMonochrome to colors\\n이건 Evo, Evolution\\n\\nOh! 위험한 장난을 쳐\\n매혹적이지만 널\\n부정할 밖에\\n모든 걸 삼켜버릴\\nBlack Mamba\\n\\nMa Ma Ma Mamba\\nWoo oh-oh\\nMa Ma Ma Mamba\\nOh eh-o eh-o\\n\\n넌 광야를 떠돌고 있어\\n(Aya ya ya ya ya ya)\\n네게 맞서 난 질 수 없어\\n(Aya ya ya ya ya ya)\\nHey Ma Mamba\\n\\n거울 속의 나는 네가 아닐까?\\n일그러져버린 환영인 걸까?\\n다시 너와 연결될 수 있다면\\n너를 만나고 싶어 이제\\n모든 걸 삼켜버릴\\nBlack Mamba\\n\\nMa Ma Ma Mamba\\nWoo oh-oh\\nMa Ma Ma Mamba\\nOh eh-o eh-o\\n\\n넌 광야를 떠돌고 있어\\n(Aya ya ya ya ya ya)\\n네게 맞서 난 질 수 없어\\n(Aya ya ya ya ya ya)\\nHey Ma Mamba'},\n",
              " {'song_id': '33150997',\n",
              "  'title': 'CREDIT (Feat. 염따, 기리보이, Zion.T)',\n",
              "  'arti_id': '623251',\n",
              "  'arti_name': '릴보이 (lIlBOI)',\n",
              "  'album_id': '10536658',\n",
              "  'album_name': '쇼미더머니 9 Final',\n",
              "  'date': '2020.12.19',\n",
              "  'genre': '랩/힙합',\n",
              "  'like': '59,402',\n",
              "  'comm': '8',\n",
              "  'lyric': \"요즘 들어 바쁘게 시간을 보냈지\\n아끼던 내 신발 색이 바랬으니\\n불과 몇 달 만에\\n많은 것이 변했나 봐\\n너는 내게 찾아와서 물어\\nHow you feel\\nWell I feel love I feel blessed\\n과분하게 많이 받은 것 같아\\n지금까지 날 도와준 이들\\n이름 하나하나\\n빠짐없이 여기에 남기기로 했지\\n이곳에 오기 전에\\n난 그저 방구석에서\\n변하는 게 무서웠기에 두꺼운\\n이불을 덮어놨네\\n의사 선생님이 말했지\\n조금은 다를지\\n몰라도 Gotta see yourself\\n당연한 말이지만은\\n난 기준을 남에게\\n뒀었지 I know\\n이제서야 주변을 봐\\n지금껏 남은 친구들과\\n떠나지 않은 사람들 모두를\\n기억해 나는 이 곡에다가\\n너무 늦게 말을 건네\\n넌 당연하게 웃어줬네\\nbut I can never right my wrongs\\n적어두지 않는다면\\n적어놨네 Credit\\n고마웠던 사람들에게\\n너무 많은 Page\\n네가 나올 때까지 읽었으면 해\\nBaby it’s your birthday\\n괜찮아 오늘은 내가 몰래 낼게\\n네가 말해 전부 다 얼마\\nWe like\\nfast cars fast money\\n시간은 눈 깜짝할 사이\\n빨리 흘러가지\\n어제 자주 듣던 노래 역시\\n내일이 오면 잊혀져\\n내 사진도 흐릿해져 가지\\n많이 했던 고민도 어느덧\\n생각조차 안 나고\\n하나도 거슬리지 않게\\n유지해 핸드폰의 매너 모드\\nCuz I know that\\n나는 조금도\\n특별하지 않아 정말로\\nbut I don't wanna die young\\n바람처럼 왔다 가긴 싫어 절대\\n아무도 날 몰라봤을 때를 난 기억해\\n나는 원해 영원히 남기를\\n너의 기억 속에\\n이 막이 내리고 음악이 흐르면\\n모두 떠나가겠지만 잠시 남아줘\\n짧은 영화라고\\n너는 느낄 수도 있지만\\n스쳐가는 많은 이름 어딘가에\\nI might be in your\\nCredit\\n고마웠던 사람들에게\\n너무 많은 Page\\n네가 나올 때까지 읽었으면 해\\nBaby it’s your birthday\\n괜찮아 오늘은 내가 몰래 낼게\\n네가 말해 전부 다 얼마\\n죽일 듯이 화를 내도\\n내일이면 전부 식어\\n싫어도 뭐 어쩌겠어 이게 나의 직업\\n미소 지어 웃음꽃 담배 피워 죽은 목\\n술을 먹고 분을 토해\\n침대 누워 잠을 청해\\n잠이 안 와 어제 했던\\n멍청했던 실수 덕에\\n음이 나간 내 인생은\\n작곡가의 짐을 더해\\n정리해봐 Credit 오토튠은 우리 가족\\n좋은 노래였었구나\\n이제서야 음이 맞아\\nI might be on your credit\\n참아 왔지 너무 오래\\n아쉬워 눈물이 흘러\\n내린대도 속이 편할지도 몰라\\n검은 화면 속의 Credit\\nI’ll be waiting\\nfor the happy ending\\n올라가는 수많은 이름들 사이\\n난 기도해\\n끝이 아니길\\nI wish I make it till the last day\\nI wish I make it till the last day\\nI wish I make it till the last day\\nI wish I make it till the last\"},\n",
              " {'song_id': '33077589',\n",
              "  'title': '윈윈 (Feat. 개코, BewhY) (Prod. BewhY)',\n",
              "  'arti_id': '2190397',\n",
              "  'arti_name': '허성현 (Huh!)',\n",
              "  'album_id': '10521601',\n",
              "  'album_name': '쇼미더머니 9 Episode 1',\n",
              "  'date': '2020.11.21',\n",
              "  'genre': '랩/힙합',\n",
              "  'like': '29,180',\n",
              "  'comm': '9',\n",
              "  'lyric': \"ready get set huh 떨림은 익숙해져\\n걔네랑 비슷했던\\n이기는 거 말곤 모르던 놈이 변해서\\n지켜내지 patience\\n그게 나라 믿고 살아온지가 벌써\\n스물 넘어가면서 쏟아 전력\\n아빠회사에서 나는 주인공 huh\\n오늘은 내가 아니라 우리여 pilot\\n일당백 우리가 이기면 돼\\n하던대로 win 하고 win 하면 돼\\n지는 건 내 사전엔 없어\\n대체불가능하게 해\\n이 순간을 바래 매일\\nI'm ballin' day tona with steal\\nwe mobbin' 이제야 이뤄내\\nin daily 더 바쁘겠네\\n가뿐하게 finally we made it\\nI'm feeling like n분의 1\\n전혀 아쉽지가않아 그래 하나도\\n지금의 난 내가 날 이기는게\\n먼저인 걸 알아도\\n난 두번다신 안들어갈것만같아\\n지하방 now we here\\n난 두번다신 안들어가\\n지하방 잘봐 이젠 now we win\\n매일 걷는 길에\\n얻은 모든 기회\\n우리 무대 위에\\n가슴은 웅장해지네\\n혼자서는 외로워\\nBut I feel like we go up\\n모두 같이 들어 컵\\n일어서봐\\n그게 윈윈하는거야 윈윈\\n승리 comin’ with me\\n같이 윈윈하는거야 윈윈\\nYeahh Champagne sippin’\\n재료만 던져 우린 최고가\\n그린그림으로 채워가 제목만\\nwin이 아닌 wininng\\n깊이 빌린 시간 되돌리지\\n벤자민 버튼같이 같이\\ntake your time\\n어떤게 나오겠어 내 입에서\\n금같은 존재가 네 앞에 있어\\n불안들은 다와가 쏠게 레이저\\nwe major 아마 때로\\n낫지 않은 흉터에 빛이 안들어도\\n각자 승리가 있지 come thru\\n다른 코너에 몰려도 이뤄\\n한 가지의 완벽한 이 모습\\n자만 아닌 자신감 속도는 가속\\n옛날의 내가 아냐 잠시 봐도\\n우린 준비했어 완전한 반전\\n꼭 받고싶어 만점에 만점\\n모노로 기록해가\\n기억해 난 모든 순간 oo ah\\n마스크를 맨날\\n써서 가려졌지만 이길거야 금방\\n너가 걷는 길이 이미 희미 해졌다고\\n미리 속단 하지마 될게 너의 힘이\\n심의는 내 shimmy shimmy 혀로\\n잘랐으니 우리는 쉽게 이기지\\nwin win ah\\n가오가이 feel like J\\n깨 깨 저 바위한테 우리 바로 보를 내\\n내게 다 얘기해 가오가인 너의 믿을맨\\n서롤 믿을때 시스템이 움직일테니\\n삐긋대다 삐- 걸리지마 리미테이션\\n힘이 들 때 핑계는 지긋해\\n시급이 더 시급할땐\\n알바를 리스펙 huh\\n내 흙수저 니 흙수저 맛이 똑같어\\n떼를 쓰고 때려침 암것도 안 바뀌어\\n나는 이길거야 금수저를 쥘거야\\n결국 호평동을 만들거야 종로3가로\\n이기자 출신 가오가이 군필\\n나는야 진짜 사나이\\n예비역 부심 이길람 따라와\\n내 심장 이따만 하지\\n마스크를 쓰는 우린 짐 캐리\\n서로의 짐을 하드 캐리해\\n마스크를 다시 벗는 그 날\\n얼굴 마주보며 다 웃겠지 헤헤\\n마치 짠듯이 멍청한 척 보란듯이\\n지워내자 사전 속에 자유라는 단어를\\n모두 이기는 싸움이라면 나도 바로\\n떼어낼게 내 이름 앞에 가오를\\n매일 걷는 길에\\n얻은 모든 기회\\n우리 무대 위에\\n가슴은 웅장해지네\\n혼자서는 외로워\\nBut I feel like we go up\\n모두 같이 들어 컵\\n일어서봐\\n그게 윈윈하는거야 윈윈\\n승리 comin’ with me\\n같이 윈윈하는거야 윈윈\\nYeahh Champagne sippin’\\n승리는 sweet\\nwon을 위해서 난 win\\n순간의 유혹은 스킵\\n지금의 고난 가뿐히 버팀\\n윈윈\\n이겨내 내 과거\\n무너뜨려 LIKE 도미노\\n시기는 내 시기를 도륙\\n끝낼 시기지 내 표류\\n승리는 sweet\\n선택은 free\\n행복은 이젠 내 손에\\n이기는 힘을 여태껏 기른\\n시기들은 앨범에 들어있으니\\n여기에서는 나를 펼쳐\\n깃발은 나를 위해 펄럭\\n조금은 두려울 수 있어도\\n마지막을 위해 나의 전부를 던져\\ni feel like daddy\\n아침에 알람 벨이\\n울리면 난 괜히\\n태양이 와있지 않는\\n나의 아침의 잠을 이긴 다음\\n이 밤이 가기전에\\n나 이긴다면 지나간 날의 나를\\n승리는 sweet\\nwon이 되지 내 win\\nbenz 되지 내 whip\\nis gotta be foriegn\\nso call me up\\n밤을 새지 all night long\\n이젠 이겨낼 타이밍\\n매일 걷는 길에\\n얻은 모든 기회\\n우리 무대 위에\\n가슴은 웅장해지네\\n혼자서는 외로워\\nBut I feel like we go up\\n모두 같이 들어 컵\\n일어서봐\\n그게 윈윈하는거야 윈윈\\n승리 comin’ with me\\n같이 윈윈하는거야 윈윈\\nYeahh Champagne sippin’\"},\n",
              " {'song_id': '33150993',\n",
              "  'title': 'ON AIR (Feat. 로꼬, 박재범 & GRAY)',\n",
              "  'arti_id': '623251',\n",
              "  'arti_name': '릴보이 (lIlBOI)',\n",
              "  'album_id': '10536658',\n",
              "  'album_name': '쇼미더머니 9 Final',\n",
              "  'date': '2020.12.19',\n",
              "  'genre': '랩/힙합',\n",
              "  'like': '40,990',\n",
              "  'comm': '5',\n",
              "  'lyric': \"woh I'm on air\\n구름 위 걸어 다녀 매일\\nhunnit dolla bills in my pocket\\n허나 발걸음만은 가볍게\\n5년 전과는 다른 위치\\n다른 state of mind\\n잃을 게 많아 보이긴 하지만\\n사실 i don't care\\naye say hello to my little\\nfriend like woh\\n시간이 지나도 I'm on it on it\\n굴린 적 없지 내 잔머린 머리\\n꽤 오래 자리를 비웠었지만\\n너도 알잖아 나의 랩은 iconic\\n그레이 형의 BEAT\\n이건 family business\\n불을 더 지피지 we gotta keep it real\\n다시 뭉쳤지 Team AOMG\\n커져버린 덩치 think this is the one\\n어느새 여기까지 이제야 보여 멀리까지\\n정확히 기억하지\\n끝나고 집에 돌아가던 날이\\n오늘은 점을 찍고\\n제대로 돌아가려 하지\\nsame team same squad\\nbut different day\\n바뀐 게 있다면 직접 보길 원해\\n새로운 역사를 난 이뤄내지\\nso come see me live now\\nWe on air\\nYou're bout to watch me dance\\n올라가지 We go way up\\n구름 위에서 난 헤엄\\n시간이 들었지만\\n어차피 우승은 내 말마따나 음\\n위험해 위험해 생방\\n불구덩이 내 자리 맡아놔\\n5년 전에 그린 TV 속의 팀\\n돌아왔다 각 풀어진 채로\\n막 수경으로 만기\\n다시 I can be your party band\\nIn everywhere 난 groovy\\n아직도 걔네들은 멍청하더라\\n꼭 이래 보여줘야 불식\\n재빨리 사격 중지 괜찮아\\n맘 편하게 먹어 지긋이\\nAOMG 박재범이\\n아직까지도 의리로 대하듯이\\n나의 수입 I don’t know I don’t know\\n이제서야 다음 단계로 건강 걱정\\n눈에 들어오지도 않는 마름모\\n가벼움이 목적이 됐지\\n산뜻하게 머리카락 한 번 더 자르고\\n다시 또 쇼미더머니\\n릴보이 전화 한 통에\\n빨간 불빛 켜지면서\\nLet's go\\nWe on air\\nYou're bout to watch me dance\\n올라가지 We go way up\\n구름 위에서 난 헤엄\\nI’m on air\\n니네가 탑 클라스면 I’m God Tier\\n2010년부터 매해 It’s my year\\nclassic like Illmatic like I’m Nasir\\n아옴그 하이어 없이 못 돌아가는 건 쇼미\\n난 그 두 레이블의 CEO지\\n완벽한 story\\n혁우가 날 보고 의리를 배웠지\\n그게 큰형님\\n여전히 yeah I’m still\\non that boss shit huh\\n하이어 컴필 들어봐 mob shit huh\\n밑바닥 허슬 존나 빡세 huh\\n뭐든 처리해 알아 쨔샤 huh\\n미래 회장님 난 entrepreneur\\n원 소주 내년 출시 예정 pour up\\n떠날 때 경례를 보내 no hatin\\n전설이 돼가 나는 노란 Jay-Z\\nJay-Z never change\\nGrind grind on the daily\\n몇십억을 거절해 그게 FLEX\\n나의 그림 계속 커가\\n성공이 나의 개인기\\nEntertainment & Sports Worldwide\\n누가 우리를 제대로 대표해\\ndoin' that part\\nlet me tell you\\nBTS 봉준호 손흥민 Jay Park\\nLet's go\\nyeah walkin' on air\\n구름 위를 걷는 기분\\ngoin' up already there\\nyeah focus on me\\n모든 카메라가 나를 향하네\\noh where they at\\nmagic carpet ride\\n멀리 날아가\\nhocus pocus now\\nyeah yeah yeah yeah\\n현실에 부딪혀도\\n꿈이 있었기에 가능\\nwhen i was a little boy\\n인생은 짧지만 예술은 길어\\n오늘 밤에 모든 기를 부어\\nZion.T와 기리보이\\n아옴그와 릴보이\\nJay Park GRAY 로꼬\\n우승은 릴보이\\n승리의 세리머니\\n손가락 반지에 뽀뽀\\nWe on air\\nYou're bout to watch me dance\\n올라가지 We go way up\\n구름 위에서 난 헤엄\\nWe on air\\nYou're bout to watch me dance\\n올라가지 We go way up\\n구름 위에서 난 헤엄\"},\n",
              " {'song_id': '33139117',\n",
              "  'title': 'What Do I Call You',\n",
              "  'arti_id': '236797',\n",
              "  'arti_name': '태연 (TAEYEON)',\n",
              "  'album_id': '10534079',\n",
              "  'album_name': 'What Do I Call You - The 4th Mini Album',\n",
              "  'date': '2020.12.15',\n",
              "  'genre': 'R&B/Soul',\n",
              "  'like': '68,667',\n",
              "  'comm': '1',\n",
              "  'lyric': 'Hello 넌 stranger\\n남은 건 별로 없어\\nmemories, memories, memories\\n안녕이라 했는데\\n왜 넌 내 옆에 있어\\n그대로 그대로 그대로\\n\\n어색했던 공기에\\n웃음이 났어 왜\\n너무 가까웠던\\n내 것이었던\\nmy honey\\nmy daisy\\n\\nWhat do I call you\\n남이잖아\\n별일 없던 척\\n말을 거나\\n그렇게 꼭 껴안았는데\\nSo what do I call you now\\n\\nWhat do I call you\\n이럴 때엔\\n이름이 역시\\n무난할까\\n내 연인이었던\\nmy honey\\nmy daisy\\nmy only\\nSo what do I call you now\\n\\n복잡한 밤이야\\n기대 반 장난 너를\\n불러내 불러내 불러내\\n날 데리러 온 네게 기대\\n생각해 궁금해\\n적당한 거리란 건 뭘까\\n\\nCause this isn’t natural\\n널 매일 보는 걸\\n이젠 아는 사람\\n내 것이었던\\nmy honey\\nmy daisy\\n\\nWhat do I call you\\n남이잖아\\n별일 없던 척\\n말을 거나\\n그렇게 꼭 껴안았는데\\nSo what do I call you now\\n\\nWhat do I call you\\n이럴 때엔\\n이름이 역시\\n무난할까\\n내 연인이었던\\nmy honey\\nmy daisy\\nmy only\\nSo what do I call you now\\n\\n모든 게 달라졌는데\\n편하진 않은데\\n넌 내 옆에 있고\\n이제는 널 뭐라 부를까\\nmy baby\\nmy honey\\nmy daisy\\nmy only\\n\\nDa da da da da da da da\\nDa da da da da da da da\\nDa da da da da da da da\\n\\nSo what do I call you now\\n\\nDa da da da da da da da\\nDa da da da da da da da\\nDa da da da da da da da\\n\\nSo what do I call you now\\n\\nWhat do I call you\\n남이잖아\\n이름이 역시\\n무난할까\\n그렇게 꼭 껴안았는데\\nSo what do I call you now'},\n",
              " {'song_id': '33120545',\n",
              "  'title': 'Panorama',\n",
              "  'arti_id': '2398653',\n",
              "  'arti_name': 'IZ*ONE (아이즈원)',\n",
              "  'album_id': '10530160',\n",
              "  'album_name': 'One-reeler / Act IV',\n",
              "  'date': '2020.12.07',\n",
              "  'genre': '댄스',\n",
              "  'like': '66,167',\n",
              "  'comm': '2',\n",
              "  'lyric': \"Shoot! Take a Panorama\\n\\n바람 끝에 찾아온 작은 기억\\n귓가에 퍼지는 깊은 울림 Ring my bell\\n아름다운 내 맘을 한가득 담아서\\n조금씩 은은히 줄거야\\n\\n너와 나 손끝이 닿을 때 Eyes on me\\n내 맘이 들린다면 더 크게 외쳐줘\\n조용히 시작된 한편의 Drama야\\n간직했던 조각들을 펼쳐\\n\\n다시 한번 지나가는 그때 계절의 풍경\\n못다 한 우리 이야기\\n꿈일까 싶어 멈추지 않게\\n두 눈을 감고 느껴봐 이 순간\\nShoot! Take a Panorama\\n\\n깊은 어둠 속 빛나는 별처럼\\n우린 어디서든 서로 알아볼 수 있어\\n눈부신 Spotlight 너와 나 그 맘 속에\\n영원히 피어날 찬란한 이 순간\\nLike Like a Panorama\\n\\n끝도 없이 두근대\\n내 맘 변하지 않아 지금 같이 가자\\n너에게만 보여줄게 끝도 없는 Fantasia\\n내 맘 휘 휘감아 Panorama\\n\\n기억의 문을 열어 저 푸른 언덕 위에\\n무지개 집으로 초대할게 밤에는 Campfire\\n아쉬움 남지 않게 내게 전부 보여줘\\n빛으로 물든 지금 영원해\\n\\n너의 꿈에 데려가 줘 Take on me\\n작은 숨결 하나하나 놓치기 싫은 걸\\n다 담아 둘 거야 너무나 특별해서\\n네 눈 속에 반짝이는 Starlight\\n\\n다시 한번 지나가는 그때 계절의 풍경\\n못다 한 우리 이야기\\n꿈일까 싶어 멈추지 않게\\n두 눈을 감고 느껴봐 이 순간\\nShoot! Take a Panorama\\n\\n깊은 어둠 속 빛나는 별처럼\\n우린 어디서든 서로 알아볼 수 있어\\n눈부신 Spotlight 너와 나 그 맘 속에\\n영원히 피어날 찬란한 이 순간\\nLike Like a Panorama\\n\\n끝도 없이 두근대\\n내 맘 변하지 않아 지금 같이 가자\\n너에게만 보여줄게 끝도 없는 Fantasia\\n내 맘 휘 휘감아 Panorama\\n\\n바라봐 줘 언제나 언제나 하나 될 우리\\n처음 만난 그 순간처럼 가슴이 두근대\\n우린 끝없이 연결돼 있는 걸\\n이제 같이 날아가\\n\\n깊은 어둠 속 빛나는 별처럼\\n우린 어디서든 서로 알아볼 수 있어\\n눈부신 Spotlight 너와 나 그 맘 속에\\n영원히 피어날 찬란한 이 순간\\nLike Like a Panorama\\n\\n하늘 넘어 날아가\\n온 세상에 이 목소리 퍼지게\\n찰나의 순간 떠올라 다 보여줄 거야\\n영원히 기억해 약속\\nDon't let me down Down Down\"},\n",
              " {'song_id': '33077238',\n",
              "  'title': '잠시',\n",
              "  'arti_id': '672375',\n",
              "  'arti_name': '방탄소년단',\n",
              "  'album_id': '10521521',\n",
              "  'album_name': 'BE',\n",
              "  'date': '2020.11.20',\n",
              "  'genre': '랩/힙합',\n",
              "  'like': '101,807',\n",
              "  'comm': '1',\n",
              "  'lyric': '매번 같은 하루들 중에\\n너를 만날 때 가장 난 행복해\\n매번 다른 일상들 속에\\n너란 사람은 내게 가장 특별해\\n\\n별일은 없지\\n아픈 곳은 없겠지\\n난 요즘에 글쎄\\n붕 떠 버린 것 같아\\n많은 시간 덕에\\n이런 노랠 쓰네\\n이건 너를 위한 노래\\nYeah 노래 yeah 노래\\n\\n자 떠나자 푸른 바다로\\n우리가 함께 뛰어놀던 저 푸른 바다로\\n괜한 걱정들은 잠시\\n내려놓은 채로 잠시\\n우리끼리 즐겨보자 함께 추억하는\\n푸른 바다 한가운데 작은 섬\\n\\n비록 지금은 멀어졌어도\\n우리 마음만은 똑같잖아\\n내 곁에 네가 없어도 yeah\\n네 곁에 내가 없어도 yeah\\n우린 함께인 걸 다 알잖아\\n\\n매번 같은 하루들 중에\\n너를 만날 때 가장 난 행복해\\n매번 다른 일상들 속에\\n너란 사람은 내게 가장 특별해\\n\\n아침 들풀처럼 일어나\\n거울처럼 난 너를 확인\\n눈꼽 대신 너만 묻었다 잔뜩\\n또 무겁다 멍 많은 무르팍이\\n거릴 거닐며 생각해 이 별이\\n허락해 주는 우리의 거리\\nOh can I be your Bibilly Hills\\nLike you did the same to me\\n(Baby)\\n\\n너무 빠른 건 조금 위험해\\n너무 느린 건 조금 지루해\\n너무 빠르지도 않게\\n또는 느리지도 않게\\n우리의 속도에 맞춰 가보자고\\n이건 꽤나 긴 즐거운 롤러코스터\\n\\n비록 지금은 멀어졌어도\\n우리 마음만은 똑같잖아\\n내 곁에 네가 없어도 yeah\\n네 곁에 내가 없어도 yeah\\n우린 함께인 걸 다 알잖아\\n\\n매번 같은 하루들 중에\\n너를 만날 때 가장 난 행복해\\n매번 다른 일상들 속에\\n너란 사람은 내게 가장 특별해'},\n",
              " {'song_id': '33129712',\n",
              "  'title': '잘할게',\n",
              "  'arti_id': '58793',\n",
              "  'arti_name': '이승기',\n",
              "  'album_id': '10532045',\n",
              "  'album_name': 'The Project',\n",
              "  'date': '2020.12.10',\n",
              "  'genre': '발라드',\n",
              "  'like': '28,417',\n",
              "  'comm': '2',\n",
              "  'lyric': '우우우우 우우우우우\\n우우우우 그게 잘 안돼 그게 잘 안돼\\n우우우우 우우우우우\\n우우우우 내게 돌아와 oh babe\\n술 취해 전화하면 안 되는 걸\\n알면서도 잘 안돼\\n이젠 널 놓아줘야 한다는 걸\\n알면서도 잘 안돼\\n울지 말아야지 말아야지\\n하면서도 잘 안돼\\n그게 잘 안돼 다시 돌아와 줘\\n잘 할게 oh babe\\n저녁 8시 집으로 가는 길\\n또 마음이 흔들려 가끔씩\\n지난 시간에 울컥해\\n혼자 술 한 잔에 또 취해\\n누구 없나요 내 얘기 들어줄\\n너무 겁나요 너 없이 모든 게\\n아무리 소리쳐 불러봐도\\n그댄 대답조차 없지만\\n말할 걸 말해줄걸\\n그댈 많이 사랑하고 있다는 걸\\n안개로 가득 찬 이 아침에\\n안을래 너를 품에 더 잘해줄게\\n술 취해 전화하면 안 되는 걸\\n알면서도 잘 안돼\\n이젠 널 놓아줘야 한다는 걸\\n알면서도 잘 안돼\\n울지 말아야지 말아야지\\n하면서도 잘 안돼\\n그게 잘 안돼 다시 돌아와 줘\\n잘 할게 oh babe\\n말할 걸 말해줄걸\\n그댈 많이 사랑하고 있다는 걸\\n안개로 가득 찬 이 아침에\\n안을래 너를 품에 더 잘해줄게\\n술 취해 전화하면 안 되는 걸\\n알면서도 잘 안돼 잘 안돼\\n이젠 널 놓아줘야 한다는 걸\\n알면서도 잘 안돼 후회가 돼\\n울지 말아야지 말아야지\\n하면서도 잘 안돼\\n그게 잘 안돼 다시 돌아와 줘\\n잘할게 oh babe\\n우우우우 우우우우우\\n우우우우 그게 잘 안돼 그게 잘 안돼\\n우우우우 우우우우우\\n우우우우 내게 돌아와 oh babe'},\n",
              " {'song_id': '33077240',\n",
              "  'title': 'Stay',\n",
              "  'arti_id': '672375',\n",
              "  'arti_name': '방탄소년단',\n",
              "  'album_id': '10521521',\n",
              "  'album_name': 'BE',\n",
              "  'date': '2020.11.20',\n",
              "  'genre': '댄스',\n",
              "  'like': '92,229',\n",
              "  'comm': '1',\n",
              "  'lyric': '꿈이었을까\\n널 본 것 같아\\n눈뜨면 다시\\n아무도 없는 방\\n\\n가만히 난 주문을 걸어\\n그 어느 때보다 크게 뛰는 heart\\n이 순간 우리 언제라도 어디 있대도\\nTogether, wherever yeah\\n(Wherever yeah)\\n\\n반복도 복인 것 같아\\n나도 모르겠어 나의 속을\\n널 볼 순 없을까\\n가만히 모아보네 두 손을\\n변하지 않는 내일\\n미친놈처럼 I keep sayin’\\nWherever you are\\nI know you always stay\\n\\n저 구름이 지나간 자리에\\nStay\\n마른 입술로 너에게 말해\\nStay, stay, stay, stay...\\n(Always)\\n\\nYeah I know you always stay\\nYeah I know you always stay\\nYeah I know you always stay\\n\\n찬란한 오늘의\\n그 모두를 위해\\nOh every night and day\\nYeah I know you always stay\\n\\n바로 지금 난 널 생각해\\n니가 어디에 있던지\\n그게 뭐가 중요해\\nWe connect to 7G\\nIt ain’t the end of the world\\nThe present, it shine like a pearl\\n이건 몇 파동에 불과\\n하지만 내가 널 바꿔놓을 거야\\n\\n가만히 난 주문을 걸어\\n그 어느 때보다 밝게 보이는 star\\n이 순간 우린 언제라도 어디 있대도\\nWherever you are\\nI know you always stay\\n\\n저 바람이 지나간 바다에\\nStay\\n굳은 입술로 네게 말을 해\\nStay, stay, stay, stay...\\n(Always)\\n\\nYeah I know you always stay\\nYeah I know you always stay\\nYeah I know you always stay\\n\\n찬란한 오늘의\\n그 모두를 위해\\nOh every night and day\\nYeah I know you always stay\\n\\n찬바람이 불어와\\n손 내밀어 네 숨결을 느껴\\n눈 감은 어느새\\n우린 함께인 걸'},\n",
              " {'song_id': '33077239',\n",
              "  'title': '병',\n",
              "  'arti_id': '672375',\n",
              "  'arti_name': '방탄소년단',\n",
              "  'album_id': '10521521',\n",
              "  'album_name': 'BE',\n",
              "  'date': '2020.11.20',\n",
              "  'genre': '랩/힙합',\n",
              "  'like': '93,037',\n",
              "  'comm': '1',\n",
              "  'lyric': '뭔가 놓친듯해\\n커피 한 모금으로 불안함을 해소\\nAn endless rest\\n내게 갑자기 다가온 불편한 행복\\n24 hours 시간 참 많아\\n하루 종일 잠자도 지금은 no problem\\n몸 부서져라 뭘 해야 할 거 같은데\\n마냥 삼시 세끼 다 먹는 나란 새끼\\n내 죄, 쉬는 내 자신을 물어뜯는 개\\nDon’t do that 외쳐봐도 성과에 목매 매일\\nErrday do ma thang, damn if I fail\\n계속 으르렁대 썩은 동아줄을 tap\\n불안전해 이건 병\\n물리적인 건 직업이 주는 stun!\\n\\nMaybe\\n내가 아파서 그래\\n생각이 많은 탓\\nI hate that\\n단순하지 못한 치기 어린 나\\n나도 참 어려 몸만 어른\\n절뚝거려 인생 걸음\\nOne for the laugh, two for the show\\nJust like I’m so fine\\n\\nEveryday 나를 위로해\\n다 똑같은 사람이야 ain’t so special\\nAy man keep one, two step\\n차분하게 모두 치료해보자고\\n나의 병\\n벼벼벼벼병\\n버려 겁\\n거거거거겁\\n\\n마음에도 방학이 필요해\\n아 그냥 일은 일로 해\\nI’m ill, 그래 내가 일 그 자체\\n쉼이란 친구 oh I never liked him\\n얼마를 벌어야 행복하겠니?\\n이 유리 같은 병이 때리지 니 머리\\n병든 게 세상인지 난지 헷갈려\\n안경을 벗어도 어둠은 안 흐릿해져\\n이 시간 뒤에 어떤 라벨이 붙건\\n부디 그게 전부 너길 바래\\n너의 너, 너\\n\\n다들 병들이 많아 내가 헷갈리는 건\\n인간이란 본디 추악함을 가진다는 것\\n마음의 병의 가짓수들만 400개가 더\\n되는데 해당 안 되는 자 거 별로 없단 것\\nYo 병든 게 세상인지 나인지\\n단순히 바라보는 해석들의 차인지\\n그게 다인지\\nI don’t know 누군가를 바꿔보는 것\\n그것보다 빠른 것은 내가 변화하는 것\\n\\nMaybe\\n내가 아파서 그래\\n생각이 많은 탓\\nI hate that\\n단순하지 못한 치기 어린 나\\n나도 참 어려 몸만 어른\\n절뚝거려 인생 걸음\\nOne for the laugh, two for the show\\nJust like I’m so fine\\n\\nEveryday 나를 위로해\\n다 똑같은 사람이야 ain’t so special\\nAy man keep one, two step\\n차분하게 모두 치료해보자고\\n나의 병\\n벼벼벼벼병\\n버려 겁\\n거거거거겁\\n\\n(Sick & tired)\\nBut I don’t wanna mess up\\nCause life goes on\\n(Through the fire)\\n걸어갈게 더 나답게 woah\\n(Walk it, walk it, walk it)\\n밤이 되면 내 두 눈 감고서\\n(Walk it, walk it, walk it)\\n내가 알던 날 다시 믿을래\\n\\n자 일어나 one more time\\n다시 아침이야 오늘을 나야 해\\n가보자고 one more night\\n이 끝에 뭐가 있을지 몰라 ayy\\n영원한 밤은 없어\\n난 강해졌어\\n불꽃이 터져\\nI will never fade away\\n\\nEveryday 나를 위로해\\n다 똑같은 사람이야 ain’t so special\\nAy man keep one, two step\\n차분하게 모두 치료해 보자고\\n나의 병\\n벼벼벼벼벼 병\\n버려 겁\\n거거거거거 겁\\n버려 겁겁겁 버려'},\n",
              " {'song_id': '33107649',\n",
              "  'title': '그날에 나는 맘이 편했을까',\n",
              "  'arti_id': '718655',\n",
              "  'arti_name': '이예준',\n",
              "  'album_id': '10527955',\n",
              "  'album_name': '그날에 나는 맘이 편했을까',\n",
              "  'date': '2020.12.03',\n",
              "  'genre': '발라드',\n",
              "  'like': '49,956',\n",
              "  'comm': '1',\n",
              "  'lyric': '늘 똑같은 일로 싸우다 지친 우리\\n끝날 때 됐나 봐\\n너답지 않던 모습 더는\\n지켜보기 힘들었어\\n다시 주워 담기 힘든 말들\\n쏟아내고 집에 돌아왔어\\n그날에 나는 맘이 편했을까\\n다신 안 보겠단 각오로\\n니가 못한 숙제 한 거잖아\\n나는 사랑이 필요해\\n이만큼 아프면 충분해\\n니가 핀 담배만큼 난 울었어\\n니가 가장 듣기 싫어했던\\n얘기들만 뱉어내고 왔어\\n그날에 나는 맘이 편했을까\\n다신 안 보겠단 각오로\\n니가 못한 숙제 한 거잖아\\n나는 사랑이 필요해\\n이만큼 아프면 충분해\\n니가 핀 담배만큼 난 울었어\\n상처받았다고 말하지 말아줘\\n나를 더욱더 사랑해줬더라면\\n아니 처음부터 만나지 말았다면\\n행복했을까\\n정말 널 미워해서 이랬을까\\n이렇게까지 해서라도\\n우릴 되돌리고 싶었는데\\n나를 떠나는 이유가\\n너는 필요했던 거니까\\n내가 그 이유를 만들어줄게\\n미안한 마음들 갖지 않도록'}]"
            ]
          },
          "metadata": {},
          "execution_count": 33
        }
      ]
    },
    {
      "cell_type": "code",
      "metadata": {
        "id": "5q2hdoI_7l9G",
        "outputId": "a97496df-b842-4e45-e1c8-00310c652f60"
      },
      "source": [
        "df_song = pd.DataFrame(row_list)\n",
        "df_song"
      ],
      "execution_count": null,
      "outputs": [
        {
          "output_type": "execute_result",
          "data": {
            "text/plain": [
              "      song_id                                   title arti_id  \\\n",
              "0    32224272                                  METEOR  774900   \n",
              "1    32313543                                    아무노래  602056   \n",
              "2    32273582                                  Psycho  780066   \n",
              "3    32183386                                Blueming  261143   \n",
              "4    32228058  아마두 (feat.우원재, 김효은, 넉살, Huckleberry P)  202530   \n",
              "..        ...                                     ...     ...   \n",
              "308  33077238                                      잠시  672375   \n",
              "309  33129712                                     잘할게   58793   \n",
              "310  33077240                                    Stay  672375   \n",
              "311  33077239                                       병  672375   \n",
              "312  33107649                          그날에 나는 맘이 편했을까  718655   \n",
              "\n",
              "             arti_name  album_id                  album_name        date  \\\n",
              "0         창모 (CHANGMO)  10359162                     Boyhood  2019.11.29   \n",
              "1            지코 (ZICO)  10375118                        아무노래  2020.01.13   \n",
              "2    Red Velvet (레드벨벳)  10368053  ‘The ReVe Festival’ Finale  2019.12.23   \n",
              "3                  아이유  10346650                   Love poem  2019.11.18   \n",
              "4                   염따  10359994     Dingo X DAMOIM (Part 2)  2019.12.03   \n",
              "..                 ...       ...                         ...         ...   \n",
              "308              방탄소년단  10521521                          BE  2020.11.20   \n",
              "309                이승기  10532045                 The Project  2020.12.10   \n",
              "310              방탄소년단  10521521                          BE  2020.11.20   \n",
              "311              방탄소년단  10521521                          BE  2020.11.20   \n",
              "312                이예준  10527955              그날에 나는 맘이 편했을까  2020.12.03   \n",
              "\n",
              "    genre     like comm                                              lyric  \n",
              "0    랩/힙합  261,343    5  Yeah ha\\nYeah ha\\nYeah ha\\nYeah ha\\nYeah ha\\nY...  \n",
              "1    랩/힙합  256,285    3  왜들 그리 다운돼있어\\n뭐가 문제야 say something\\n분위기가 겁나 싸해\\...  \n",
              "2      댄스  213,754    6  Psycho\\n\\n널 어쩌면 좋을까\\n이런 맘은 또 첨이라\\nUp & Down이 좀...  \n",
              "3    록/메탈  307,057    2  ‘뭐해?‘라는 두 글자에\\n‘네가 보고 싶어’ 나의 속마음을 담아 우\\n이모티콘 하...  \n",
              "4    랩/힙합  155,752    3  어 그래 얘들아\\n사는게 개같지\\n내 얼굴도 개같지 뭐얌\\n근데도 부자가 됐다\\n세...  \n",
              "..    ...      ...  ...                                                ...  \n",
              "308  랩/힙합  101,807    1  매번 같은 하루들 중에\\n너를 만날 때 가장 난 행복해\\n매번 다른 일상들 속에\\n...  \n",
              "309   발라드   28,417    2  우우우우 우우우우우\\n우우우우 그게 잘 안돼 그게 잘 안돼\\n우우우우 우우우우우\\n...  \n",
              "310    댄스   92,229    1  꿈이었을까\\n널 본 것 같아\\n눈뜨면 다시\\n아무도 없는 방\\n\\n가만히 난 주문을...  \n",
              "311  랩/힙합   93,037    1  뭔가 놓친듯해\\n커피 한 모금으로 불안함을 해소\\nAn endless rest\\n내...  \n",
              "312   발라드   49,956    1  늘 똑같은 일로 싸우다 지친 우리\\n끝날 때 됐나 봐\\n너답지 않던 모습 더는\\n지...  \n",
              "\n",
              "[313 rows x 11 columns]"
            ],
            "text/html": "<div>\n<style scoped>\n    .dataframe tbody tr th:only-of-type {\n        vertical-align: middle;\n    }\n\n    .dataframe tbody tr th {\n        vertical-align: top;\n    }\n\n    .dataframe thead th {\n        text-align: right;\n    }\n</style>\n<table border=\"1\" class=\"dataframe\">\n  <thead>\n    <tr style=\"text-align: right;\">\n      <th></th>\n      <th>song_id</th>\n      <th>title</th>\n      <th>arti_id</th>\n      <th>arti_name</th>\n      <th>album_id</th>\n      <th>album_name</th>\n      <th>date</th>\n      <th>genre</th>\n      <th>like</th>\n      <th>comm</th>\n      <th>lyric</th>\n    </tr>\n  </thead>\n  <tbody>\n    <tr>\n      <th>0</th>\n      <td>32224272</td>\n      <td>METEOR</td>\n      <td>774900</td>\n      <td>창모 (CHANGMO)</td>\n      <td>10359162</td>\n      <td>Boyhood</td>\n      <td>2019.11.29</td>\n      <td>랩/힙합</td>\n      <td>261,343</td>\n      <td>5</td>\n      <td>Yeah ha\\nYeah ha\\nYeah ha\\nYeah ha\\nYeah ha\\nY...</td>\n    </tr>\n    <tr>\n      <th>1</th>\n      <td>32313543</td>\n      <td>아무노래</td>\n      <td>602056</td>\n      <td>지코 (ZICO)</td>\n      <td>10375118</td>\n      <td>아무노래</td>\n      <td>2020.01.13</td>\n      <td>랩/힙합</td>\n      <td>256,285</td>\n      <td>3</td>\n      <td>왜들 그리 다운돼있어\\n뭐가 문제야 say something\\n분위기가 겁나 싸해\\...</td>\n    </tr>\n    <tr>\n      <th>2</th>\n      <td>32273582</td>\n      <td>Psycho</td>\n      <td>780066</td>\n      <td>Red Velvet (레드벨벳)</td>\n      <td>10368053</td>\n      <td>‘The ReVe Festival’ Finale</td>\n      <td>2019.12.23</td>\n      <td>댄스</td>\n      <td>213,754</td>\n      <td>6</td>\n      <td>Psycho\\n\\n널 어쩌면 좋을까\\n이런 맘은 또 첨이라\\nUp &amp; Down이 좀...</td>\n    </tr>\n    <tr>\n      <th>3</th>\n      <td>32183386</td>\n      <td>Blueming</td>\n      <td>261143</td>\n      <td>아이유</td>\n      <td>10346650</td>\n      <td>Love poem</td>\n      <td>2019.11.18</td>\n      <td>록/메탈</td>\n      <td>307,057</td>\n      <td>2</td>\n      <td>‘뭐해?‘라는 두 글자에\\n‘네가 보고 싶어’ 나의 속마음을 담아 우\\n이모티콘 하...</td>\n    </tr>\n    <tr>\n      <th>4</th>\n      <td>32228058</td>\n      <td>아마두 (feat.우원재, 김효은, 넉살, Huckleberry P)</td>\n      <td>202530</td>\n      <td>염따</td>\n      <td>10359994</td>\n      <td>Dingo X DAMOIM (Part 2)</td>\n      <td>2019.12.03</td>\n      <td>랩/힙합</td>\n      <td>155,752</td>\n      <td>3</td>\n      <td>어 그래 얘들아\\n사는게 개같지\\n내 얼굴도 개같지 뭐얌\\n근데도 부자가 됐다\\n세...</td>\n    </tr>\n    <tr>\n      <th>...</th>\n      <td>...</td>\n      <td>...</td>\n      <td>...</td>\n      <td>...</td>\n      <td>...</td>\n      <td>...</td>\n      <td>...</td>\n      <td>...</td>\n      <td>...</td>\n      <td>...</td>\n      <td>...</td>\n    </tr>\n    <tr>\n      <th>308</th>\n      <td>33077238</td>\n      <td>잠시</td>\n      <td>672375</td>\n      <td>방탄소년단</td>\n      <td>10521521</td>\n      <td>BE</td>\n      <td>2020.11.20</td>\n      <td>랩/힙합</td>\n      <td>101,807</td>\n      <td>1</td>\n      <td>매번 같은 하루들 중에\\n너를 만날 때 가장 난 행복해\\n매번 다른 일상들 속에\\n...</td>\n    </tr>\n    <tr>\n      <th>309</th>\n      <td>33129712</td>\n      <td>잘할게</td>\n      <td>58793</td>\n      <td>이승기</td>\n      <td>10532045</td>\n      <td>The Project</td>\n      <td>2020.12.10</td>\n      <td>발라드</td>\n      <td>28,417</td>\n      <td>2</td>\n      <td>우우우우 우우우우우\\n우우우우 그게 잘 안돼 그게 잘 안돼\\n우우우우 우우우우우\\n...</td>\n    </tr>\n    <tr>\n      <th>310</th>\n      <td>33077240</td>\n      <td>Stay</td>\n      <td>672375</td>\n      <td>방탄소년단</td>\n      <td>10521521</td>\n      <td>BE</td>\n      <td>2020.11.20</td>\n      <td>댄스</td>\n      <td>92,229</td>\n      <td>1</td>\n      <td>꿈이었을까\\n널 본 것 같아\\n눈뜨면 다시\\n아무도 없는 방\\n\\n가만히 난 주문을...</td>\n    </tr>\n    <tr>\n      <th>311</th>\n      <td>33077239</td>\n      <td>병</td>\n      <td>672375</td>\n      <td>방탄소년단</td>\n      <td>10521521</td>\n      <td>BE</td>\n      <td>2020.11.20</td>\n      <td>랩/힙합</td>\n      <td>93,037</td>\n      <td>1</td>\n      <td>뭔가 놓친듯해\\n커피 한 모금으로 불안함을 해소\\nAn endless rest\\n내...</td>\n    </tr>\n    <tr>\n      <th>312</th>\n      <td>33107649</td>\n      <td>그날에 나는 맘이 편했을까</td>\n      <td>718655</td>\n      <td>이예준</td>\n      <td>10527955</td>\n      <td>그날에 나는 맘이 편했을까</td>\n      <td>2020.12.03</td>\n      <td>발라드</td>\n      <td>49,956</td>\n      <td>1</td>\n      <td>늘 똑같은 일로 싸우다 지친 우리\\n끝날 때 됐나 봐\\n너답지 않던 모습 더는\\n지...</td>\n    </tr>\n  </tbody>\n</table>\n<p>313 rows × 11 columns</p>\n</div>"
          },
          "metadata": {},
          "execution_count": 34
        }
      ]
    },
    {
      "cell_type": "code",
      "metadata": {
        "id": "NqlV1dF57l9G",
        "outputId": "0fd65956-01be-48ea-a043-6935666fa8df"
      },
      "source": [
        "df_song['like'] = df_song['like'].str.replace(',','').astype(int)\n",
        "df_song['comm'] = df_song['comm'].str.replace(',','').astype(int)"
      ],
      "execution_count": null,
      "outputs": [
        {
          "output_type": "error",
          "ename": "AttributeError",
          "evalue": "Can only use .str accessor with string values!",
          "traceback": [
            "\u001b[0;31m---------------------------------------------------------------------------\u001b[0m",
            "\u001b[0;31mAttributeError\u001b[0m                            Traceback (most recent call last)",
            "\u001b[0;32m<ipython-input-36-d569f2e4ca37>\u001b[0m in \u001b[0;36m<module>\u001b[0;34m\u001b[0m\n\u001b[0;32m----> 1\u001b[0;31m \u001b[0mdf_song\u001b[0m\u001b[0;34m[\u001b[0m\u001b[0;34m'like'\u001b[0m\u001b[0;34m]\u001b[0m \u001b[0;34m=\u001b[0m \u001b[0mdf_song\u001b[0m\u001b[0;34m[\u001b[0m\u001b[0;34m'like'\u001b[0m\u001b[0;34m]\u001b[0m\u001b[0;34m.\u001b[0m\u001b[0mstr\u001b[0m\u001b[0;34m.\u001b[0m\u001b[0mreplace\u001b[0m\u001b[0;34m(\u001b[0m\u001b[0;34m','\u001b[0m\u001b[0;34m,\u001b[0m\u001b[0;34m''\u001b[0m\u001b[0;34m)\u001b[0m\u001b[0;34m.\u001b[0m\u001b[0mastype\u001b[0m\u001b[0;34m(\u001b[0m\u001b[0mint\u001b[0m\u001b[0;34m)\u001b[0m\u001b[0;34m\u001b[0m\u001b[0;34m\u001b[0m\u001b[0m\n\u001b[0m\u001b[1;32m      2\u001b[0m \u001b[0mdf_song\u001b[0m\u001b[0;34m[\u001b[0m\u001b[0;34m'comm'\u001b[0m\u001b[0;34m]\u001b[0m \u001b[0;34m=\u001b[0m \u001b[0mdf_song\u001b[0m\u001b[0;34m[\u001b[0m\u001b[0;34m'comm'\u001b[0m\u001b[0;34m]\u001b[0m\u001b[0;34m.\u001b[0m\u001b[0mstr\u001b[0m\u001b[0;34m.\u001b[0m\u001b[0mreplace\u001b[0m\u001b[0;34m(\u001b[0m\u001b[0;34m','\u001b[0m\u001b[0;34m,\u001b[0m\u001b[0;34m''\u001b[0m\u001b[0;34m)\u001b[0m\u001b[0;34m.\u001b[0m\u001b[0mastype\u001b[0m\u001b[0;34m(\u001b[0m\u001b[0mint\u001b[0m\u001b[0;34m)\u001b[0m\u001b[0;34m\u001b[0m\u001b[0;34m\u001b[0m\u001b[0m\n",
            "\u001b[0;32m~/.conda/envs/python38/lib/python3.8/site-packages/pandas/core/generic.py\u001b[0m in \u001b[0;36m__getattr__\u001b[0;34m(self, name)\u001b[0m\n\u001b[1;32m   5459\u001b[0m             \u001b[0;32mor\u001b[0m \u001b[0mname\u001b[0m \u001b[0;32min\u001b[0m \u001b[0mself\u001b[0m\u001b[0;34m.\u001b[0m\u001b[0m_accessors\u001b[0m\u001b[0;34m\u001b[0m\u001b[0;34m\u001b[0m\u001b[0m\n\u001b[1;32m   5460\u001b[0m         ):\n\u001b[0;32m-> 5461\u001b[0;31m             \u001b[0;32mreturn\u001b[0m \u001b[0mobject\u001b[0m\u001b[0;34m.\u001b[0m\u001b[0m__getattribute__\u001b[0m\u001b[0;34m(\u001b[0m\u001b[0mself\u001b[0m\u001b[0;34m,\u001b[0m \u001b[0mname\u001b[0m\u001b[0;34m)\u001b[0m\u001b[0;34m\u001b[0m\u001b[0;34m\u001b[0m\u001b[0m\n\u001b[0m\u001b[1;32m   5462\u001b[0m         \u001b[0;32melse\u001b[0m\u001b[0;34m:\u001b[0m\u001b[0;34m\u001b[0m\u001b[0;34m\u001b[0m\u001b[0m\n\u001b[1;32m   5463\u001b[0m             \u001b[0;32mif\u001b[0m \u001b[0mself\u001b[0m\u001b[0;34m.\u001b[0m\u001b[0m_info_axis\u001b[0m\u001b[0;34m.\u001b[0m\u001b[0m_can_hold_identifiers_and_holds_name\u001b[0m\u001b[0;34m(\u001b[0m\u001b[0mname\u001b[0m\u001b[0;34m)\u001b[0m\u001b[0;34m:\u001b[0m\u001b[0;34m\u001b[0m\u001b[0;34m\u001b[0m\u001b[0m\n",
            "\u001b[0;32m~/.conda/envs/python38/lib/python3.8/site-packages/pandas/core/accessor.py\u001b[0m in \u001b[0;36m__get__\u001b[0;34m(self, obj, cls)\u001b[0m\n\u001b[1;32m    178\u001b[0m             \u001b[0;31m# we're accessing the attribute of the class, i.e., Dataset.geo\u001b[0m\u001b[0;34m\u001b[0m\u001b[0;34m\u001b[0m\u001b[0;34m\u001b[0m\u001b[0m\n\u001b[1;32m    179\u001b[0m             \u001b[0;32mreturn\u001b[0m \u001b[0mself\u001b[0m\u001b[0;34m.\u001b[0m\u001b[0m_accessor\u001b[0m\u001b[0;34m\u001b[0m\u001b[0;34m\u001b[0m\u001b[0m\n\u001b[0;32m--> 180\u001b[0;31m         \u001b[0maccessor_obj\u001b[0m \u001b[0;34m=\u001b[0m \u001b[0mself\u001b[0m\u001b[0;34m.\u001b[0m\u001b[0m_accessor\u001b[0m\u001b[0;34m(\u001b[0m\u001b[0mobj\u001b[0m\u001b[0;34m)\u001b[0m\u001b[0;34m\u001b[0m\u001b[0;34m\u001b[0m\u001b[0m\n\u001b[0m\u001b[1;32m    181\u001b[0m         \u001b[0;31m# Replace the property with the accessor object. Inspired by:\u001b[0m\u001b[0;34m\u001b[0m\u001b[0;34m\u001b[0m\u001b[0;34m\u001b[0m\u001b[0m\n\u001b[1;32m    182\u001b[0m         \u001b[0;31m# https://www.pydanny.com/cached-property.html\u001b[0m\u001b[0;34m\u001b[0m\u001b[0;34m\u001b[0m\u001b[0;34m\u001b[0m\u001b[0m\n",
            "\u001b[0;32m~/.conda/envs/python38/lib/python3.8/site-packages/pandas/core/strings/accessor.py\u001b[0m in \u001b[0;36m__init__\u001b[0;34m(self, data)\u001b[0m\n\u001b[1;32m    152\u001b[0m         \u001b[0;32mfrom\u001b[0m \u001b[0mpandas\u001b[0m\u001b[0;34m.\u001b[0m\u001b[0mcore\u001b[0m\u001b[0;34m.\u001b[0m\u001b[0marrays\u001b[0m\u001b[0;34m.\u001b[0m\u001b[0mstring_\u001b[0m \u001b[0;32mimport\u001b[0m \u001b[0mStringDtype\u001b[0m\u001b[0;34m\u001b[0m\u001b[0;34m\u001b[0m\u001b[0m\n\u001b[1;32m    153\u001b[0m \u001b[0;34m\u001b[0m\u001b[0m\n\u001b[0;32m--> 154\u001b[0;31m         \u001b[0mself\u001b[0m\u001b[0;34m.\u001b[0m\u001b[0m_inferred_dtype\u001b[0m \u001b[0;34m=\u001b[0m \u001b[0mself\u001b[0m\u001b[0;34m.\u001b[0m\u001b[0m_validate\u001b[0m\u001b[0;34m(\u001b[0m\u001b[0mdata\u001b[0m\u001b[0;34m)\u001b[0m\u001b[0;34m\u001b[0m\u001b[0;34m\u001b[0m\u001b[0m\n\u001b[0m\u001b[1;32m    155\u001b[0m         \u001b[0mself\u001b[0m\u001b[0;34m.\u001b[0m\u001b[0m_is_categorical\u001b[0m \u001b[0;34m=\u001b[0m \u001b[0mis_categorical_dtype\u001b[0m\u001b[0;34m(\u001b[0m\u001b[0mdata\u001b[0m\u001b[0;34m.\u001b[0m\u001b[0mdtype\u001b[0m\u001b[0;34m)\u001b[0m\u001b[0;34m\u001b[0m\u001b[0;34m\u001b[0m\u001b[0m\n\u001b[1;32m    156\u001b[0m         \u001b[0mself\u001b[0m\u001b[0;34m.\u001b[0m\u001b[0m_is_string\u001b[0m \u001b[0;34m=\u001b[0m \u001b[0misinstance\u001b[0m\u001b[0;34m(\u001b[0m\u001b[0mdata\u001b[0m\u001b[0;34m.\u001b[0m\u001b[0mdtype\u001b[0m\u001b[0;34m,\u001b[0m \u001b[0mStringDtype\u001b[0m\u001b[0;34m)\u001b[0m\u001b[0;34m\u001b[0m\u001b[0;34m\u001b[0m\u001b[0m\n",
            "\u001b[0;32m~/.conda/envs/python38/lib/python3.8/site-packages/pandas/core/strings/accessor.py\u001b[0m in \u001b[0;36m_validate\u001b[0;34m(data)\u001b[0m\n\u001b[1;32m    215\u001b[0m \u001b[0;34m\u001b[0m\u001b[0m\n\u001b[1;32m    216\u001b[0m         \u001b[0;32mif\u001b[0m \u001b[0minferred_dtype\u001b[0m \u001b[0;32mnot\u001b[0m \u001b[0;32min\u001b[0m \u001b[0mallowed_types\u001b[0m\u001b[0;34m:\u001b[0m\u001b[0;34m\u001b[0m\u001b[0;34m\u001b[0m\u001b[0m\n\u001b[0;32m--> 217\u001b[0;31m             \u001b[0;32mraise\u001b[0m \u001b[0mAttributeError\u001b[0m\u001b[0;34m(\u001b[0m\u001b[0;34m\"Can only use .str accessor with string values!\"\u001b[0m\u001b[0;34m)\u001b[0m\u001b[0;34m\u001b[0m\u001b[0;34m\u001b[0m\u001b[0m\n\u001b[0m\u001b[1;32m    218\u001b[0m         \u001b[0;32mreturn\u001b[0m \u001b[0minferred_dtype\u001b[0m\u001b[0;34m\u001b[0m\u001b[0;34m\u001b[0m\u001b[0m\n\u001b[1;32m    219\u001b[0m \u001b[0;34m\u001b[0m\u001b[0m\n",
            "\u001b[0;31mAttributeError\u001b[0m: Can only use .str accessor with string values!"
          ]
        }
      ]
    },
    {
      "cell_type": "code",
      "metadata": {
        "id": "LwTpjkWi7l9G"
      },
      "source": [
        "df_song['date'] = pd.to_datetime(df_song['date'])"
      ],
      "execution_count": null,
      "outputs": []
    },
    {
      "cell_type": "code",
      "metadata": {
        "id": "hhFkELMj7l9G",
        "outputId": "b30d569a-843a-491f-bcd8-79f8a5ede7ae"
      },
      "source": [
        "# merge\n",
        "df_merged = df.merge(df_song,how='right',on='song_id')\n",
        "df_merged"
      ],
      "execution_count": null,
      "outputs": [
        {
          "output_type": "execute_result",
          "data": {
            "text/plain": [
              "     rank   song_id rank_month           title arti_id     arti_name  \\\n",
              "0       1  32224272     202001          METEOR  774900  창모 (CHANGMO)   \n",
              "1       2  32224272     202002          METEOR  774900  창모 (CHANGMO)   \n",
              "2       5  32224272     202003          METEOR  774900  창모 (CHANGMO)   \n",
              "3       9  32224272     202004          METEOR  774900  창모 (CHANGMO)   \n",
              "4      13  32224272     202005          METEOR  774900  창모 (CHANGMO)   \n",
              "...   ...       ...        ...             ...     ...           ...   \n",
              "1191   83  33077238     202012              잠시  672375         방탄소년단   \n",
              "1192   86  33129712     202012             잘할게   58793           이승기   \n",
              "1193   92  33077240     202012            Stay  672375         방탄소년단   \n",
              "1194   93  33077239     202012               병  672375         방탄소년단   \n",
              "1195   94  33107649     202012  그날에 나는 맘이 편했을까  718655           이예준   \n",
              "\n",
              "      album_id      album_name       date genre    like  comm  \\\n",
              "0     10359162         Boyhood 2019-11-29  랩/힙합  261343     5   \n",
              "1     10359162         Boyhood 2019-11-29  랩/힙합  261343     5   \n",
              "2     10359162         Boyhood 2019-11-29  랩/힙합  261343     5   \n",
              "3     10359162         Boyhood 2019-11-29  랩/힙합  261343     5   \n",
              "4     10359162         Boyhood 2019-11-29  랩/힙합  261343     5   \n",
              "...        ...             ...        ...   ...     ...   ...   \n",
              "1191  10521521              BE 2020-11-20  랩/힙합  101807     1   \n",
              "1192  10532045     The Project 2020-12-10   발라드   28417     2   \n",
              "1193  10521521              BE 2020-11-20    댄스   92229     1   \n",
              "1194  10521521              BE 2020-11-20  랩/힙합   93037     1   \n",
              "1195  10527955  그날에 나는 맘이 편했을까 2020-12-03   발라드   49956     1   \n",
              "\n",
              "                                                  lyric  \n",
              "0     Yeah ha\\nYeah ha\\nYeah ha\\nYeah ha\\nYeah ha\\nY...  \n",
              "1     Yeah ha\\nYeah ha\\nYeah ha\\nYeah ha\\nYeah ha\\nY...  \n",
              "2     Yeah ha\\nYeah ha\\nYeah ha\\nYeah ha\\nYeah ha\\nY...  \n",
              "3     Yeah ha\\nYeah ha\\nYeah ha\\nYeah ha\\nYeah ha\\nY...  \n",
              "4     Yeah ha\\nYeah ha\\nYeah ha\\nYeah ha\\nYeah ha\\nY...  \n",
              "...                                                 ...  \n",
              "1191  매번 같은 하루들 중에\\n너를 만날 때 가장 난 행복해\\n매번 다른 일상들 속에\\n...  \n",
              "1192  우우우우 우우우우우\\n우우우우 그게 잘 안돼 그게 잘 안돼\\n우우우우 우우우우우\\n...  \n",
              "1193  꿈이었을까\\n널 본 것 같아\\n눈뜨면 다시\\n아무도 없는 방\\n\\n가만히 난 주문을...  \n",
              "1194  뭔가 놓친듯해\\n커피 한 모금으로 불안함을 해소\\nAn endless rest\\n내...  \n",
              "1195  늘 똑같은 일로 싸우다 지친 우리\\n끝날 때 됐나 봐\\n너답지 않던 모습 더는\\n지...  \n",
              "\n",
              "[1196 rows x 13 columns]"
            ],
            "text/html": "<div>\n<style scoped>\n    .dataframe tbody tr th:only-of-type {\n        vertical-align: middle;\n    }\n\n    .dataframe tbody tr th {\n        vertical-align: top;\n    }\n\n    .dataframe thead th {\n        text-align: right;\n    }\n</style>\n<table border=\"1\" class=\"dataframe\">\n  <thead>\n    <tr style=\"text-align: right;\">\n      <th></th>\n      <th>rank</th>\n      <th>song_id</th>\n      <th>rank_month</th>\n      <th>title</th>\n      <th>arti_id</th>\n      <th>arti_name</th>\n      <th>album_id</th>\n      <th>album_name</th>\n      <th>date</th>\n      <th>genre</th>\n      <th>like</th>\n      <th>comm</th>\n      <th>lyric</th>\n    </tr>\n  </thead>\n  <tbody>\n    <tr>\n      <th>0</th>\n      <td>1</td>\n      <td>32224272</td>\n      <td>202001</td>\n      <td>METEOR</td>\n      <td>774900</td>\n      <td>창모 (CHANGMO)</td>\n      <td>10359162</td>\n      <td>Boyhood</td>\n      <td>2019-11-29</td>\n      <td>랩/힙합</td>\n      <td>261343</td>\n      <td>5</td>\n      <td>Yeah ha\\nYeah ha\\nYeah ha\\nYeah ha\\nYeah ha\\nY...</td>\n    </tr>\n    <tr>\n      <th>1</th>\n      <td>2</td>\n      <td>32224272</td>\n      <td>202002</td>\n      <td>METEOR</td>\n      <td>774900</td>\n      <td>창모 (CHANGMO)</td>\n      <td>10359162</td>\n      <td>Boyhood</td>\n      <td>2019-11-29</td>\n      <td>랩/힙합</td>\n      <td>261343</td>\n      <td>5</td>\n      <td>Yeah ha\\nYeah ha\\nYeah ha\\nYeah ha\\nYeah ha\\nY...</td>\n    </tr>\n    <tr>\n      <th>2</th>\n      <td>5</td>\n      <td>32224272</td>\n      <td>202003</td>\n      <td>METEOR</td>\n      <td>774900</td>\n      <td>창모 (CHANGMO)</td>\n      <td>10359162</td>\n      <td>Boyhood</td>\n      <td>2019-11-29</td>\n      <td>랩/힙합</td>\n      <td>261343</td>\n      <td>5</td>\n      <td>Yeah ha\\nYeah ha\\nYeah ha\\nYeah ha\\nYeah ha\\nY...</td>\n    </tr>\n    <tr>\n      <th>3</th>\n      <td>9</td>\n      <td>32224272</td>\n      <td>202004</td>\n      <td>METEOR</td>\n      <td>774900</td>\n      <td>창모 (CHANGMO)</td>\n      <td>10359162</td>\n      <td>Boyhood</td>\n      <td>2019-11-29</td>\n      <td>랩/힙합</td>\n      <td>261343</td>\n      <td>5</td>\n      <td>Yeah ha\\nYeah ha\\nYeah ha\\nYeah ha\\nYeah ha\\nY...</td>\n    </tr>\n    <tr>\n      <th>4</th>\n      <td>13</td>\n      <td>32224272</td>\n      <td>202005</td>\n      <td>METEOR</td>\n      <td>774900</td>\n      <td>창모 (CHANGMO)</td>\n      <td>10359162</td>\n      <td>Boyhood</td>\n      <td>2019-11-29</td>\n      <td>랩/힙합</td>\n      <td>261343</td>\n      <td>5</td>\n      <td>Yeah ha\\nYeah ha\\nYeah ha\\nYeah ha\\nYeah ha\\nY...</td>\n    </tr>\n    <tr>\n      <th>...</th>\n      <td>...</td>\n      <td>...</td>\n      <td>...</td>\n      <td>...</td>\n      <td>...</td>\n      <td>...</td>\n      <td>...</td>\n      <td>...</td>\n      <td>...</td>\n      <td>...</td>\n      <td>...</td>\n      <td>...</td>\n      <td>...</td>\n    </tr>\n    <tr>\n      <th>1191</th>\n      <td>83</td>\n      <td>33077238</td>\n      <td>202012</td>\n      <td>잠시</td>\n      <td>672375</td>\n      <td>방탄소년단</td>\n      <td>10521521</td>\n      <td>BE</td>\n      <td>2020-11-20</td>\n      <td>랩/힙합</td>\n      <td>101807</td>\n      <td>1</td>\n      <td>매번 같은 하루들 중에\\n너를 만날 때 가장 난 행복해\\n매번 다른 일상들 속에\\n...</td>\n    </tr>\n    <tr>\n      <th>1192</th>\n      <td>86</td>\n      <td>33129712</td>\n      <td>202012</td>\n      <td>잘할게</td>\n      <td>58793</td>\n      <td>이승기</td>\n      <td>10532045</td>\n      <td>The Project</td>\n      <td>2020-12-10</td>\n      <td>발라드</td>\n      <td>28417</td>\n      <td>2</td>\n      <td>우우우우 우우우우우\\n우우우우 그게 잘 안돼 그게 잘 안돼\\n우우우우 우우우우우\\n...</td>\n    </tr>\n    <tr>\n      <th>1193</th>\n      <td>92</td>\n      <td>33077240</td>\n      <td>202012</td>\n      <td>Stay</td>\n      <td>672375</td>\n      <td>방탄소년단</td>\n      <td>10521521</td>\n      <td>BE</td>\n      <td>2020-11-20</td>\n      <td>댄스</td>\n      <td>92229</td>\n      <td>1</td>\n      <td>꿈이었을까\\n널 본 것 같아\\n눈뜨면 다시\\n아무도 없는 방\\n\\n가만히 난 주문을...</td>\n    </tr>\n    <tr>\n      <th>1194</th>\n      <td>93</td>\n      <td>33077239</td>\n      <td>202012</td>\n      <td>병</td>\n      <td>672375</td>\n      <td>방탄소년단</td>\n      <td>10521521</td>\n      <td>BE</td>\n      <td>2020-11-20</td>\n      <td>랩/힙합</td>\n      <td>93037</td>\n      <td>1</td>\n      <td>뭔가 놓친듯해\\n커피 한 모금으로 불안함을 해소\\nAn endless rest\\n내...</td>\n    </tr>\n    <tr>\n      <th>1195</th>\n      <td>94</td>\n      <td>33107649</td>\n      <td>202012</td>\n      <td>그날에 나는 맘이 편했을까</td>\n      <td>718655</td>\n      <td>이예준</td>\n      <td>10527955</td>\n      <td>그날에 나는 맘이 편했을까</td>\n      <td>2020-12-03</td>\n      <td>발라드</td>\n      <td>49956</td>\n      <td>1</td>\n      <td>늘 똑같은 일로 싸우다 지친 우리\\n끝날 때 됐나 봐\\n너답지 않던 모습 더는\\n지...</td>\n    </tr>\n  </tbody>\n</table>\n<p>1196 rows × 13 columns</p>\n</div>"
          },
          "metadata": {},
          "execution_count": 38
        }
      ]
    },
    {
      "cell_type": "code",
      "metadata": {
        "id": "c8wFzUiW7l9G"
      },
      "source": [
        "# df.to_pickle('2010s_melon_rank.pkl')\n",
        "# df_song.to_pickle('2010s_melon_rank_song.pkl')\n",
        "# df_merged.to_pickle('2010s_melon_rank_song_merged.pkl')\n",
        "\n",
        "df.to_pickle('2020_melon_rank.pkl')\n",
        "df_song.to_pickle('2020_melon_rank_song.pkl')\n",
        "df_merged.to_pickle('2020_melon_rank_song_merged.pkl')"
      ],
      "execution_count": null,
      "outputs": []
    }
  ]
}