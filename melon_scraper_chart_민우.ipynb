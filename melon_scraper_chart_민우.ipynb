{
  "nbformat": 4,
  "nbformat_minor": 0,
  "metadata": {
    "kernelspec": {
      "name": "python3810jvsc74a57bd0b8a7d7d1c5e2099f42ad09c6e0a4434b944a69b04b6b901eb425929f73aeaf84",
      "display_name": "Python 3.8.10 64-bit ('python38': conda)"
    },
    "language_info": {
      "name": "python",
      "version": "3.8.10"
    },
    "metadata": {
      "interpreter": {
        "hash": "58d1e930594181ec3669602426326bbb03acfc02a8352db7bdf2b42a9eb5dc94"
      }
    },
    "orig_nbformat": 2,
    "colab": {
      "name": "melon_scraper_chart_민우.ipynb",
      "provenance": [],
      "include_colab_link": true
    }
  },
  "cells": [
    {
      "cell_type": "markdown",
      "metadata": {
        "id": "view-in-github",
        "colab_type": "text"
      },
      "source": [
        "<a href=\"https://colab.research.google.com/github/Minwoo-study/AIPrograming/blob/main/melon_scraper_chart_%EB%AF%BC%EC%9A%B0.ipynb\" target=\"_parent\"><img src=\"https://colab.research.google.com/assets/colab-badge.svg\" alt=\"Open In Colab\"/></a>"
      ]
    },
    {
      "cell_type": "markdown",
      "metadata": {
        "id": "bMejSJDH7l87"
      },
      "source": [
        "# 멜론 차트 스크래핑"
      ]
    },
    {
      "cell_type": "code",
      "metadata": {
        "colab": {
          "base_uri": "https://localhost:8080/"
        },
        "id": "k5v2ocz41WdI",
        "outputId": "7c65cb89-dfa9-4b1a-ff5b-8785d2edcc6d"
      },
      "source": [
        "! pip install selenium Bs4 "
      ],
      "execution_count": 2,
      "outputs": [
        {
          "output_type": "stream",
          "name": "stdout",
          "text": [
            "Collecting selenium\n",
            "  Downloading selenium-3.141.0-py2.py3-none-any.whl (904 kB)\n",
            "\u001b[?25l\r\u001b[K     |▍                               | 10 kB 24.9 MB/s eta 0:00:01\r\u001b[K     |▊                               | 20 kB 28.0 MB/s eta 0:00:01\r\u001b[K     |█                               | 30 kB 31.9 MB/s eta 0:00:01\r\u001b[K     |█▌                              | 40 kB 33.7 MB/s eta 0:00:01\r\u001b[K     |█▉                              | 51 kB 35.8 MB/s eta 0:00:01\r\u001b[K     |██▏                             | 61 kB 36.1 MB/s eta 0:00:01\r\u001b[K     |██▌                             | 71 kB 34.9 MB/s eta 0:00:01\r\u001b[K     |███                             | 81 kB 36.9 MB/s eta 0:00:01\r\u001b[K     |███▎                            | 92 kB 37.9 MB/s eta 0:00:01\r\u001b[K     |███▋                            | 102 kB 39.5 MB/s eta 0:00:01\r\u001b[K     |████                            | 112 kB 39.5 MB/s eta 0:00:01\r\u001b[K     |████▍                           | 122 kB 39.5 MB/s eta 0:00:01\r\u001b[K     |████▊                           | 133 kB 39.5 MB/s eta 0:00:01\r\u001b[K     |█████                           | 143 kB 39.5 MB/s eta 0:00:01\r\u001b[K     |█████▍                          | 153 kB 39.5 MB/s eta 0:00:01\r\u001b[K     |█████▉                          | 163 kB 39.5 MB/s eta 0:00:01\r\u001b[K     |██████▏                         | 174 kB 39.5 MB/s eta 0:00:01\r\u001b[K     |██████▌                         | 184 kB 39.5 MB/s eta 0:00:01\r\u001b[K     |██████▉                         | 194 kB 39.5 MB/s eta 0:00:01\r\u001b[K     |███████▎                        | 204 kB 39.5 MB/s eta 0:00:01\r\u001b[K     |███████▋                        | 215 kB 39.5 MB/s eta 0:00:01\r\u001b[K     |████████                        | 225 kB 39.5 MB/s eta 0:00:01\r\u001b[K     |████████▎                       | 235 kB 39.5 MB/s eta 0:00:01\r\u001b[K     |████████▊                       | 245 kB 39.5 MB/s eta 0:00:01\r\u001b[K     |█████████                       | 256 kB 39.5 MB/s eta 0:00:01\r\u001b[K     |█████████▍                      | 266 kB 39.5 MB/s eta 0:00:01\r\u001b[K     |█████████▉                      | 276 kB 39.5 MB/s eta 0:00:01\r\u001b[K     |██████████▏                     | 286 kB 39.5 MB/s eta 0:00:01\r\u001b[K     |██████████▌                     | 296 kB 39.5 MB/s eta 0:00:01\r\u001b[K     |██████████▉                     | 307 kB 39.5 MB/s eta 0:00:01\r\u001b[K     |███████████▎                    | 317 kB 39.5 MB/s eta 0:00:01\r\u001b[K     |███████████▋                    | 327 kB 39.5 MB/s eta 0:00:01\r\u001b[K     |████████████                    | 337 kB 39.5 MB/s eta 0:00:01\r\u001b[K     |████████████▎                   | 348 kB 39.5 MB/s eta 0:00:01\r\u001b[K     |████████████▊                   | 358 kB 39.5 MB/s eta 0:00:01\r\u001b[K     |█████████████                   | 368 kB 39.5 MB/s eta 0:00:01\r\u001b[K     |█████████████▍                  | 378 kB 39.5 MB/s eta 0:00:01\r\u001b[K     |█████████████▊                  | 389 kB 39.5 MB/s eta 0:00:01\r\u001b[K     |██████████████▏                 | 399 kB 39.5 MB/s eta 0:00:01\r\u001b[K     |██████████████▌                 | 409 kB 39.5 MB/s eta 0:00:01\r\u001b[K     |██████████████▉                 | 419 kB 39.5 MB/s eta 0:00:01\r\u001b[K     |███████████████▏                | 430 kB 39.5 MB/s eta 0:00:01\r\u001b[K     |███████████████▋                | 440 kB 39.5 MB/s eta 0:00:01\r\u001b[K     |████████████████                | 450 kB 39.5 MB/s eta 0:00:01\r\u001b[K     |████████████████▎               | 460 kB 39.5 MB/s eta 0:00:01\r\u001b[K     |████████████████▋               | 471 kB 39.5 MB/s eta 0:00:01\r\u001b[K     |█████████████████               | 481 kB 39.5 MB/s eta 0:00:01\r\u001b[K     |█████████████████▍              | 491 kB 39.5 MB/s eta 0:00:01\r\u001b[K     |█████████████████▊              | 501 kB 39.5 MB/s eta 0:00:01\r\u001b[K     |██████████████████▏             | 512 kB 39.5 MB/s eta 0:00:01\r\u001b[K     |██████████████████▌             | 522 kB 39.5 MB/s eta 0:00:01\r\u001b[K     |██████████████████▉             | 532 kB 39.5 MB/s eta 0:00:01\r\u001b[K     |███████████████████▏            | 542 kB 39.5 MB/s eta 0:00:01\r\u001b[K     |███████████████████▋            | 552 kB 39.5 MB/s eta 0:00:01\r\u001b[K     |████████████████████            | 563 kB 39.5 MB/s eta 0:00:01\r\u001b[K     |████████████████████▎           | 573 kB 39.5 MB/s eta 0:00:01\r\u001b[K     |████████████████████▋           | 583 kB 39.5 MB/s eta 0:00:01\r\u001b[K     |█████████████████████           | 593 kB 39.5 MB/s eta 0:00:01\r\u001b[K     |█████████████████████▍          | 604 kB 39.5 MB/s eta 0:00:01\r\u001b[K     |█████████████████████▊          | 614 kB 39.5 MB/s eta 0:00:01\r\u001b[K     |██████████████████████          | 624 kB 39.5 MB/s eta 0:00:01\r\u001b[K     |██████████████████████▌         | 634 kB 39.5 MB/s eta 0:00:01\r\u001b[K     |██████████████████████▉         | 645 kB 39.5 MB/s eta 0:00:01\r\u001b[K     |███████████████████████▏        | 655 kB 39.5 MB/s eta 0:00:01\r\u001b[K     |███████████████████████▌        | 665 kB 39.5 MB/s eta 0:00:01\r\u001b[K     |████████████████████████        | 675 kB 39.5 MB/s eta 0:00:01\r\u001b[K     |████████████████████████▎       | 686 kB 39.5 MB/s eta 0:00:01\r\u001b[K     |████████████████████████▋       | 696 kB 39.5 MB/s eta 0:00:01\r\u001b[K     |█████████████████████████       | 706 kB 39.5 MB/s eta 0:00:01\r\u001b[K     |█████████████████████████▍      | 716 kB 39.5 MB/s eta 0:00:01\r\u001b[K     |█████████████████████████▊      | 727 kB 39.5 MB/s eta 0:00:01\r\u001b[K     |██████████████████████████      | 737 kB 39.5 MB/s eta 0:00:01\r\u001b[K     |██████████████████████████▍     | 747 kB 39.5 MB/s eta 0:00:01\r\u001b[K     |██████████████████████████▉     | 757 kB 39.5 MB/s eta 0:00:01\r\u001b[K     |███████████████████████████▏    | 768 kB 39.5 MB/s eta 0:00:01\r\u001b[K     |███████████████████████████▌    | 778 kB 39.5 MB/s eta 0:00:01\r\u001b[K     |████████████████████████████    | 788 kB 39.5 MB/s eta 0:00:01\r\u001b[K     |████████████████████████████▎   | 798 kB 39.5 MB/s eta 0:00:01\r\u001b[K     |████████████████████████████▋   | 808 kB 39.5 MB/s eta 0:00:01\r\u001b[K     |█████████████████████████████   | 819 kB 39.5 MB/s eta 0:00:01\r\u001b[K     |█████████████████████████████▍  | 829 kB 39.5 MB/s eta 0:00:01\r\u001b[K     |█████████████████████████████▊  | 839 kB 39.5 MB/s eta 0:00:01\r\u001b[K     |██████████████████████████████  | 849 kB 39.5 MB/s eta 0:00:01\r\u001b[K     |██████████████████████████████▍ | 860 kB 39.5 MB/s eta 0:00:01\r\u001b[K     |██████████████████████████████▉ | 870 kB 39.5 MB/s eta 0:00:01\r\u001b[K     |███████████████████████████████▏| 880 kB 39.5 MB/s eta 0:00:01\r\u001b[K     |███████████████████████████████▌| 890 kB 39.5 MB/s eta 0:00:01\r\u001b[K     |███████████████████████████████▉| 901 kB 39.5 MB/s eta 0:00:01\r\u001b[K     |████████████████████████████████| 904 kB 39.5 MB/s \n",
            "\u001b[?25hRequirement already satisfied: Bs4 in /usr/local/lib/python3.7/dist-packages (0.0.1)\n",
            "Requirement already satisfied: urllib3 in /usr/local/lib/python3.7/dist-packages (from selenium) (1.24.3)\n",
            "Requirement already satisfied: beautifulsoup4 in /usr/local/lib/python3.7/dist-packages (from Bs4) (4.6.3)\n",
            "Installing collected packages: selenium\n",
            "Successfully installed selenium-3.141.0\n"
          ]
        }
      ]
    },
    {
      "cell_type": "code",
      "metadata": {
        "id": "KIb1oqLK7l8-",
        "colab": {
          "base_uri": "https://localhost:8080/",
          "height": 375
        },
        "outputId": "10e88f55-6da8-4ec3-f2f3-33157476b0f2"
      },
      "source": [
        "from selenium import webdriver\n",
        "from selenium.webdriver.common.keys import Keys\n",
        "from webdriver_manager.chrome import ChromeDriverManager\n",
        "from selenium.webdriver.common.by import By\n",
        "from selenium.webdriver.support.ui import WebDriverWait\n",
        "from selenium.webdriver.support import expected_conditions as EC\n",
        "from selenium.common.exceptions import NoSuchElementException\n",
        "from selenium.common.exceptions import UnexpectedAlertPresentException\n",
        "from selenium.webdriver.common.desired_capabilities import DesiredCapabilities\n",
        "\n",
        "from bs4 import BeautifulSoup\n",
        "import bs4\n",
        "import requests\n",
        "import time\n",
        "from random import *\n",
        "from tqdm.notebook import tqdm\n",
        "import time\n",
        "import pandas as pd\n",
        "import numpy as np\n",
        "import re\n",
        "import pickle"
      ],
      "execution_count": 1,
      "outputs": [
        {
          "output_type": "error",
          "ename": "ModuleNotFoundError",
          "evalue": "ignored",
          "traceback": [
            "\u001b[0;31m---------------------------------------------------------------------------\u001b[0m",
            "\u001b[0;31mModuleNotFoundError\u001b[0m                       Traceback (most recent call last)",
            "\u001b[0;32m<ipython-input-1-8d9ec1fcfc0a>\u001b[0m in \u001b[0;36m<module>\u001b[0;34m()\u001b[0m\n\u001b[0;32m----> 1\u001b[0;31m \u001b[0;32mfrom\u001b[0m \u001b[0mselenium\u001b[0m \u001b[0;32mimport\u001b[0m \u001b[0mwebdriver\u001b[0m\u001b[0;34m\u001b[0m\u001b[0;34m\u001b[0m\u001b[0m\n\u001b[0m\u001b[1;32m      2\u001b[0m \u001b[0;32mfrom\u001b[0m \u001b[0mselenium\u001b[0m\u001b[0;34m.\u001b[0m\u001b[0mwebdriver\u001b[0m\u001b[0;34m.\u001b[0m\u001b[0mcommon\u001b[0m\u001b[0;34m.\u001b[0m\u001b[0mkeys\u001b[0m \u001b[0;32mimport\u001b[0m \u001b[0mKeys\u001b[0m\u001b[0;34m\u001b[0m\u001b[0;34m\u001b[0m\u001b[0m\n\u001b[1;32m      3\u001b[0m \u001b[0;32mfrom\u001b[0m \u001b[0mwebdriver_manager\u001b[0m\u001b[0;34m.\u001b[0m\u001b[0mchrome\u001b[0m \u001b[0;32mimport\u001b[0m \u001b[0mChromeDriverManager\u001b[0m\u001b[0;34m\u001b[0m\u001b[0;34m\u001b[0m\u001b[0m\n\u001b[1;32m      4\u001b[0m \u001b[0;32mfrom\u001b[0m \u001b[0mselenium\u001b[0m\u001b[0;34m.\u001b[0m\u001b[0mwebdriver\u001b[0m\u001b[0;34m.\u001b[0m\u001b[0mcommon\u001b[0m\u001b[0;34m.\u001b[0m\u001b[0mby\u001b[0m \u001b[0;32mimport\u001b[0m \u001b[0mBy\u001b[0m\u001b[0;34m\u001b[0m\u001b[0;34m\u001b[0m\u001b[0m\n\u001b[1;32m      5\u001b[0m \u001b[0;32mfrom\u001b[0m \u001b[0mselenium\u001b[0m\u001b[0;34m.\u001b[0m\u001b[0mwebdriver\u001b[0m\u001b[0;34m.\u001b[0m\u001b[0msupport\u001b[0m\u001b[0;34m.\u001b[0m\u001b[0mui\u001b[0m \u001b[0;32mimport\u001b[0m \u001b[0mWebDriverWait\u001b[0m\u001b[0;34m\u001b[0m\u001b[0;34m\u001b[0m\u001b[0m\n",
            "\u001b[0;31mModuleNotFoundError\u001b[0m: No module named 'selenium'",
            "",
            "\u001b[0;31m---------------------------------------------------------------------------\u001b[0;32m\nNOTE: If your import is failing due to a missing package, you can\nmanually install dependencies using either !pip or !apt.\n\nTo view examples of installing some common dependencies, click the\n\"Open Examples\" button below.\n\u001b[0;31m---------------------------------------------------------------------------\u001b[0m\n"
          ],
          "errorDetails": {
            "actions": [
              {
                "action": "open_url",
                "actionText": "Open Examples",
                "url": "/notebooks/snippets/importing_libraries.ipynb"
              }
            ]
          }
        }
      ]
    },
    {
      "cell_type": "code",
      "metadata": {
        "id": "9czgoX2z7l8_",
        "outputId": "1be979f3-da2d-4b64-8d40-9eff1be49dd4"
      },
      "source": [
        "# 참고 : https://cozynow.tistory.com/43\n",
        "chrome_options = webdriver.ChromeOptions()\n",
        "# chrome_options.add_argument('--headless') #내부 창을 띄울 수 없으므로 설정\n",
        "# chrome_options.add_argument('--no-sandbox')\n",
        "# chrome_options.add_argument('--disable-dev-shm-usage')\n",
        "chrome_options.add_argument(\"user-agent=Mozilla/5.0 (Windows NT 10.0; Win64; x64) AppleWebKit/537.36 (KHTML, like Gecko) Chrome/90.0.4430 Safari/537.36\")\n",
        "\n",
        "# PROXY = \"socks5://127.0.0.1:9050\" # tor\n",
        "# chrome_options.add_argument(f'--proxy-server={PROXY}') # tor\n",
        "\n",
        "# PROXY = \"188.166.238.22:8080\"\n",
        "# DesiredCapabilities.CHROME['proxy'] = {\n",
        "#     \"httpProxy\": PROXY,\n",
        "#     \"ftpProxy\": PROXY,\n",
        "#     \"sslProxy\": PROXY,\n",
        "#     \"proxyType\": \"MANUAL\"\n",
        "# }\n",
        "# DesiredCapabilities.CHROME['acceptSslCerts'] = True\n",
        "\n",
        "chrome_options.add_experimental_option(\"prefs\", {\n",
        "  # \"download.default_directory\": download_path,\n",
        "  \"download.prompt_for_download\": False,\n",
        "  \"download.directory_upgrade\": True,\n",
        "  \"safebrowsing.enabled\": True\n",
        "})\n",
        "driver = webdriver.Chrome(ChromeDriverManager().install(),options=chrome_options)\n",
        "# driver = webdriver.Chrome('chromedriver',options=chrome_options)"
      ],
      "execution_count": null,
      "outputs": [
        {
          "output_type": "stream",
          "name": "stderr",
          "text": [
            "[WDM] - ====== WebDriver manager ======\n",
            "[WDM] - Current google-chrome version is 91.0.4472\n",
            "[WDM] - Get LATEST driver version for 91.0.4472\n",
            "\n",
            "\n",
            "[WDM] - Driver [/home/bjkim/.wdm/drivers/chromedriver/linux64/91.0.4472.19/chromedriver] found in cache\n"
          ]
        }
      ]
    },
    {
      "cell_type": "markdown",
      "metadata": {
        "id": "wIjLcTx37l9A"
      },
      "source": [
        "### 월간 차트 수집\n",
        "https://www.melon.com/chart/search/index.htm\n",
        "\n",
        "순위, 음원 제목, 가수명, 앨범명, 좋아요 수, 발매일, 장르, 댓글 수, 가사 전문, 고유번호"
      ]
    },
    {
      "cell_type": "markdown",
      "metadata": {
        "id": "_4MycJGg7l9A"
      },
      "source": [
        "##### 차트 설정"
      ]
    },
    {
      "cell_type": "code",
      "metadata": {
        "id": "pb_xVbA57l9A"
      },
      "source": [
        "driver.get('https://www.melon.com/chart/search/index.htm')"
      ],
      "execution_count": null,
      "outputs": []
    },
    {
      "cell_type": "code",
      "metadata": {
        "id": "JxTh_QqJ7l9A"
      },
      "source": [
        "# 월간 차트 클릭\n",
        "driver.find_element_by_css_selector('#d_chart_search > div > h4.tab02.on > a').click()"
      ],
      "execution_count": null,
      "outputs": []
    },
    {
      "cell_type": "code",
      "metadata": {
        "id": "Qk89f1zM7l9B"
      },
      "source": [
        "# 2010년대 선택\n",
        "driver.find_element_by_css_selector('#d_chart_search > div > div > div.box_chic.nth1.view > div.list_value > ul > li:nth-child(2) > span > label').click()"
      ],
      "execution_count": null,
      "outputs": []
    },
    {
      "cell_type": "code",
      "metadata": {
        "id": "qOEr9Cxm7l9B"
      },
      "source": [
        "# 연도 선택\n",
        "driver.find_element_by_xpath('//label[@for=\"year_1\"]').click()"
      ],
      "execution_count": null,
      "outputs": []
    },
    {
      "cell_type": "code",
      "metadata": {
        "id": "n-19ujsY7l9B"
      },
      "source": [
        "# 월 선택\n",
        "driver.find_element_by_xpath('//label[@for=\"month_1\"]').click()"
      ],
      "execution_count": null,
      "outputs": []
    },
    {
      "cell_type": "code",
      "metadata": {
        "id": "tT8mgZyB7l9C"
      },
      "source": [
        "# 국내 종합\n",
        "driver.find_element_by_xpath('//label[@for=\"gnr_2\"]').click()"
      ],
      "execution_count": null,
      "outputs": []
    },
    {
      "cell_type": "code",
      "metadata": {
        "id": "ik9O8SKw7l9C"
      },
      "source": [
        "# 검색 클릭\n",
        "driver.find_element_by_class_name('btn_b26').click()"
      ],
      "execution_count": null,
      "outputs": []
    },
    {
      "cell_type": "code",
      "metadata": {
        "id": "KykRs_G47l9C"
      },
      "source": [
        "# html 파싱\n",
        "req = driver.page_source\n",
        "soup = BeautifulSoup(req, 'html.parser')"
      ],
      "execution_count": null,
      "outputs": []
    },
    {
      "cell_type": "code",
      "metadata": {
        "id": "pYsfoNiC7l9C",
        "outputId": "a2e4d6a6-1f83-4a21-f52c-4774b73cc21a"
      },
      "source": [
        "# 음원 고유 번호\n",
        "pd.Series([re.search('goSongDetail\\(\\'(\\d+)\\'\\)',t['href']).group(1) for t in soup.find_all('a',{'class':'btn btn_icon_detail'})])"
      ],
      "execution_count": null,
      "outputs": [
        {
          "data": {
            "text/plain": [
              "0     31532643\n",
              "1     31532438\n",
              "2     31477685\n",
              "3     31406357\n",
              "4     31417871\n",
              "        ...   \n",
              "95    31113240\n",
              "96    31539246\n",
              "97    31399722\n",
              "98    31553909\n",
              "99    31369994\n",
              "Length: 100, dtype: object"
            ]
          },
          "execution_count": 35,
          "metadata": {},
          "output_type": "execute_result"
        }
      ]
    },
    {
      "cell_type": "code",
      "metadata": {
        "id": "WluYPDTY7l9D",
        "outputId": "4e1085cd-743d-4f78-f722-3d031fc701e1"
      },
      "source": [
        "# 순위\n",
        "[t.text for t in soup.find_all('span',{'class':'rank'})]"
      ],
      "execution_count": null,
      "outputs": [
        {
          "data": {
            "text/plain": "['1',\n '2',\n '3',\n '4',\n '5',\n '6',\n '7',\n '8',\n '9',\n '10',\n '11',\n '12',\n '13',\n '14',\n '15',\n '16',\n '17',\n '18',\n '19',\n '20',\n '21',\n '22',\n '23',\n '24',\n '25',\n '26',\n '27',\n '28',\n '29',\n '30',\n '31',\n '32',\n '33',\n '34',\n '35',\n '36',\n '37',\n '38',\n '39',\n '40',\n '41',\n '42',\n '43',\n '44',\n '45',\n '46',\n '47',\n '48',\n '49',\n '50',\n '51',\n '52',\n '53',\n '54',\n '55',\n '57',\n '58',\n '59',\n '60',\n '61',\n '62',\n '63',\n '64',\n '65',\n '66',\n '67',\n '68',\n '69',\n '70',\n '71',\n '72',\n '73',\n '74',\n '75',\n '76',\n '77',\n '78',\n '79',\n '80',\n '81',\n '82',\n '83',\n '84',\n '85',\n '86',\n '87',\n '88',\n '89',\n '90',\n '91',\n '92',\n '93',\n '94',\n '95',\n '96',\n '98',\n '99',\n '100']"
          },
          "execution_count": 30,
          "metadata": {},
          "output_type": "execute_result"
        }
      ]
    },
    {
      "cell_type": "code",
      "metadata": {
        "id": "PDW5F8467l9D"
      },
      "source": [
        "# years = reversed(range(2010,2020))\n",
        "years = reversed(range(2020,2021))\n",
        "months = range(1,13)"
      ],
      "execution_count": null,
      "outputs": []
    },
    {
      "cell_type": "code",
      "metadata": {
        "id": "aYlUzwtz7l9D"
      },
      "source": [
        "df = pd.DataFrame()"
      ],
      "execution_count": null,
      "outputs": []
    },
    {
      "cell_type": "code",
      "metadata": {
        "id": "WyvzEtgq7l9D"
      },
      "source": [
        "driver.get('https://www.melon.com/')"
      ],
      "execution_count": null,
      "outputs": []
    },
    {
      "cell_type": "code",
      "metadata": {
        "id": "IYfIPutD7l9D",
        "colab": {
          "referenced_widgets": [
            "b6b2179b691545999832e7eac3348f95"
          ]
        },
        "outputId": "b495abe9-3310-48bb-8fd0-8a20b5ae3bbf"
      },
      "source": [
        "driver.implicitly_wait(0.5)\n",
        "driver.get('https://www.melon.com/chart/search/index.htm')\n",
        "# 월간 차트 클릭\n",
        "driver.find_element_by_css_selector('#d_chart_search > div > h4.tab02 > a').click()\n",
        "# # 2020년대 선택\n",
        "# driver.find_element_by_xpath('//label[@for=\"decade_1\"]').click()\n",
        "# # 2010년대 선택\n",
        "driver.find_element_by_xpath('//label[@for=\"decade_2\"]').click()\n",
        "\n",
        "for year in tqdm(years):\n",
        "    print(year)\n",
        "    # 연도 선택\n",
        "    driver.find_element_by_xpath(f'//label[@for=\"year_{2020-year}\"]').click()\n",
        "    for month in months:\n",
        "        time.sleep(uniform(0.4,0.6))\n",
        "        # 월 선택\n",
        "        driver.find_element_by_xpath(f'//label[@for=\"month_{month}\"]').click()\n",
        "        # 국내 종합\n",
        "        driver.find_element_by_xpath('//label[@for=\"gnr_2\"]').click()\n",
        "        # 검색 클릭\n",
        "        driver.find_element_by_class_name('btn_b26').click()\n",
        "        time.sleep(uniform(0.7,1.0))\n",
        "        # html 파싱\n",
        "        req = driver.page_source\n",
        "        soup = BeautifulSoup(req, 'html.parser')\n",
        "        # 순위와 음원 고유번호 파싱\n",
        "        res = pd.DataFrame([re.search('goSongDetail\\(\\'(\\d+)\\'\\)',t['href']).group(1) for t in soup.find_all('a',{'class':'btn btn_icon_detail'})],columns=['song_id'])\n",
        "        res_rank = [t.text for t in soup.find_all('span',{'class':'rank'})]\n",
        "        res.insert(0,'rank',pd.NA)\n",
        "        res['rank'] = pd.Series(res_rank)\n",
        "        res['rank_month'] = str(year) + str(month).zfill(2)\n",
        "\n",
        "        df = df.append(res,ignore_index=True)"
      ],
      "execution_count": null,
      "outputs": [
        {
          "data": {
            "application/vnd.jupyter.widget-view+json": {
              "model_id": "b6b2179b691545999832e7eac3348f95",
              "version_major": 2,
              "version_minor": 0
            },
            "text/plain": "0it [00:00, ?it/s]"
          },
          "metadata": {},
          "output_type": "display_data"
        }
      ]
    },
    {
      "cell_type": "code",
      "metadata": {
        "id": "6c8WFbuV7l9E"
      },
      "source": [
        "for month in months:\n",
        "    # 월 선택\n",
        "    driver.find_element_by_xpath(f'//label[@for=\"month_{month}\"]').click()\n",
        "    time.sleep(uniform(0.4,0.6))\n",
        "    # 국내 종합\n",
        "    driver.find_element_by_xpath('//label[@for=\"gnr_2\"]').click()\n",
        "    # 검색 클릭\n",
        "    driver.find_element_by_class_name('btn_b26').click()\n",
        "    time.sleep(uniform(0.7,1.0))\n",
        "    # html 파싱\n",
        "    req = driver.page_source\n",
        "    soup = BeautifulSoup(req, 'html.parser')\n",
        "    # 순위와 음원 고유번호 파싱\n",
        "    res = pd.DataFrame([re.search('goSongDetail\\(\\'(\\d+)\\'\\)',t['href']).group(1) for t in soup.find_all('a',{'class':'btn btn_icon_detail'})],columns=['song_id'])\n",
        "    res_rank = [t.text for t in soup.find_all('span',{'class':'rank'})]\n",
        "    res.insert(0,'rank',pd.NA)\n",
        "    res['rank'] = pd.Series(res_rank)\n",
        "    res['rank_month'] = str(2020) + str(month).zfill(2)\n",
        "\n",
        "    df = df.append(res,ignore_index=True)"
      ],
      "execution_count": null,
      "outputs": []
    },
    {
      "cell_type": "code",
      "metadata": {
        "id": "9vRAb_kl7l9E",
        "outputId": "2833051d-a5b1-49c2-8e14-5652813d2442"
      },
      "source": [
        "df"
      ],
      "execution_count": null,
      "outputs": [
        {
          "output_type": "execute_result",
          "data": {
            "text/plain": [
              "     rank   song_id rank_month\n",
              "0       1  32224272     202001\n",
              "1       2  32313543     202001\n",
              "2       3  32273582     202001\n",
              "3       4  32183386     202001\n",
              "4       5  32228058     202001\n",
              "...   ...       ...        ...\n",
              "1195   96  32889003     202012\n",
              "1196   97  32473998     202012\n",
              "1197   98  32725022     202012\n",
              "1198   99  32860419     202012\n",
              "1199  100  32734372     202012\n",
              "\n",
              "[1200 rows x 3 columns]"
            ],
            "text/html": "<div>\n<style scoped>\n    .dataframe tbody tr th:only-of-type {\n        vertical-align: middle;\n    }\n\n    .dataframe tbody tr th {\n        vertical-align: top;\n    }\n\n    .dataframe thead th {\n        text-align: right;\n    }\n</style>\n<table border=\"1\" class=\"dataframe\">\n  <thead>\n    <tr style=\"text-align: right;\">\n      <th></th>\n      <th>rank</th>\n      <th>song_id</th>\n      <th>rank_month</th>\n    </tr>\n  </thead>\n  <tbody>\n    <tr>\n      <th>0</th>\n      <td>1</td>\n      <td>32224272</td>\n      <td>202001</td>\n    </tr>\n    <tr>\n      <th>1</th>\n      <td>2</td>\n      <td>32313543</td>\n      <td>202001</td>\n    </tr>\n    <tr>\n      <th>2</th>\n      <td>3</td>\n      <td>32273582</td>\n      <td>202001</td>\n    </tr>\n    <tr>\n      <th>3</th>\n      <td>4</td>\n      <td>32183386</td>\n      <td>202001</td>\n    </tr>\n    <tr>\n      <th>4</th>\n      <td>5</td>\n      <td>32228058</td>\n      <td>202001</td>\n    </tr>\n    <tr>\n      <th>...</th>\n      <td>...</td>\n      <td>...</td>\n      <td>...</td>\n    </tr>\n    <tr>\n      <th>1195</th>\n      <td>96</td>\n      <td>32889003</td>\n      <td>202012</td>\n    </tr>\n    <tr>\n      <th>1196</th>\n      <td>97</td>\n      <td>32473998</td>\n      <td>202012</td>\n    </tr>\n    <tr>\n      <th>1197</th>\n      <td>98</td>\n      <td>32725022</td>\n      <td>202012</td>\n    </tr>\n    <tr>\n      <th>1198</th>\n      <td>99</td>\n      <td>32860419</td>\n      <td>202012</td>\n    </tr>\n    <tr>\n      <th>1199</th>\n      <td>100</td>\n      <td>32734372</td>\n      <td>202012</td>\n    </tr>\n  </tbody>\n</table>\n<p>1200 rows × 3 columns</p>\n</div>"
          },
          "metadata": {},
          "execution_count": 26
        }
      ]
    },
    {
      "cell_type": "code",
      "metadata": {
        "id": "YSXR8tSb7l9E",
        "outputId": "d27aac2f-15a1-4584-a19b-a6393f503fd0"
      },
      "source": [
        "df['rank_month'].value_counts()"
      ],
      "execution_count": null,
      "outputs": [
        {
          "output_type": "execute_result",
          "data": {
            "text/plain": [
              "202005    100\n",
              "202002    100\n",
              "202010    100\n",
              "202006    100\n",
              "202011    100\n",
              "202004    100\n",
              "202008    100\n",
              "202007    100\n",
              "202012    100\n",
              "202003    100\n",
              "202001    100\n",
              "202009    100\n",
              "Name: rank_month, dtype: int64"
            ]
          },
          "metadata": {},
          "execution_count": 28
        }
      ]
    },
    {
      "cell_type": "markdown",
      "metadata": {
        "id": "n6VX6X8Z7l9E"
      },
      "source": [
        "### 곡 상세 페이지 정보 수집\n",
        "https://www.melon.com/song/detail.htm?songId=33515010"
      ]
    },
    {
      "cell_type": "code",
      "metadata": {
        "id": "2B6ac-dq7l9E"
      },
      "source": [
        "row_list = []"
      ],
      "execution_count": null,
      "outputs": []
    },
    {
      "cell_type": "code",
      "metadata": {
        "id": "lya4DtZp7l9F",
        "outputId": "afd4a0b9-7247-46f8-ee27-627f52fa35a8"
      },
      "source": [
        "len(row_list)"
      ],
      "execution_count": null,
      "outputs": [
        {
          "data": {
            "text/plain": [
              "0"
            ]
          },
          "execution_count": 9,
          "metadata": {},
          "output_type": "execute_result"
        }
      ]
    },
    {
      "cell_type": "code",
      "metadata": {
        "id": "HeeAcB6z7l9F",
        "outputId": "44cd0cf2-c9ed-4e67-abf2-b966388a8e0e"
      },
      "source": [
        "song_list = df['song_id'].unique()\n",
        "len(song_list)"
      ],
      "execution_count": null,
      "outputs": [
        {
          "output_type": "execute_result",
          "data": {
            "text/plain": [
              "314"
            ]
          },
          "metadata": {},
          "execution_count": 29
        }
      ]
    },
    {
      "cell_type": "code",
      "metadata": {
        "id": "FdR2VJpj7l9F",
        "colab": {
          "referenced_widgets": [
            "8e6c308302274adba050edf31bd44efa"
          ]
        },
        "outputId": "84bb3b9d-e38c-4fec-c2ca-3b730c276bd9"
      },
      "source": [
        "# 상세곡 정보 수집\n",
        "for song_id in tqdm(song_list):\n",
        "\n",
        "    # 곡 페이지로 이동\n",
        "    driver.get(f'https://www.melon.com/song/detail.htm?songId={song_id}')\n",
        "    time.sleep(uniform(4,7))\n",
        "\n",
        "    # html 파싱\n",
        "    req = driver.page_source\n",
        "    soup = BeautifulSoup(req, 'html.parser')\n",
        "\n",
        "    # 노래 제목\n",
        "    title = driver.find_element_by_class_name('song_name').text\n",
        "\n",
        "    # 아티스트 고유 번호와 이름\n",
        "    if soup.find('a',{'class':'artist_name'})==None:\n",
        "        continue\n",
        "    if re.search('goArtistDetail\\(\\'(\\d+)\\'\\)',soup.find('a',{'class':'artist_name'})['href'])!=None:\n",
        "        arti_id = re.search('goArtistDetail\\(\\'(\\d+)\\'\\)',soup.find('a',{'class':'artist_name'})['href']).group(1)\n",
        "    else:\n",
        "        continue\n",
        "    arti_name = soup.find('a',{'class':'artist_name'})['title']\n",
        "\n",
        "    # 앨범 정보 (앨범 고유번호/앨범명, 발매일, 장르)\n",
        "    album_id = re.search('goAlbumDetail\\(\\'(\\d+)\\'\\)',soup.find_all('dd')[0].a['href']).group(1)\n",
        "    album_name = soup.find_all('dd')[0].text\n",
        "    date = soup.find_all('dd')[1].text\n",
        "    genre = soup.find_all('dd')[2].text\n",
        "\n",
        "    # 좋아요 수 / 댓글 수\n",
        "    like = soup.find('span',{'id':'d_like_count'}).text\n",
        "    comm = re.search('\\d',soup.find('span',{'id':'revCnt'}).text).group()\n",
        "\n",
        "    # 가사\n",
        "    try:\n",
        "        lyric = driver.find_element_by_css_selector('#d_video_summary').text\n",
        "    except NoSuchElementException:\n",
        "        print('가사 없음')\n",
        "        continue\n",
        "\n",
        "    # res_dict\n",
        "    res = {'song_id':song_id,'title':title, 'arti_id':arti_id, 'arti_name':arti_name, \\\n",
        "        'album_id':album_id, 'album_name':album_name, 'date':date, 'genre':genre,\\\n",
        "            'like':like, 'comm':comm, 'lyric':lyric}\n",
        "\n",
        "    # merge row\n",
        "    row_list.append(res)"
      ],
      "execution_count": null,
      "outputs": [
        {
          "output_type": "display_data",
          "data": {
            "text/plain": "  0%|          | 0/314 [00:00<?, ?it/s]",
            "application/vnd.jupyter.widget-view+json": {
              "version_major": 2,
              "version_minor": 0,
              "model_id": "8e6c308302274adba050edf31bd44efa"
            }
          },
          "metadata": {}
        },
        {
          "output_type": "stream",
          "name": "stdout",
          "text": [
            "가사 없음\n"
          ]
        }
      ]
    },
    {
      "cell_type": "code",
      "metadata": {
        "id": "EfbmJTxx7l9G",
        "outputId": "615fcfcc-f14f-41f6-af09-843c75236403"
      },
      "source": [
        "row_list"
      ],
      "execution_count": null,
      "outputs": [
        {
          "output_type": "execute_result",
          "data": {
            "text/plain": [
              "라 반드시\\n버텨 보란 듯이\\n방안에 갇힌 누나까지\\n동네의 친구 선생 부장까지\\n유년시절 기억까지\\n아버지 아버지\\n어머니 어머니\\n내가 입던 교복은 다 타버리고 있지\\nEvery time I ride my plan\\n빠르지 네 차보다 더\\n배춧잎 속에 살던 넌\\n속았어 속았어\\nEvery time we were looking for you\\n드디어 찾았어 Ok\\nTricker tricker tricker tricker\\n부어라 비워라\\n부어라 비워라\\n부어라 비워라\\n부어라 비워라\\n부어라 비워라\\n부어라 비워라\\nDo you wanna be the one\\n요동쳐 투쟁의 리듬\\n미래는 광복의 또 다른 이름\\n생기를 잃은\\n이 거리 위에서\\nHigh way\\nFreeway\\nLiberate\\n남겨라 가죽과 이름\\n지켜라 너의 가족 모든 이를\\n광합성을 놓친\\n이 도시 위에서\\nHigh way\\nFreeway\\nLiberate\\nFreedom\\nLet’s Go\\nOk tricker checkin’\\n내 눈알의 색\\n만들어 Track\\nYes I’m always\\n평생을 바쳤던 만큼\\n울려라 Bass\\n울려라 승전보 Ha\\n단물 빠지면은 토사구팽\\n세상에 Say\\n세상에 Say\\nI don’t care 난 너네 우월감 위에서\\n네 선입견 깨버릴 준비해\\n자유를 쥔채 Take is it\\n말대꾸 Take it back\\n투쟁은 또 다른 분쟁을\\n새로운 주제는 만들어 문제를 그렇담\\nBrr ta ta tah\\n절심함 속에서 여기까지 혼자\\nI’m on the new level\\n약이나 팔아라 난 악으로 살아\\n나의 적들에게 Trauma\\n난 개무시 널 개무시\\n찢어발겨 버려 너네 부심\\n작지만 커지는 투쟁의 힘\\n생성시켜 아이들 이끌 힘을\\n머쉬베놈에게 구원자 같은\\n역할 했던 것은 맞아 음악\\n그런데 뭐하나 보여준 거 하나\\n없이 떠들어봐\\n거리에 배째고 누워 난\\nLet’s get it'},\n",
              " {'song_id': '33133799',\n",
              "  'title': '고독하구만 (Feat. 수퍼비) (Prod. GroovyRoom)',\n",
              "  'arti_id': '2745413',\n",
              "  'arti_name': '머쉬베놈 (MUSHVENOM)',\n",
              "  'album_id': '10532919',\n",
              "  'album_name': '쇼미더머니 9 Semi Final',\n",
              "  'date': '2020.12.12',\n",
              "  'genre': '랩/힙합',\n",
              "  'like': '30,989',\n",
              "  'comm': '2',\n",
              "  'lyric': '고독하구만\\nGo독 Go독 Go독 고독하구만\\nGo독 Go독 Go독 고독하구만\\n참말로 고독하구만\\n이젠 내 주머니는 두둑하지만 yeah\\n정말 참말로 고독하구만\\n오 이런 뭐 이런 또 이런\\n세상에 이런 일이 yo\\n똑똑똑똑 계세여 누구여\\n있는 거 아니깐 나와여 누구여\\n성공 그래 인생은 선공\\n작년에 등장해 두둥\\n앞으로 고 하기 위해서\\n더욱 더 독해지거라 고독\\n독도는 우리 땅처럼\\n너무나 당연한 말\\nDon’t talk\\n그놈의 똑똑한 세상과 자식들의 앞에\\n헛똑똑한 머쉬베놈 멋이 밴 놈\\n진정한 머슴애로\\n백만에서 이제는 천만 제조기다\\n3단 기어를 tic tak 박고\\n가방끈보다 중요한 건 바로 기립근\\n교대 나온 너는 뛰거라 이교대를\\n삼대 오백 친 너와\\n달에 오백 번 나\\n그중에 택 1을 하라 한다면\\n누나 고민 따위를 하덜덜 마\\n왜냐면 빠세\\n우리 진짜 고생했어 빠세\\n원래 인생 독고다이니깐\\nOh wow beautiful my life\\n그동안 난 I ran for my life\\n빠세 우리 진짜 고생해서 빠세\\n원래 인생 독고다이니\\n고독하구만\\nGo독 Go독 Go독 고독하구만\\nGo독 Go독 Go독 고독하구만\\n참말로 고독하구만\\n이젠 내 주머니는 두둑하지만 yeah\\n정말 참말로 고독하구만\\n오 이런 뭐 이런 또 이런\\n세상에 이런 일이 yo\\nAll White G-Wagon을 타고\\nriding around my city\\n이게 boss의 삶 Yng & Rich we get it\\n쇼미 더 머니 수퍼비와\\n사람들은 아직도 물어봐\\n진 이유에 대해서 DM\\ndon’t do that\\n근데 오늘 I can’t lose\\n나 두번지고는 안 살아\\nmush가 뒤에\\n피해 피해 피해 이 BEE에\\nGo 독해서 독해진 인생의 비애\\nAll of My Life on the mission\\n내가 만약 뒤로 쓰러짐 백 텀블링\\n앰뷸런스 부르던 철부지\\n예상은 역배였지만 너무 커버림\\n머쉬야 쳐봐 여 더블링\\n아 여깄습니다 더블링\\n이승에서 세종대왕을 벌지만\\n저승에선 염라대왕을 세버림\\nyeah we gon rob this 가요 market\\nVVS 거 제일 많은 새끼\\n하면 나지 알아 파악해\\nHuh Huh\\nyeah I started out with nothin’\\n맨날 따지 비싼 샴페인\\nRap 엄홍길 외로히 top 위\\nHuh Huh\\nOh wow beautiful my life\\n그동안 난\\nI ran for my life\\n빠세 우리 진짜 고생해서 빠세\\n원래 인생 독고다이니\\n고독하구만\\nGo독 Go독 Go독 고독하구만\\nGo독 Go독 Go독 고독하구만\\n참말로 고독하구만\\n이젠 내 주머니는 두둑하지만 yeah\\n정말 참말로 고독하구만\\n오 이런 뭐 이런 또 이런\\n세상에 이런 일이\\n안 본 사이 내 어머니 뒷바라지하다\\n소녀의 기억을 잃었지\\n내게 인생을 즐기란 아버지\\n표정은 고독하시지\\nSing along\\n장례식장에서 마저 자랑거리\\n된 나의 옆에 영정사진 속에\\n웃고 계신 나의 할머니\\n웃긴 놈으로 내가 남는 이유\\n잘난 놈 못 되는 이유\\n평생 쪽을 팔며 사는 이유\\n고독하지만 난\\n문제야 문제\\n아가 내는 문제\\n풀 준비를 해\\n다음 주까지 숙제\\n난 지켜 hip-hop을 위해\\nyeah yeah yeah\\n이 심장도 내 yeah yeah yeah\\nGONZO가 내게\\n맡기고 떠난 걸 해내기 위해\\n힙합 이전에\\n나를 위해서\\n배 째라던 식에서 베테랑 됐어\\n허나 얻은 만큼 잃은 게 많아서\\n배고픔 여전히 계속\\n내 다이아몬드는 씬을 빛내기 위해서\\n근데 난 과녁판 됐어 칼이 온대도\\n야마 또 신념을 지켜\\n진정 내 편 없나 고독하구만\\n네 가족 요구로 없애 네 커리어\\n버르장머리를 재개조 21개월을\\n거치고 거치며\\n나는 또\\n현자로 레벨업\\n너 같은 애는 제대로 맛보기로\\n보여줘 you won’t get it 내게 내게로\\n지금 당장\\nlet’s get it on\\n전에도 말했듯 이젠 네 자리로 돌아가\\n화장실 변기통\\n참말로 고독하구만\\n이젠 내 주머니는 두둑하지만 yeah\\n정말 참말로 고독하구만\\n오 이런 뭐 이런 또 이런\\n세상에 이런 일이 yo\\n고독하구만'},\n",
              " {'song_id': '33067476',\n",
              "  'title': 'Black Mamba',\n",
              "  'arti_id': '2899555',\n",
              "  'arti_name': 'aespa',\n",
              "  'album_id': '10519346',\n",
              "  'album_name': 'Black Mamba',\n",
              "  'date': '2020.11.17',\n",
              "  'genre': '댄스',\n",
              "  'like': '50,995',\n",
              "  'comm': '2',\n",
              "  'lyric': 'I’m addicted\\n끊임없이\\n말을 걸어주는\\n나의 에스파\\n이런 교감,\\n너의 존잰 날\\n다른 차원으로\\n이끌었지\\n\\n난 세상 중심에\\nYou’re in the FLAT\\n내 모든 Action\\n어린 너의 힘을 키워\\n\\n넌 언젠가부터 SYNK out\\n노이즈같이 보여\\n더 이상 못 찾겠어\\n널 유혹해 삼킨 건\\nBlack Mamba\\n\\nMa Ma Ma Mamba\\nWoo oh-oh\\nMa Ma Ma Mamba\\nOh eh-o eh-o\\n\\n넌 광야를 떠돌고 있어\\n(Aya ya ya ya ya ya)\\n나의 분신을 찾고 싶어\\n(Aya ya ya ya ya ya)\\nHey Ma Mamba\\n\\nI hate Ma Ma Ma Mamba\\nHate Ma Ma Ma Mamba\\n\\nI’m ejected\\n선함 만으론\\n너의 거대함을 이기지 못해\\nI’m exhausted\\n너의 존잰 모든\\n탐욕들을 먹고 자라 났지\\n\\n에스파는 나야\\n둘이 될 수 없어\\nMonochrome to colors\\n이건 Evo, Evolution\\n\\nOh! 위험한 장난을 쳐\\n매혹적이지만 널\\n부정할 밖에\\n모든 걸 삼켜버릴\\nBlack Mamba\\n\\nMa Ma Ma Mamba\\nWoo oh-oh\\nMa Ma Ma Mamba\\nOh eh-o eh-o\\n\\n넌 광야를 떠돌고 있어\\n(Aya ya ya ya ya ya)\\n네게 맞서 난 질 수 없어\\n(Aya ya ya ya ya ya)\\nHey Ma Mamba\\n\\n거울 속의 나는 네가 아닐까?\\n일그러져버린 환영인 걸까?\\n다시 너와 연결될 수 있다면\\n너를 만나고 싶어 이제\\n모든 걸 삼켜버릴\\nBlack Mamba\\n\\nMa Ma Ma Mamba\\nWoo oh-oh\\nMa Ma Ma Mamba\\nOh eh-o eh-o\\n\\n넌 광야를 떠돌고 있어\\n(Aya ya ya ya ya ya)\\n네게 맞서 난 질 수 없어\\n(Aya ya ya ya ya ya)\\nHey Ma Mamba'},\n",
              " {'song_id': '33150997',\n",
              "  'title': 'CREDIT (Feat. 염따, 기리보이, Zion.T)',\n",
              "  'arti_id': '623251',\n",
              "  'arti_name': '릴보이 (lIlBOI)',\n",
              "  'album_id': '10536658',\n",
              "  'album_name': '쇼미더머니 9 Final',\n",
              "  'date': '2020.12.19',\n",
              "  'genre': '랩/힙합',\n",
              "  'like': '59,402',\n",
              "  'comm': '8',\n",
              "  'lyric': \"요즘 들어 바쁘게 시간을 보냈지\\n아끼던 내 신발 색이 바랬으니\\n불과 몇 달 만에\\n많은 것이 변했나 봐\\n너는 내게 찾아와서 물어\\nHow you feel\\nWell I feel love I feel blessed\\n과분하게 많이 받은 것 같아\\n지금까지 날 도와준 이들\\n이름 하나하나\\n빠짐없이 여기에 남기기로 했지\\n이곳에 오기 전에\\n난 그저 방구석에서\\n변하는 게 무서웠기에 두꺼운\\n이불을 덮어놨네\\n의사 선생님이 말했지\\n조금은 다를지\\n몰라도 Gotta see yourself\\n당연한 말이지만은\\n난 기준을 남에게\\n뒀었지 I know\\n이제서야 주변을 봐\\n지금껏 남은 친구들과\\n떠나지 않은 사람들 모두를\\n기억해 나는 이 곡에다가\\n너무 늦게 말을 건네\\n넌 당연하게 웃어줬네\\nbut I can never right my wrongs\\n적어두지 않는다면\\n적어놨네 Credit\\n고마웠던 사람들에게\\n너무 많은 Page\\n네가 나올 때까지 읽었으면 해\\nBaby it’s your birthday\\n괜찮아 오늘은 내가 몰래 낼게\\n네가 말해 전부 다 얼마\\nWe like\\nfast cars fast money\\n시간은 눈 깜짝할 사이\\n빨리 흘러가지\\n어제 자주 듣던 노래 역시\\n내일이 오면 잊혀져\\n내 사진도 흐릿해져 가지\\n많이 했던 고민도 어느덧\\n생각조차 안 나고\\n하나도 거슬리지 않게\\n유지해 핸드폰의 매너 모드\\nCuz I know that\\n나는 조금도\\n특별하지 않아 정말로\\nbut I don't wanna die young\\n바람처럼 왔다 가긴 싫어 절대\\n아무도 날 몰라봤을 때를 난 기억해\\n나는 원해 영원히 남기를\\n너의 기억 속에\\n이 막이 내리고 음악이 흐르면\\n모두 떠나가겠지만 잠시 남아줘\\n짧은 영화라고\\n너는 느낄 수도 있지만\\n스쳐가는 많은 이름 어딘가에\\nI might be in your\\nCredit\\n고마웠던 사람들에게\\n너무 많은 Page\\n네가 나올 때까지 읽었으면 해\\nBaby it’s your birthday\\n괜찮아 오늘은 내가 몰래 낼게\\n네가 말해 전부 다 얼마\\n죽일 듯이 화를 내도\\n내일이면 전부 식어\\n싫어도 뭐 어쩌겠어 이게 나의 직업\\n미소 지어 웃음꽃 담배 피워 죽은 목\\n술을 먹고 분을 토해\\n침대 누워 잠을 청해\\n잠이 안 와 어제 했던\\n멍청했던 실수 덕에\\n음이 나간 내 인생은\\n작곡가의 짐을 더해\\n정리해봐 Credit 오토튠은 우리 가족\\n좋은 노래였었구나\\n이제서야 음이 맞아\\nI might be on your credit\\n참아 왔지 너무 오래\\n아쉬워 눈물이 흘러\\n내린대도 속이 편할지도 몰라\\n검은 화면 속의 Credit\\nI’ll be waiting\\nfor the happy ending\\n올라가는 수많은 이름들 사이\\n난 기도해\\n끝이 아니길\\nI wish I make it till the last day\\nI wish I make it till the last day\\nI wish I make it till the last day\\nI wish I make it till the last\"},\n",
              " {'song_id': '33077589',\n",
              "  'title': '윈윈 (Feat. 개코, BewhY) (Prod. BewhY)',\n",
              "  'arti_id': '2190397',\n",
              "  'arti_name': '허성현 (Huh!)',\n",
              "  'album_id': '10521601',\n",
              "  'album_name': '쇼미더머니 9 Episode 1',\n",
              "  'date': '2020.11.21',\n",
              "  'genre': '랩/힙합',\n",
              "  'like': '29,180',\n",
              "  'comm': '9',\n",
              "  'lyric': \"ready get set huh 떨림은 익숙해져\\n걔네랑 비슷했던\\n이기는 거 말곤 모르던 놈이 변해서\\n지켜내지 patience\\n그게 나라 믿고 살아온지가 벌써\\n스물 넘어가면서 쏟아 전력\\n아빠회사에서 나는 주인공 huh\\n오늘은 내가 아니라 우리여 pilot\\n일당백 우리가 이기면 돼\\n하던대로 win 하고 win 하면 돼\\n지는 건 내 사전엔 없어\\n대체불가능하게 해\\n이 순간을 바래 매일\\nI'm ballin' day tona with steal\\nwe mobbin' 이제야 이뤄내\\nin daily 더 바쁘겠네\\n가뿐하게 finally we made it\\nI'm feeling like n분의 1\\n전혀 아쉽지가않아 그래 하나도\\n지금의 난 내가 날 이기는게\\n먼저인 걸 알아도\\n난 두번다신 안들어갈것만같아\\n지하방 now we here\\n난 두번다신 안들어가\\n지하방 잘봐 이젠 now we win\\n매일 걷는 길에\\n얻은 모든 기회\\n우리 무대 위에\\n가슴은 웅장해지네\\n혼자서는 외로워\\nBut I feel like we go up\\n모두 같이 들어 컵\\n일어서봐\\n그게 윈윈하는거야 윈윈\\n승리 comin’ with me\\n같이 윈윈하는거야 윈윈\\nYeahh Champagne sippin’\\n재료만 던져 우린 최고가\\n그린그림으로 채워가 제목만\\nwin이 아닌 wininng\\n깊이 빌린 시간 되돌리지\\n벤자민 버튼같이 같이\\ntake your time\\n어떤게 나오겠어 내 입에서\\n금같은 존재가 네 앞에 있어\\n불안들은 다와가 쏠게 레이저\\nwe major 아마 때로\\n낫지 않은 흉터에 빛이 안들어도\\n각자 승리가 있지 come thru\\n다른 코너에 몰려도 이뤄\\n한 가지의 완벽한 이 모습\\n자만 아닌 자신감 속도는 가속\\n옛날의 내가 아냐 잠시 봐도\\n우린 준비했어 완전한 반전\\n꼭 받고싶어 만점에 만점\\n모노로 기록해가\\n기억해 난 모든 순간 oo ah\\n마스크를 맨날\\n써서 가려졌지만 이길거야 금방\\n너가 걷는 길이 이미 희미 해졌다고\\n미리 속단 하지마 될게 너의 힘이\\n심의는 내 shimmy shimmy 혀로\\n잘랐으니 우리는 쉽게 이기지\\nwin win ah\\n가오가이 feel like J\\n깨 깨 저 바위한테 우리 바로 보를 내\\n내게 다 얘기해 가오가인 너의 믿을맨\\n서롤 믿을때 시스템이 움직일테니\\n삐긋대다 삐- 걸리지마 리미테이션\\n힘이 들 때 핑계는 지긋해\\n시급이 더 시급할땐\\n알바를 리스펙 huh\\n내 흙수저 니 흙수저 맛이 똑같어\\n떼를 쓰고 때려침 암것도 안 바뀌어\\n나는 이길거야 금수저를 쥘거야\\n결국 호평동을 만들거야 종로3가로\\n이기자 출신 가오가이 군필\\n나는야 진짜 사나이\\n예비역 부심 이길람 따라와\\n내 심장 이따만 하지\\n마스크를 쓰는 우린 짐 캐리\\n서로의 짐을 하드 캐리해\\n마스크를 다시 벗는 그 날\\n얼굴 마주보며 다 웃겠지 헤헤\\n마치 짠듯이 멍청한 척 보란듯이\\n지워내자 사전 속에 자유라는 단어를\\n모두 이기는 싸움이라면 나도 바로\\n떼어낼게 내 이름 앞에 가오를\\n매일 걷는 길에\\n얻은 모든 기회\\n우리 무대 위에\\n가슴은 웅장해지네\\n혼자서는 외로워\\nBut I feel like we go up\\n모두 같이 들어 컵\\n일어서봐\\n그게 윈윈하는거야 윈윈\\n승리 comin’ with me\\n같이 윈윈하는거야 윈윈\\nYeahh Champagne sippin’\\n승리는 sweet\\nwon을 위해서 난 win\\n순간의 유혹은 스킵\\n지금의 고난 가뿐히 버팀\\n윈윈\\n이겨내 내 과거\\n무너뜨려 LIKE 도미노\\n시기는 내 시기를 도륙\\n끝낼 시기지 내 표류\\n승리는 sweet\\n선택은 free\\n행복은 이젠 내 손에\\n이기는 힘을 여태껏 기른\\n시기들은 앨범에 들어있으니\\n여기에서는 나를 펼쳐\\n깃발은 나를 위해 펄럭\\n조금은 두려울 수 있어도\\n마지막을 위해 나의 전부를 던져\\ni feel like daddy\\n아침에 알람 벨이\\n울리면 난 괜히\\n태양이 와있지 않는\\n나의 아침의 잠을 이긴 다음\\n이 밤이 가기전에\\n나 이긴다면 지나간 날의 나를\\n승리는 sweet\\nwon이 되지 내 win\\nbenz 되지 내 whip\\nis gotta be foriegn\\nso call me up\\n밤을 새지 all night long\\n이젠 이겨낼 타이밍\\n매일 걷는 길에\\n얻은 모든 기회\\n우리 무대 위에\\n가슴은 웅장해지네\\n혼자서는 외로워\\nBut I feel like we go up\\n모두 같이 들어 컵\\n일어서봐\\n그게 윈윈하는거야 윈윈\\n승리 comin’ with me\\n같이 윈윈하는거야 윈윈\\nYeahh Champagne sippin’\"},\n",
              " {'song_id': '33150993',\n",
              "  'title': 'ON AIR (Feat. 로꼬, 박재범 & GRAY)',\n",
              "  'arti_id': '623251',\n",
              "  'arti_name': '릴보이 (lIlBOI)',\n",
              "  'album_id': '10536658',\n",
              "  'album_name': '쇼미더머니 9 Final',\n",
              "  'date': '2020.12.19',\n",
              "  'genre': '랩/힙합',\n",
              "  'like': '40,990',\n",
              "  'comm': '5',\n",
              "  'lyric': \"woh I'm on air\\n구름 위 걸어 다녀 매일\\nhunnit dolla bills in my pocket\\n허나 발걸음만은 가볍게\\n5년 전과는 다른 위치\\n다른 state of mind\\n잃을 게 많아 보이긴 하지만\\n사실 i don't care\\naye say hello to my little\\nfriend like woh\\n시간이 지나도 I'm on it on it\\n굴린 적 없지 내 잔머린 머리\\n꽤 오래 자리를 비웠었지만\\n너도 알잖아 나의 랩은 iconic\\n그레이 형의 BEAT\\n이건 family business\\n불을 더 지피지 we gotta keep it real\\n다시 뭉쳤지 Team AOMG\\n커져버린 덩치 think this is the one\\n어느새 여기까지 이제야 보여 멀리까지\\n정확히 기억하지\\n끝나고 집에 돌아가던 날이\\n오늘은 점을 찍고\\n제대로 돌아가려 하지\\nsame team same squad\\nbut different day\\n바뀐 게 있다면 직접 보길 원해\\n새로운 역사를 난 이뤄내지\\nso come see me live now\\nWe on air\\nYou're bout to watch me dance\\n올라가지 We go way up\\n구름 위에서 난 헤엄\\n시간이 들었지만\\n어차피 우승은 내 말마따나 음\\n위험해 위험해 생방\\n불구덩이 내 자리 맡아놔\\n5년 전에 그린 TV 속의 팀\\n돌아왔다 각 풀어진 채로\\n막 수경으로 만기\\n다시 I can be your party band\\nIn everywhere 난 groovy\\n아직도 걔네들은 멍청하더라\\n꼭 이래 보여줘야 불식\\n재빨리 사격 중지 괜찮아\\n맘 편하게 먹어 지긋이\\nAOMG 박재범이\\n아직까지도 의리로 대하듯이\\n나의 수입 I don’t know I don’t know\\n이제서야 다음 단계로 건강 걱정\\n눈에 들어오지도 않는 마름모\\n가벼움이 목적이 됐지\\n산뜻하게 머리카락 한 번 더 자르고\\n다시 또 쇼미더머니\\n릴보이 전화 한 통에\\n빨간 불빛 켜지면서\\nLet's go\\nWe on air\\nYou're bout to watch me dance\\n올라가지 We go way up\\n구름 위에서 난 헤엄\\nI’m on air\\n니네가 탑 클라스면 I’m God Tier\\n2010년부터 매해 It’s my year\\nclassic like Illmatic like I’m Nasir\\n아옴그 하이어 없이 못 돌아가는 건 쇼미\\n난 그 두 레이블의 CEO지\\n완벽한 story\\n혁우가 날 보고 의리를 배웠지\\n그게 큰형님\\n여전히 yeah I’m still\\non that boss shit huh\\n하이어 컴필 들어봐 mob shit huh\\n밑바닥 허슬 존나 빡세 huh\\n뭐든 처리해 알아 쨔샤 huh\\n미래 회장님 난 entrepreneur\\n원 소주 내년 출시 예정 pour up\\n떠날 때 경례를 보내 no hatin\\n전설이 돼가 나는 노란 Jay-Z\\nJay-Z never change\\nGrind grind on the daily\\n몇십억을 거절해 그게 FLEX\\n나의 그림 계속 커가\\n성공이 나의 개인기\\nEntertainment & Sports Worldwide\\n누가 우리를 제대로 대표해\\ndoin' that part\\nlet me tell you\\nBTS 봉준호 손흥민 Jay Park\\nLet's go\\nyeah walkin' on air\\n구름 위를 걷는 기분\\ngoin' up already there\\nyeah focus on me\\n모든 카메라가 나를 향하네\\noh where they at\\nmagic carpet ride\\n멀리 날아가\\nhocus pocus now\\nyeah yeah yeah yeah\\n현실에 부딪혀도\\n꿈이 있었기에 가능\\nwhen i was a little boy\\n인생은 짧지만 예술은 길어\\n오늘 밤에 모든 기를 부어\\nZion.T와 기리보이\\n아옴그와 릴보이\\nJay Park GRAY 로꼬\\n우승은 릴보이\\n승리의 세리머니\\n손가락 반지에 뽀뽀\\nWe on air\\nYou're bout to watch me dance\\n올라가지 We go way up\\n구름 위에서 난 헤엄\\nWe on air\\nYou're bout to watch me dance\\n올라가지 We go way up\\n구름 위에서 난 헤엄\"},\n",
              " {'song_id': '33139117',\n",
              "  'title': 'What Do I Call You',\n",
              "  'arti_id': '236797',\n",
              "  'arti_name': '태연 (TAEYEON)',\n",
              "  'album_id': '10534079',\n",
              "  'album_name': 'What Do I Call You - The 4th Mini Album',\n",
              "  'date': '2020.12.15',\n",
              "  'genre': 'R&B/Soul',\n",
              "  'like': '68,667',\n",
              "  'comm': '1',\n",
              "  'lyric': 'Hello 넌 stranger\\n남은 건 별로 없어\\nmemories, memories, memories\\n안녕이라 했는데\\n왜 넌 내 옆에 있어\\n그대로 그대로 그대로\\n\\n어색했던 공기에\\n웃음이 났어 왜\\n너무 가까웠던\\n내 것이었던\\nmy honey\\nmy daisy\\n\\nWhat do I call you\\n남이잖아\\n별일 없던 척\\n말을 거나\\n그렇게 꼭 껴안았는데\\nSo what do I call you now\\n\\nWhat do I call you\\n이럴 때엔\\n이름이 역시\\n무난할까\\n내 연인이었던\\nmy honey\\nmy daisy\\nmy only\\nSo what do I call you now\\n\\n복잡한 밤이야\\n기대 반 장난 너를\\n불러내 불러내 불러내\\n날 데리러 온 네게 기대\\n생각해 궁금해\\n적당한 거리란 건 뭘까\\n\\nCause this isn’t natural\\n널 매일 보는 걸\\n이젠 아는 사람\\n내 것이었던\\nmy honey\\nmy daisy\\n\\nWhat do I call you\\n남이잖아\\n별일 없던 척\\n말을 거나\\n그렇게 꼭 껴안았는데\\nSo what do I call you now\\n\\nWhat do I call you\\n이럴 때엔\\n이름이 역시\\n무난할까\\n내 연인이었던\\nmy honey\\nmy daisy\\nmy only\\nSo what do I call you now\\n\\n모든 게 달라졌는데\\n편하진 않은데\\n넌 내 옆에 있고\\n이제는 널 뭐라 부를까\\nmy baby\\nmy honey\\nmy daisy\\nmy only\\n\\nDa da da da da da da da\\nDa da da da da da da da\\nDa da da da da da da da\\n\\nSo what do I call you now\\n\\nDa da da da da da da da\\nDa da da da da da da da\\nDa da da da da da da da\\n\\nSo what do I call you now\\n\\nWhat do I call you\\n남이잖아\\n이름이 역시\\n무난할까\\n그렇게 꼭 껴안았는데\\nSo what do I call you now'},\n",
              " {'song_id': '33120545',\n",
              "  'title': 'Panorama',\n",
              "  'arti_id': '2398653',\n",
              "  'arti_name': 'IZ*ONE (아이즈원)',\n",
              "  'album_id': '10530160',\n",
              "  'album_name': 'One-reeler / Act IV',\n",
              "  'date': '2020.12.07',\n",
              "  'genre': '댄스',\n",
              "  'like': '66,167',\n",
              "  'comm': '2',\n",
              "  'lyric': \"Shoot! Take a Panorama\\n\\n바람 끝에 찾아온 작은 기억\\n귓가에 퍼지는 깊은 울림 Ring my bell\\n아름다운 내 맘을 한가득 담아서\\n조금씩 은은히 줄거야\\n\\n너와 나 손끝이 닿을 때 Eyes on me\\n내 맘이 들린다면 더 크게 외쳐줘\\n조용히 시작된 한편의 Drama야\\n간직했던 조각들을 펼쳐\\n\\n다시 한번 지나가는 그때 계절의 풍경\\n못다 한 우리 이야기\\n꿈일까 싶어 멈추지 않게\\n두 눈을 감고 느껴봐 이 순간\\nShoot! Take a Panorama\\n\\n깊은 어둠 속 빛나는 별처럼\\n우린 어디서든 서로 알아볼 수 있어\\n눈부신 Spotlight 너와 나 그 맘 속에\\n영원히 피어날 찬란한 이 순간\\nLike Like a Panorama\\n\\n끝도 없이 두근대\\n내 맘 변하지 않아 지금 같이 가자\\n너에게만 보여줄게 끝도 없는 Fantasia\\n내 맘 휘 휘감아 Panorama\\n\\n기억의 문을 열어 저 푸른 언덕 위에\\n무지개 집으로 초대할게 밤에는 Campfire\\n아쉬움 남지 않게 내게 전부 보여줘\\n빛으로 물든 지금 영원해\\n\\n너의 꿈에 데려가 줘 Take on me\\n작은 숨결 하나하나 놓치기 싫은 걸\\n다 담아 둘 거야 너무나 특별해서\\n네 눈 속에 반짝이는 Starlight\\n\\n다시 한번 지나가는 그때 계절의 풍경\\n못다 한 우리 이야기\\n꿈일까 싶어 멈추지 않게\\n두 눈을 감고 느껴봐 이 순간\\nShoot! Take a Panorama\\n\\n깊은 어둠 속 빛나는 별처럼\\n우린 어디서든 서로 알아볼 수 있어\\n눈부신 Spotlight 너와 나 그 맘 속에\\n영원히 피어날 찬란한 이 순간\\nLike Like a Panorama\\n\\n끝도 없이 두근대\\n내 맘 변하지 않아 지금 같이 가자\\n너에게만 보여줄게 끝도 없는 Fantasia\\n내 맘 휘 휘감아 Panorama\\n\\n바라봐 줘 언제나 언제나 하나 될 우리\\n처음 만난 그 순간처럼 가슴이 두근대\\n우린 끝없이 연결돼 있는 걸\\n이제 같이 날아가\\n\\n깊은 어둠 속 빛나는 별처럼\\n우린 어디서든 서로 알아볼 수 있어\\n눈부신 Spotlight 너와 나 그 맘 속에\\n영원히 피어날 찬란한 이 순간\\nLike Like a Panorama\\n\\n하늘 넘어 날아가\\n온 세상에 이 목소리 퍼지게\\n찰나의 순간 떠올라 다 보여줄 거야\\n영원히 기억해 약속\\nDon't let me down Down Down\"},\n",
              " {'song_id': '33077238',\n",
              "  'title': '잠시',\n",
              "  'arti_id': '672375',\n",
              "  'arti_name': '방탄소년단',\n",
              "  'album_id': '10521521',\n",
              "  'album_name': 'BE',\n",
              "  'date': '2020.11.20',\n",
              "  'genre': '랩/힙합',\n",
              "  'like': '101,807',\n",
              "  'comm': '1',\n",
              "  'lyric': '매번 같은 하루들 중에\\n너를 만날 때 가장 난 행복해\\n매번 다른 일상들 속에\\n너란 사람은 내게 가장 특별해\\n\\n별일은 없지\\n아픈 곳은 없겠지\\n난 요즘에 글쎄\\n붕 떠 버린 것 같아\\n많은 시간 덕에\\n이런 노랠 쓰네\\n이건 너를 위한 노래\\nYeah 노래 yeah 노래\\n\\n자 떠나자 푸른 바다로\\n우리가 함께 뛰어놀던 저 푸른 바다로\\n괜한 걱정들은 잠시\\n내려놓은 채로 잠시\\n우리끼리 즐겨보자 함께 추억하는\\n푸른 바다 한가운데 작은 섬\\n\\n비록 지금은 멀어졌어도\\n우리 마음만은 똑같잖아\\n내 곁에 네가 없어도 yeah\\n네 곁에 내가 없어도 yeah\\n우린 함께인 걸 다 알잖아\\n\\n매번 같은 하루들 중에\\n너를 만날 때 가장 난 행복해\\n매번 다른 일상들 속에\\n너란 사람은 내게 가장 특별해\\n\\n아침 들풀처럼 일어나\\n거울처럼 난 너를 확인\\n눈꼽 대신 너만 묻었다 잔뜩\\n또 무겁다 멍 많은 무르팍이\\n거릴 거닐며 생각해 이 별이\\n허락해 주는 우리의 거리\\nOh can I be your Bibilly Hills\\nLike you did the same to me\\n(Baby)\\n\\n너무 빠른 건 조금 위험해\\n너무 느린 건 조금 지루해\\n너무 빠르지도 않게\\n또는 느리지도 않게\\n우리의 속도에 맞춰 가보자고\\n이건 꽤나 긴 즐거운 롤러코스터\\n\\n비록 지금은 멀어졌어도\\n우리 마음만은 똑같잖아\\n내 곁에 네가 없어도 yeah\\n네 곁에 내가 없어도 yeah\\n우린 함께인 걸 다 알잖아\\n\\n매번 같은 하루들 중에\\n너를 만날 때 가장 난 행복해\\n매번 다른 일상들 속에\\n너란 사람은 내게 가장 특별해'},\n",
              " {'song_id': '33129712',\n",
              "  'title': '잘할게',\n",
              "  'arti_id': '58793',\n",
              "  'arti_name': '이승기',\n",
              "  'album_id': '10532045',\n",
              "  'album_name': 'The Project',\n",
              "  'date': '2020.12.10',\n",
              "  'genre': '발라드',\n",
              "  'like': '28,417',\n",
              "  'comm': '2',\n",
              "  'lyric': '우우우우 우우우우우\\n우우우우 그게 잘 안돼 그게 잘 안돼\\n우우우우 우우우우우\\n우우우우 내게 돌아와 oh babe\\n술 취해 전화하면 안 되는 걸\\n알면서도 잘 안돼\\n이젠 널 놓아줘야 한다는 걸\\n알면서도 잘 안돼\\n울지 말아야지 말아야지\\n하면서도 잘 안돼\\n그게 잘 안돼 다시 돌아와 줘\\n잘 할게 oh babe\\n저녁 8시 집으로 가는 길\\n또 마음이 흔들려 가끔씩\\n지난 시간에 울컥해\\n혼자 술 한 잔에 또 취해\\n누구 없나요 내 얘기 들어줄\\n너무 겁나요 너 없이 모든 게\\n아무리 소리쳐 불러봐도\\n그댄 대답조차 없지만\\n말할 걸 말해줄걸\\n그댈 많이 사랑하고 있다는 걸\\n안개로 가득 찬 이 아침에\\n안을래 너를 품에 더 잘해줄게\\n술 취해 전화하면 안 되는 걸\\n알면서도 잘 안돼\\n이젠 널 놓아줘야 한다는 걸\\n알면서도 잘 안돼\\n울지 말아야지 말아야지\\n하면서도 잘 안돼\\n그게 잘 안돼 다시 돌아와 줘\\n잘 할게 oh babe\\n말할 걸 말해줄걸\\n그댈 많이 사랑하고 있다는 걸\\n안개로 가득 찬 이 아침에\\n안을래 너를 품에 더 잘해줄게\\n술 취해 전화하면 안 되는 걸\\n알면서도 잘 안돼 잘 안돼\\n이젠 널 놓아줘야 한다는 걸\\n알면서도 잘 안돼 후회가 돼\\n울지 말아야지 말아야지\\n하면서도 잘 안돼\\n그게 잘 안돼 다시 돌아와 줘\\n잘할게 oh babe\\n우우우우 우우우우우\\n우우우우 그게 잘 안돼 그게 잘 안돼\\n우우우우 우우우우우\\n우우우우 내게 돌아와 oh babe'},\n",
              " {'song_id': '33077240',\n",
              "  'title': 'Stay',\n",
              "  'arti_id': '672375',\n",
              "  'arti_name': '방탄소년단',\n",
              "  'album_id': '10521521',\n",
              "  'album_name': 'BE',\n",
              "  'date': '2020.11.20',\n",
              "  'genre': '댄스',\n",
              "  'like': '92,229',\n",
              "  'comm': '1',\n",
              "  'lyric': '꿈이었을까\\n널 본 것 같아\\n눈뜨면 다시\\n아무도 없는 방\\n\\n가만히 난 주문을 걸어\\n그 어느 때보다 크게 뛰는 heart\\n이 순간 우리 언제라도 어디 있대도\\nTogether, wherever yeah\\n(Wherever yeah)\\n\\n반복도 복인 것 같아\\n나도 모르겠어 나의 속을\\n널 볼 순 없을까\\n가만히 모아보네 두 손을\\n변하지 않는 내일\\n미친놈처럼 I keep sayin’\\nWherever you are\\nI know you always stay\\n\\n저 구름이 지나간 자리에\\nStay\\n마른 입술로 너에게 말해\\nStay, stay, stay, stay...\\n(Always)\\n\\nYeah I know you always stay\\nYeah I know you always stay\\nYeah I know you always stay\\n\\n찬란한 오늘의\\n그 모두를 위해\\nOh every night and day\\nYeah I know you always stay\\n\\n바로 지금 난 널 생각해\\n니가 어디에 있던지\\n그게 뭐가 중요해\\nWe connect to 7G\\nIt ain’t the end of the world\\nThe present, it shine like a pearl\\n이건 몇 파동에 불과\\n하지만 내가 널 바꿔놓을 거야\\n\\n가만히 난 주문을 걸어\\n그 어느 때보다 밝게 보이는 star\\n이 순간 우린 언제라도 어디 있대도\\nWherever you are\\nI know you always stay\\n\\n저 바람이 지나간 바다에\\nStay\\n굳은 입술로 네게 말을 해\\nStay, stay, stay, stay...\\n(Always)\\n\\nYeah I know you always stay\\nYeah I know you always stay\\nYeah I know you always stay\\n\\n찬란한 오늘의\\n그 모두를 위해\\nOh every night and day\\nYeah I know you always stay\\n\\n찬바람이 불어와\\n손 내밀어 네 숨결을 느껴\\n눈 감은 어느새\\n우린 함께인 걸'},\n",
              " {'song_id': '33077239',\n",
              "  'title': '병',\n",
              "  'arti_id': '672375',\n",
              "  'arti_name': '방탄소년단',\n",
              "  'album_id': '10521521',\n",
              "  'album_name': 'BE',\n",
              "  'date': '2020.11.20',\n",
              "  'genre': '랩/힙합',\n",
              "  'like': '93,037',\n",
              "  'comm': '1',\n",
              "  'lyric': '뭔가 놓친듯해\\n커피 한 모금으로 불안함을 해소\\nAn endless rest\\n내게 갑자기 다가온 불편한 행복\\n24 hours 시간 참 많아\\n하루 종일 잠자도 지금은 no problem\\n몸 부서져라 뭘 해야 할 거 같은데\\n마냥 삼시 세끼 다 먹는 나란 새끼\\n내 죄, 쉬는 내 자신을 물어뜯는 개\\nDon’t do that 외쳐봐도 성과에 목매 매일\\nErrday do ma thang, damn if I fail\\n계속 으르렁대 썩은 동아줄을 tap\\n불안전해 이건 병\\n물리적인 건 직업이 주는 stun!\\n\\nMaybe\\n내가 아파서 그래\\n생각이 많은 탓\\nI hate that\\n단순하지 못한 치기 어린 나\\n나도 참 어려 몸만 어른\\n절뚝거려 인생 걸음\\nOne for the laugh, two for the show\\nJust like I’m so fine\\n\\nEveryday 나를 위로해\\n다 똑같은 사람이야 ain’t so special\\nAy man keep one, two step\\n차분하게 모두 치료해보자고\\n나의 병\\n벼벼벼벼병\\n버려 겁\\n거거거거겁\\n\\n마음에도 방학이 필요해\\n아 그냥 일은 일로 해\\nI’m ill, 그래 내가 일 그 자체\\n쉼이란 친구 oh I never liked him\\n얼마를 벌어야 행복하겠니?\\n이 유리 같은 병이 때리지 니 머리\\n병든 게 세상인지 난지 헷갈려\\n안경을 벗어도 어둠은 안 흐릿해져\\n이 시간 뒤에 어떤 라벨이 붙건\\n부디 그게 전부 너길 바래\\n너의 너, 너\\n\\n다들 병들이 많아 내가 헷갈리는 건\\n인간이란 본디 추악함을 가진다는 것\\n마음의 병의 가짓수들만 400개가 더\\n되는데 해당 안 되는 자 거 별로 없단 것\\nYo 병든 게 세상인지 나인지\\n단순히 바라보는 해석들의 차인지\\n그게 다인지\\nI don’t know 누군가를 바꿔보는 것\\n그것보다 빠른 것은 내가 변화하는 것\\n\\nMaybe\\n내가 아파서 그래\\n생각이 많은 탓\\nI hate that\\n단순하지 못한 치기 어린 나\\n나도 참 어려 몸만 어른\\n절뚝거려 인생 걸음\\nOne for the laugh, two for the show\\nJust like I’m so fine\\n\\nEveryday 나를 위로해\\n다 똑같은 사람이야 ain’t so special\\nAy man keep one, two step\\n차분하게 모두 치료해보자고\\n나의 병\\n벼벼벼벼병\\n버려 겁\\n거거거거겁\\n\\n(Sick & tired)\\nBut I don’t wanna mess up\\nCause life goes on\\n(Through the fire)\\n걸어갈게 더 나답게 woah\\n(Walk it, walk it, walk it)\\n밤이 되면 내 두 눈 감고서\\n(Walk it, walk it, walk it)\\n내가 알던 날 다시 믿을래\\n\\n자 일어나 one more time\\n다시 아침이야 오늘을 나야 해\\n가보자고 one more night\\n이 끝에 뭐가 있을지 몰라 ayy\\n영원한 밤은 없어\\n난 강해졌어\\n불꽃이 터져\\nI will never fade away\\n\\nEveryday 나를 위로해\\n다 똑같은 사람이야 ain’t so special\\nAy man keep one, two step\\n차분하게 모두 치료해 보자고\\n나의 병\\n벼벼벼벼벼 병\\n버려 겁\\n거거거거거 겁\\n버려 겁겁겁 버려'},\n",
              " {'song_id': '33107649',\n",
              "  'title': '그날에 나는 맘이 편했을까',\n",
              "  'arti_id': '718655',\n",
              "  'arti_name': '이예준',\n",
              "  'album_id': '10527955',\n",
              "  'album_name': '그날에 나는 맘이 편했을까',\n",
              "  'date': '2020.12.03',\n",
              "  'genre': '발라드',\n",
              "  'like': '49,956',\n",
              "  'comm': '1',\n",
              "  'lyric': '늘 똑같은 일로 싸우다 지친 우리\\n끝날 때 됐나 봐\\n너답지 않던 모습 더는\\n지켜보기 힘들었어\\n다시 주워 담기 힘든 말들\\n쏟아내고 집에 돌아왔어\\n그날에 나는 맘이 편했을까\\n다신 안 보겠단 각오로\\n니가 못한 숙제 한 거잖아\\n나는 사랑이 필요해\\n이만큼 아프면 충분해\\n니가 핀 담배만큼 난 울었어\\n니가 가장 듣기 싫어했던\\n얘기들만 뱉어내고 왔어\\n그날에 나는 맘이 편했을까\\n다신 안 보겠단 각오로\\n니가 못한 숙제 한 거잖아\\n나는 사랑이 필요해\\n이만큼 아프면 충분해\\n니가 핀 담배만큼 난 울었어\\n상처받았다고 말하지 말아줘\\n나를 더욱더 사랑해줬더라면\\n아니 처음부터 만나지 말았다면\\n행복했을까\\n정말 널 미워해서 이랬을까\\n이렇게까지 해서라도\\n우릴 되돌리고 싶었는데\\n나를 떠나는 이유가\\n너는 필요했던 거니까\\n내가 그 이유를 만들어줄게\\n미안한 마음들 갖지 않도록'}]"
            ]
          },
          "metadata": {},
          "execution_count": 33
        }
      ]
    },
    {
      "cell_type": "code",
      "metadata": {
        "id": "5q2hdoI_7l9G",
        "outputId": "a97496df-b842-4e45-e1c8-00310c652f60"
      },
      "source": [
        "df_song = pd.DataFrame(row_list)\n",
        "df_song"
      ],
      "execution_count": null,
      "outputs": [
        {
          "output_type": "execute_result",
          "data": {
            "text/plain": [
              "      song_id                                   title arti_id  \\\n",
              "0    32224272                                  METEOR  774900   \n",
              "1    32313543                                    아무노래  602056   \n",
              "2    32273582                                  Psycho  780066   \n",
              "3    32183386                                Blueming  261143   \n",
              "4    32228058  아마두 (feat.우원재, 김효은, 넉살, Huckleberry P)  202530   \n",
              "..        ...                                     ...     ...   \n",
              "308  33077238                                      잠시  672375   \n",
              "309  33129712                                     잘할게   58793   \n",
              "310  33077240                                    Stay  672375   \n",
              "311  33077239                                       병  672375   \n",
              "312  33107649                          그날에 나는 맘이 편했을까  718655   \n",
              "\n",
              "             arti_name  album_id                  album_name        date  \\\n",
              "0         창모 (CHANGMO)  10359162                     Boyhood  2019.11.29   \n",
              "1            지코 (ZICO)  10375118                        아무노래  2020.01.13   \n",
              "2    Red Velvet (레드벨벳)  10368053  ‘The ReVe Festival’ Finale  2019.12.23   \n",
              "3                  아이유  10346650                   Love poem  2019.11.18   \n",
              "4                   염따  10359994     Dingo X DAMOIM (Part 2)  2019.12.03   \n",
              "..                 ...       ...                         ...         ...   \n",
              "308              방탄소년단  10521521                          BE  2020.11.20   \n",
              "309                이승기  10532045                 The Project  2020.12.10   \n",
              "310              방탄소년단  10521521                          BE  2020.11.20   \n",
              "311              방탄소년단  10521521                          BE  2020.11.20   \n",
              "312                이예준  10527955              그날에 나는 맘이 편했을까  2020.12.03   \n",
              "\n",
              "    genre     like comm                                              lyric  \n",
              "0    랩/힙합  261,343    5  Yeah ha\\nYeah ha\\nYeah ha\\nYeah ha\\nYeah ha\\nY...  \n",
              "1    랩/힙합  256,285    3  왜들 그리 다운돼있어\\n뭐가 문제야 say something\\n분위기가 겁나 싸해\\...  \n",
              "2      댄스  213,754    6  Psycho\\n\\n널 어쩌면 좋을까\\n이런 맘은 또 첨이라\\nUp & Down이 좀...  \n",
              "3    록/메탈  307,057    2  ‘뭐해?‘라는 두 글자에\\n‘네가 보고 싶어’ 나의 속마음을 담아 우\\n이모티콘 하...  \n",
              "4    랩/힙합  155,752    3  어 그래 얘들아\\n사는게 개같지\\n내 얼굴도 개같지 뭐얌\\n근데도 부자가 됐다\\n세...  \n",
              "..    ...      ...  ...                                                ...  \n",
              "308  랩/힙합  101,807    1  매번 같은 하루들 중에\\n너를 만날 때 가장 난 행복해\\n매번 다른 일상들 속에\\n...  \n",
              "309   발라드   28,417    2  우우우우 우우우우우\\n우우우우 그게 잘 안돼 그게 잘 안돼\\n우우우우 우우우우우\\n...  \n",
              "310    댄스   92,229    1  꿈이었을까\\n널 본 것 같아\\n눈뜨면 다시\\n아무도 없는 방\\n\\n가만히 난 주문을...  \n",
              "311  랩/힙합   93,037    1  뭔가 놓친듯해\\n커피 한 모금으로 불안함을 해소\\nAn endless rest\\n내...  \n",
              "312   발라드   49,956    1  늘 똑같은 일로 싸우다 지친 우리\\n끝날 때 됐나 봐\\n너답지 않던 모습 더는\\n지...  \n",
              "\n",
              "[313 rows x 11 columns]"
            ],
            "text/html": "<div>\n<style scoped>\n    .dataframe tbody tr th:only-of-type {\n        vertical-align: middle;\n    }\n\n    .dataframe tbody tr th {\n        vertical-align: top;\n    }\n\n    .dataframe thead th {\n        text-align: right;\n    }\n</style>\n<table border=\"1\" class=\"dataframe\">\n  <thead>\n    <tr style=\"text-align: right;\">\n      <th></th>\n      <th>song_id</th>\n      <th>title</th>\n      <th>arti_id</th>\n      <th>arti_name</th>\n      <th>album_id</th>\n      <th>album_name</th>\n      <th>date</th>\n      <th>genre</th>\n      <th>like</th>\n      <th>comm</th>\n      <th>lyric</th>\n    </tr>\n  </thead>\n  <tbody>\n    <tr>\n      <th>0</th>\n      <td>32224272</td>\n      <td>METEOR</td>\n      <td>774900</td>\n      <td>창모 (CHANGMO)</td>\n      <td>10359162</td>\n      <td>Boyhood</td>\n      <td>2019.11.29</td>\n      <td>랩/힙합</td>\n      <td>261,343</td>\n      <td>5</td>\n      <td>Yeah ha\\nYeah ha\\nYeah ha\\nYeah ha\\nYeah ha\\nY...</td>\n    </tr>\n    <tr>\n      <th>1</th>\n      <td>32313543</td>\n      <td>아무노래</td>\n      <td>602056</td>\n      <td>지코 (ZICO)</td>\n      <td>10375118</td>\n      <td>아무노래</td>\n      <td>2020.01.13</td>\n      <td>랩/힙합</td>\n      <td>256,285</td>\n      <td>3</td>\n      <td>왜들 그리 다운돼있어\\n뭐가 문제야 say something\\n분위기가 겁나 싸해\\...</td>\n    </tr>\n    <tr>\n      <th>2</th>\n      <td>32273582</td>\n      <td>Psycho</td>\n      <td>780066</td>\n      <td>Red Velvet (레드벨벳)</td>\n      <td>10368053</td>\n      <td>‘The ReVe Festival’ Finale</td>\n      <td>2019.12.23</td>\n      <td>댄스</td>\n      <td>213,754</td>\n      <td>6</td>\n      <td>Psycho\\n\\n널 어쩌면 좋을까\\n이런 맘은 또 첨이라\\nUp &amp; Down이 좀...</td>\n    </tr>\n    <tr>\n      <th>3</th>\n      <td>32183386</td>\n      <td>Blueming</td>\n      <td>261143</td>\n      <td>아이유</td>\n      <td>10346650</td>\n      <td>Love poem</td>\n      <td>2019.11.18</td>\n      <td>록/메탈</td>\n      <td>307,057</td>\n      <td>2</td>\n      <td>‘뭐해?‘라는 두 글자에\\n‘네가 보고 싶어’ 나의 속마음을 담아 우\\n이모티콘 하...</td>\n    </tr>\n    <tr>\n      <th>4</th>\n      <td>32228058</td>\n      <td>아마두 (feat.우원재, 김효은, 넉살, Huckleberry P)</td>\n      <td>202530</td>\n      <td>염따</td>\n      <td>10359994</td>\n      <td>Dingo X DAMOIM (Part 2)</td>\n      <td>2019.12.03</td>\n      <td>랩/힙합</td>\n      <td>155,752</td>\n      <td>3</td>\n      <td>어 그래 얘들아\\n사는게 개같지\\n내 얼굴도 개같지 뭐얌\\n근데도 부자가 됐다\\n세...</td>\n    </tr>\n    <tr>\n      <th>...</th>\n      <td>...</td>\n      <td>...</td>\n      <td>...</td>\n      <td>...</td>\n      <td>...</td>\n      <td>...</td>\n      <td>...</td>\n      <td>...</td>\n      <td>...</td>\n      <td>...</td>\n      <td>...</td>\n    </tr>\n    <tr>\n      <th>308</th>\n      <td>33077238</td>\n      <td>잠시</td>\n      <td>672375</td>\n      <td>방탄소년단</td>\n      <td>10521521</td>\n      <td>BE</td>\n      <td>2020.11.20</td>\n      <td>랩/힙합</td>\n      <td>101,807</td>\n      <td>1</td>\n      <td>매번 같은 하루들 중에\\n너를 만날 때 가장 난 행복해\\n매번 다른 일상들 속에\\n...</td>\n    </tr>\n    <tr>\n      <th>309</th>\n      <td>33129712</td>\n      <td>잘할게</td>\n      <td>58793</td>\n      <td>이승기</td>\n      <td>10532045</td>\n      <td>The Project</td>\n      <td>2020.12.10</td>\n      <td>발라드</td>\n      <td>28,417</td>\n      <td>2</td>\n      <td>우우우우 우우우우우\\n우우우우 그게 잘 안돼 그게 잘 안돼\\n우우우우 우우우우우\\n...</td>\n    </tr>\n    <tr>\n      <th>310</th>\n      <td>33077240</td>\n      <td>Stay</td>\n      <td>672375</td>\n      <td>방탄소년단</td>\n      <td>10521521</td>\n      <td>BE</td>\n      <td>2020.11.20</td>\n      <td>댄스</td>\n      <td>92,229</td>\n      <td>1</td>\n      <td>꿈이었을까\\n널 본 것 같아\\n눈뜨면 다시\\n아무도 없는 방\\n\\n가만히 난 주문을...</td>\n    </tr>\n    <tr>\n      <th>311</th>\n      <td>33077239</td>\n      <td>병</td>\n      <td>672375</td>\n      <td>방탄소년단</td>\n      <td>10521521</td>\n      <td>BE</td>\n      <td>2020.11.20</td>\n      <td>랩/힙합</td>\n      <td>93,037</td>\n      <td>1</td>\n      <td>뭔가 놓친듯해\\n커피 한 모금으로 불안함을 해소\\nAn endless rest\\n내...</td>\n    </tr>\n    <tr>\n      <th>312</th>\n      <td>33107649</td>\n      <td>그날에 나는 맘이 편했을까</td>\n      <td>718655</td>\n      <td>이예준</td>\n      <td>10527955</td>\n      <td>그날에 나는 맘이 편했을까</td>\n      <td>2020.12.03</td>\n      <td>발라드</td>\n      <td>49,956</td>\n      <td>1</td>\n      <td>늘 똑같은 일로 싸우다 지친 우리\\n끝날 때 됐나 봐\\n너답지 않던 모습 더는\\n지...</td>\n    </tr>\n  </tbody>\n</table>\n<p>313 rows × 11 columns</p>\n</div>"
          },
          "metadata": {},
          "execution_count": 34
        }
      ]
    },
    {
      "cell_type": "code",
      "metadata": {
        "id": "NqlV1dF57l9G",
        "outputId": "0fd65956-01be-48ea-a043-6935666fa8df"
      },
      "source": [
        "df_song['like'] = df_song['like'].str.replace(',','').astype(int)\n",
        "df_song['comm'] = df_song['comm'].str.replace(',','').astype(int)"
      ],
      "execution_count": null,
      "outputs": [
        {
          "output_type": "error",
          "ename": "AttributeError",
          "evalue": "Can only use .str accessor with string values!",
          "traceback": [
            "\u001b[0;31m---------------------------------------------------------------------------\u001b[0m",
            "\u001b[0;31mAttributeError\u001b[0m                            Traceback (most recent call last)",
            "\u001b[0;32m<ipython-input-36-d569f2e4ca37>\u001b[0m in \u001b[0;36m<module>\u001b[0;34m\u001b[0m\n\u001b[0;32m----> 1\u001b[0;31m \u001b[0mdf_song\u001b[0m\u001b[0;34m[\u001b[0m\u001b[0;34m'like'\u001b[0m\u001b[0;34m]\u001b[0m \u001b[0;34m=\u001b[0m \u001b[0mdf_song\u001b[0m\u001b[0;34m[\u001b[0m\u001b[0;34m'like'\u001b[0m\u001b[0;34m]\u001b[0m\u001b[0;34m.\u001b[0m\u001b[0mstr\u001b[0m\u001b[0;34m.\u001b[0m\u001b[0mreplace\u001b[0m\u001b[0;34m(\u001b[0m\u001b[0;34m','\u001b[0m\u001b[0;34m,\u001b[0m\u001b[0;34m''\u001b[0m\u001b[0;34m)\u001b[0m\u001b[0;34m.\u001b[0m\u001b[0mastype\u001b[0m\u001b[0;34m(\u001b[0m\u001b[0mint\u001b[0m\u001b[0;34m)\u001b[0m\u001b[0;34m\u001b[0m\u001b[0;34m\u001b[0m\u001b[0m\n\u001b[0m\u001b[1;32m      2\u001b[0m \u001b[0mdf_song\u001b[0m\u001b[0;34m[\u001b[0m\u001b[0;34m'comm'\u001b[0m\u001b[0;34m]\u001b[0m \u001b[0;34m=\u001b[0m \u001b[0mdf_song\u001b[0m\u001b[0;34m[\u001b[0m\u001b[0;34m'comm'\u001b[0m\u001b[0;34m]\u001b[0m\u001b[0;34m.\u001b[0m\u001b[0mstr\u001b[0m\u001b[0;34m.\u001b[0m\u001b[0mreplace\u001b[0m\u001b[0;34m(\u001b[0m\u001b[0;34m','\u001b[0m\u001b[0;34m,\u001b[0m\u001b[0;34m''\u001b[0m\u001b[0;34m)\u001b[0m\u001b[0;34m.\u001b[0m\u001b[0mastype\u001b[0m\u001b[0;34m(\u001b[0m\u001b[0mint\u001b[0m\u001b[0;34m)\u001b[0m\u001b[0;34m\u001b[0m\u001b[0;34m\u001b[0m\u001b[0m\n",
            "\u001b[0;32m~/.conda/envs/python38/lib/python3.8/site-packages/pandas/core/generic.py\u001b[0m in \u001b[0;36m__getattr__\u001b[0;34m(self, name)\u001b[0m\n\u001b[1;32m   5459\u001b[0m             \u001b[0;32mor\u001b[0m \u001b[0mname\u001b[0m \u001b[0;32min\u001b[0m \u001b[0mself\u001b[0m\u001b[0;34m.\u001b[0m\u001b[0m_accessors\u001b[0m\u001b[0;34m\u001b[0m\u001b[0;34m\u001b[0m\u001b[0m\n\u001b[1;32m   5460\u001b[0m         ):\n\u001b[0;32m-> 5461\u001b[0;31m             \u001b[0;32mreturn\u001b[0m \u001b[0mobject\u001b[0m\u001b[0;34m.\u001b[0m\u001b[0m__getattribute__\u001b[0m\u001b[0;34m(\u001b[0m\u001b[0mself\u001b[0m\u001b[0;34m,\u001b[0m \u001b[0mname\u001b[0m\u001b[0;34m)\u001b[0m\u001b[0;34m\u001b[0m\u001b[0;34m\u001b[0m\u001b[0m\n\u001b[0m\u001b[1;32m   5462\u001b[0m         \u001b[0;32melse\u001b[0m\u001b[0;34m:\u001b[0m\u001b[0;34m\u001b[0m\u001b[0;34m\u001b[0m\u001b[0m\n\u001b[1;32m   5463\u001b[0m             \u001b[0;32mif\u001b[0m \u001b[0mself\u001b[0m\u001b[0;34m.\u001b[0m\u001b[0m_info_axis\u001b[0m\u001b[0;34m.\u001b[0m\u001b[0m_can_hold_identifiers_and_holds_name\u001b[0m\u001b[0;34m(\u001b[0m\u001b[0mname\u001b[0m\u001b[0;34m)\u001b[0m\u001b[0;34m:\u001b[0m\u001b[0;34m\u001b[0m\u001b[0;34m\u001b[0m\u001b[0m\n",
            "\u001b[0;32m~/.conda/envs/python38/lib/python3.8/site-packages/pandas/core/accessor.py\u001b[0m in \u001b[0;36m__get__\u001b[0;34m(self, obj, cls)\u001b[0m\n\u001b[1;32m    178\u001b[0m             \u001b[0;31m# we're accessing the attribute of the class, i.e., Dataset.geo\u001b[0m\u001b[0;34m\u001b[0m\u001b[0;34m\u001b[0m\u001b[0;34m\u001b[0m\u001b[0m\n\u001b[1;32m    179\u001b[0m             \u001b[0;32mreturn\u001b[0m \u001b[0mself\u001b[0m\u001b[0;34m.\u001b[0m\u001b[0m_accessor\u001b[0m\u001b[0;34m\u001b[0m\u001b[0;34m\u001b[0m\u001b[0m\n\u001b[0;32m--> 180\u001b[0;31m         \u001b[0maccessor_obj\u001b[0m \u001b[0;34m=\u001b[0m \u001b[0mself\u001b[0m\u001b[0;34m.\u001b[0m\u001b[0m_accessor\u001b[0m\u001b[0;34m(\u001b[0m\u001b[0mobj\u001b[0m\u001b[0;34m)\u001b[0m\u001b[0;34m\u001b[0m\u001b[0;34m\u001b[0m\u001b[0m\n\u001b[0m\u001b[1;32m    181\u001b[0m         \u001b[0;31m# Replace the property with the accessor object. Inspired by:\u001b[0m\u001b[0;34m\u001b[0m\u001b[0;34m\u001b[0m\u001b[0;34m\u001b[0m\u001b[0m\n\u001b[1;32m    182\u001b[0m         \u001b[0;31m# https://www.pydanny.com/cached-property.html\u001b[0m\u001b[0;34m\u001b[0m\u001b[0;34m\u001b[0m\u001b[0;34m\u001b[0m\u001b[0m\n",
            "\u001b[0;32m~/.conda/envs/python38/lib/python3.8/site-packages/pandas/core/strings/accessor.py\u001b[0m in \u001b[0;36m__init__\u001b[0;34m(self, data)\u001b[0m\n\u001b[1;32m    152\u001b[0m         \u001b[0;32mfrom\u001b[0m \u001b[0mpandas\u001b[0m\u001b[0;34m.\u001b[0m\u001b[0mcore\u001b[0m\u001b[0;34m.\u001b[0m\u001b[0marrays\u001b[0m\u001b[0;34m.\u001b[0m\u001b[0mstring_\u001b[0m \u001b[0;32mimport\u001b[0m \u001b[0mStringDtype\u001b[0m\u001b[0;34m\u001b[0m\u001b[0;34m\u001b[0m\u001b[0m\n\u001b[1;32m    153\u001b[0m \u001b[0;34m\u001b[0m\u001b[0m\n\u001b[0;32m--> 154\u001b[0;31m         \u001b[0mself\u001b[0m\u001b[0;34m.\u001b[0m\u001b[0m_inferred_dtype\u001b[0m \u001b[0;34m=\u001b[0m \u001b[0mself\u001b[0m\u001b[0;34m.\u001b[0m\u001b[0m_validate\u001b[0m\u001b[0;34m(\u001b[0m\u001b[0mdata\u001b[0m\u001b[0;34m)\u001b[0m\u001b[0;34m\u001b[0m\u001b[0;34m\u001b[0m\u001b[0m\n\u001b[0m\u001b[1;32m    155\u001b[0m         \u001b[0mself\u001b[0m\u001b[0;34m.\u001b[0m\u001b[0m_is_categorical\u001b[0m \u001b[0;34m=\u001b[0m \u001b[0mis_categorical_dtype\u001b[0m\u001b[0;34m(\u001b[0m\u001b[0mdata\u001b[0m\u001b[0;34m.\u001b[0m\u001b[0mdtype\u001b[0m\u001b[0;34m)\u001b[0m\u001b[0;34m\u001b[0m\u001b[0;34m\u001b[0m\u001b[0m\n\u001b[1;32m    156\u001b[0m         \u001b[0mself\u001b[0m\u001b[0;34m.\u001b[0m\u001b[0m_is_string\u001b[0m \u001b[0;34m=\u001b[0m \u001b[0misinstance\u001b[0m\u001b[0;34m(\u001b[0m\u001b[0mdata\u001b[0m\u001b[0;34m.\u001b[0m\u001b[0mdtype\u001b[0m\u001b[0;34m,\u001b[0m \u001b[0mStringDtype\u001b[0m\u001b[0;34m)\u001b[0m\u001b[0;34m\u001b[0m\u001b[0;34m\u001b[0m\u001b[0m\n",
            "\u001b[0;32m~/.conda/envs/python38/lib/python3.8/site-packages/pandas/core/strings/accessor.py\u001b[0m in \u001b[0;36m_validate\u001b[0;34m(data)\u001b[0m\n\u001b[1;32m    215\u001b[0m \u001b[0;34m\u001b[0m\u001b[0m\n\u001b[1;32m    216\u001b[0m         \u001b[0;32mif\u001b[0m \u001b[0minferred_dtype\u001b[0m \u001b[0;32mnot\u001b[0m \u001b[0;32min\u001b[0m \u001b[0mallowed_types\u001b[0m\u001b[0;34m:\u001b[0m\u001b[0;34m\u001b[0m\u001b[0;34m\u001b[0m\u001b[0m\n\u001b[0;32m--> 217\u001b[0;31m             \u001b[0;32mraise\u001b[0m \u001b[0mAttributeError\u001b[0m\u001b[0;34m(\u001b[0m\u001b[0;34m\"Can only use .str accessor with string values!\"\u001b[0m\u001b[0;34m)\u001b[0m\u001b[0;34m\u001b[0m\u001b[0;34m\u001b[0m\u001b[0m\n\u001b[0m\u001b[1;32m    218\u001b[0m         \u001b[0;32mreturn\u001b[0m \u001b[0minferred_dtype\u001b[0m\u001b[0;34m\u001b[0m\u001b[0;34m\u001b[0m\u001b[0m\n\u001b[1;32m    219\u001b[0m \u001b[0;34m\u001b[0m\u001b[0m\n",
            "\u001b[0;31mAttributeError\u001b[0m: Can only use .str accessor with string values!"
          ]
        }
      ]
    },
    {
      "cell_type": "code",
      "metadata": {
        "id": "LwTpjkWi7l9G"
      },
      "source": [
        "df_song['date'] = pd.to_datetime(df_song['date'])"
      ],
      "execution_count": null,
      "outputs": []
    },
    {
      "cell_type": "code",
      "metadata": {
        "id": "hhFkELMj7l9G",
        "outputId": "b30d569a-843a-491f-bcd8-79f8a5ede7ae"
      },
      "source": [
        "# merge\n",
        "df_merged = df.merge(df_song,how='right',on='song_id')\n",
        "df_merged"
      ],
      "execution_count": null,
      "outputs": [
        {
          "output_type": "execute_result",
          "data": {
            "text/plain": [
              "     rank   song_id rank_month           title arti_id     arti_name  \\\n",
              "0       1  32224272     202001          METEOR  774900  창모 (CHANGMO)   \n",
              "1       2  32224272     202002          METEOR  774900  창모 (CHANGMO)   \n",
              "2       5  32224272     202003          METEOR  774900  창모 (CHANGMO)   \n",
              "3       9  32224272     202004          METEOR  774900  창모 (CHANGMO)   \n",
              "4      13  32224272     202005          METEOR  774900  창모 (CHANGMO)   \n",
              "...   ...       ...        ...             ...     ...           ...   \n",
              "1191   83  33077238     202012              잠시  672375         방탄소년단   \n",
              "1192   86  33129712     202012             잘할게   58793           이승기   \n",
              "1193   92  33077240     202012            Stay  672375         방탄소년단   \n",
              "1194   93  33077239     202012               병  672375         방탄소년단   \n",
              "1195   94  33107649     202012  그날에 나는 맘이 편했을까  718655           이예준   \n",
              "\n",
              "      album_id      album_name       date genre    like  comm  \\\n",
              "0     10359162         Boyhood 2019-11-29  랩/힙합  261343     5   \n",
              "1     10359162         Boyhood 2019-11-29  랩/힙합  261343     5   \n",
              "2     10359162         Boyhood 2019-11-29  랩/힙합  261343     5   \n",
              "3     10359162         Boyhood 2019-11-29  랩/힙합  261343     5   \n",
              "4     10359162         Boyhood 2019-11-29  랩/힙합  261343     5   \n",
              "...        ...             ...        ...   ...     ...   ...   \n",
              "1191  10521521              BE 2020-11-20  랩/힙합  101807     1   \n",
              "1192  10532045     The Project 2020-12-10   발라드   28417     2   \n",
              "1193  10521521              BE 2020-11-20    댄스   92229     1   \n",
              "1194  10521521              BE 2020-11-20  랩/힙합   93037     1   \n",
              "1195  10527955  그날에 나는 맘이 편했을까 2020-12-03   발라드   49956     1   \n",
              "\n",
              "                                                  lyric  \n",
              "0     Yeah ha\\nYeah ha\\nYeah ha\\nYeah ha\\nYeah ha\\nY...  \n",
              "1     Yeah ha\\nYeah ha\\nYeah ha\\nYeah ha\\nYeah ha\\nY...  \n",
              "2     Yeah ha\\nYeah ha\\nYeah ha\\nYeah ha\\nYeah ha\\nY...  \n",
              "3     Yeah ha\\nYeah ha\\nYeah ha\\nYeah ha\\nYeah ha\\nY...  \n",
              "4     Yeah ha\\nYeah ha\\nYeah ha\\nYeah ha\\nYeah ha\\nY...  \n",
              "...                                                 ...  \n",
              "1191  매번 같은 하루들 중에\\n너를 만날 때 가장 난 행복해\\n매번 다른 일상들 속에\\n...  \n",
              "1192  우우우우 우우우우우\\n우우우우 그게 잘 안돼 그게 잘 안돼\\n우우우우 우우우우우\\n...  \n",
              "1193  꿈이었을까\\n널 본 것 같아\\n눈뜨면 다시\\n아무도 없는 방\\n\\n가만히 난 주문을...  \n",
              "1194  뭔가 놓친듯해\\n커피 한 모금으로 불안함을 해소\\nAn endless rest\\n내...  \n",
              "1195  늘 똑같은 일로 싸우다 지친 우리\\n끝날 때 됐나 봐\\n너답지 않던 모습 더는\\n지...  \n",
              "\n",
              "[1196 rows x 13 columns]"
            ],
            "text/html": "<div>\n<style scoped>\n    .dataframe tbody tr th:only-of-type {\n        vertical-align: middle;\n    }\n\n    .dataframe tbody tr th {\n        vertical-align: top;\n    }\n\n    .dataframe thead th {\n        text-align: right;\n    }\n</style>\n<table border=\"1\" class=\"dataframe\">\n  <thead>\n    <tr style=\"text-align: right;\">\n      <th></th>\n      <th>rank</th>\n      <th>song_id</th>\n      <th>rank_month</th>\n      <th>title</th>\n      <th>arti_id</th>\n      <th>arti_name</th>\n      <th>album_id</th>\n      <th>album_name</th>\n      <th>date</th>\n      <th>genre</th>\n      <th>like</th>\n      <th>comm</th>\n      <th>lyric</th>\n    </tr>\n  </thead>\n  <tbody>\n    <tr>\n      <th>0</th>\n      <td>1</td>\n      <td>32224272</td>\n      <td>202001</td>\n      <td>METEOR</td>\n      <td>774900</td>\n      <td>창모 (CHANGMO)</td>\n      <td>10359162</td>\n      <td>Boyhood</td>\n      <td>2019-11-29</td>\n      <td>랩/힙합</td>\n      <td>261343</td>\n      <td>5</td>\n      <td>Yeah ha\\nYeah ha\\nYeah ha\\nYeah ha\\nYeah ha\\nY...</td>\n    </tr>\n    <tr>\n      <th>1</th>\n      <td>2</td>\n      <td>32224272</td>\n      <td>202002</td>\n      <td>METEOR</td>\n      <td>774900</td>\n      <td>창모 (CHANGMO)</td>\n      <td>10359162</td>\n      <td>Boyhood</td>\n      <td>2019-11-29</td>\n      <td>랩/힙합</td>\n      <td>261343</td>\n      <td>5</td>\n      <td>Yeah ha\\nYeah ha\\nYeah ha\\nYeah ha\\nYeah ha\\nY...</td>\n    </tr>\n    <tr>\n      <th>2</th>\n      <td>5</td>\n      <td>32224272</td>\n      <td>202003</td>\n      <td>METEOR</td>\n      <td>774900</td>\n      <td>창모 (CHANGMO)</td>\n      <td>10359162</td>\n      <td>Boyhood</td>\n      <td>2019-11-29</td>\n      <td>랩/힙합</td>\n      <td>261343</td>\n      <td>5</td>\n      <td>Yeah ha\\nYeah ha\\nYeah ha\\nYeah ha\\nYeah ha\\nY...</td>\n    </tr>\n    <tr>\n      <th>3</th>\n      <td>9</td>\n      <td>32224272</td>\n      <td>202004</td>\n      <td>METEOR</td>\n      <td>774900</td>\n      <td>창모 (CHANGMO)</td>\n      <td>10359162</td>\n      <td>Boyhood</td>\n      <td>2019-11-29</td>\n      <td>랩/힙합</td>\n      <td>261343</td>\n      <td>5</td>\n      <td>Yeah ha\\nYeah ha\\nYeah ha\\nYeah ha\\nYeah ha\\nY...</td>\n    </tr>\n    <tr>\n      <th>4</th>\n      <td>13</td>\n      <td>32224272</td>\n      <td>202005</td>\n      <td>METEOR</td>\n      <td>774900</td>\n      <td>창모 (CHANGMO)</td>\n      <td>10359162</td>\n      <td>Boyhood</td>\n      <td>2019-11-29</td>\n      <td>랩/힙합</td>\n      <td>261343</td>\n      <td>5</td>\n      <td>Yeah ha\\nYeah ha\\nYeah ha\\nYeah ha\\nYeah ha\\nY...</td>\n    </tr>\n    <tr>\n      <th>...</th>\n      <td>...</td>\n      <td>...</td>\n      <td>...</td>\n      <td>...</td>\n      <td>...</td>\n      <td>...</td>\n      <td>...</td>\n      <td>...</td>\n      <td>...</td>\n      <td>...</td>\n      <td>...</td>\n      <td>...</td>\n      <td>...</td>\n    </tr>\n    <tr>\n      <th>1191</th>\n      <td>83</td>\n      <td>33077238</td>\n      <td>202012</td>\n      <td>잠시</td>\n      <td>672375</td>\n      <td>방탄소년단</td>\n      <td>10521521</td>\n      <td>BE</td>\n      <td>2020-11-20</td>\n      <td>랩/힙합</td>\n      <td>101807</td>\n      <td>1</td>\n      <td>매번 같은 하루들 중에\\n너를 만날 때 가장 난 행복해\\n매번 다른 일상들 속에\\n...</td>\n    </tr>\n    <tr>\n      <th>1192</th>\n      <td>86</td>\n      <td>33129712</td>\n      <td>202012</td>\n      <td>잘할게</td>\n      <td>58793</td>\n      <td>이승기</td>\n      <td>10532045</td>\n      <td>The Project</td>\n      <td>2020-12-10</td>\n      <td>발라드</td>\n      <td>28417</td>\n      <td>2</td>\n      <td>우우우우 우우우우우\\n우우우우 그게 잘 안돼 그게 잘 안돼\\n우우우우 우우우우우\\n...</td>\n    </tr>\n    <tr>\n      <th>1193</th>\n      <td>92</td>\n      <td>33077240</td>\n      <td>202012</td>\n      <td>Stay</td>\n      <td>672375</td>\n      <td>방탄소년단</td>\n      <td>10521521</td>\n      <td>BE</td>\n      <td>2020-11-20</td>\n      <td>댄스</td>\n      <td>92229</td>\n      <td>1</td>\n      <td>꿈이었을까\\n널 본 것 같아\\n눈뜨면 다시\\n아무도 없는 방\\n\\n가만히 난 주문을...</td>\n    </tr>\n    <tr>\n      <th>1194</th>\n      <td>93</td>\n      <td>33077239</td>\n      <td>202012</td>\n      <td>병</td>\n      <td>672375</td>\n      <td>방탄소년단</td>\n      <td>10521521</td>\n      <td>BE</td>\n      <td>2020-11-20</td>\n      <td>랩/힙합</td>\n      <td>93037</td>\n      <td>1</td>\n      <td>뭔가 놓친듯해\\n커피 한 모금으로 불안함을 해소\\nAn endless rest\\n내...</td>\n    </tr>\n    <tr>\n      <th>1195</th>\n      <td>94</td>\n      <td>33107649</td>\n      <td>202012</td>\n      <td>그날에 나는 맘이 편했을까</td>\n      <td>718655</td>\n      <td>이예준</td>\n      <td>10527955</td>\n      <td>그날에 나는 맘이 편했을까</td>\n      <td>2020-12-03</td>\n      <td>발라드</td>\n      <td>49956</td>\n      <td>1</td>\n      <td>늘 똑같은 일로 싸우다 지친 우리\\n끝날 때 됐나 봐\\n너답지 않던 모습 더는\\n지...</td>\n    </tr>\n  </tbody>\n</table>\n<p>1196 rows × 13 columns</p>\n</div>"
          },
          "metadata": {},
          "execution_count": 38
        }
      ]
    },
    {
      "cell_type": "code",
      "metadata": {
        "id": "c8wFzUiW7l9G"
      },
      "source": [
        "# df.to_pickle('2010s_melon_rank.pkl')\n",
        "# df_song.to_pickle('2010s_melon_rank_song.pkl')\n",
        "# df_merged.to_pickle('2010s_melon_rank_song_merged.pkl')\n",
        "\n",
        "df.to_pickle('2020_melon_rank.pkl')\n",
        "df_song.to_pickle('2020_melon_rank_song.pkl')\n",
        "df_merged.to_pickle('2020_melon_rank_song_merged.pkl')"
      ],
      "execution_count": null,
      "outputs": []
    }
  ]
}